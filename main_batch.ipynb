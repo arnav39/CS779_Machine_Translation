{
  "nbformat": 4,
  "nbformat_minor": 0,
  "metadata": {
    "colab": {
      "provenance": [],
      "gpuType": "T4",
      "authorship_tag": "ABX9TyP4gCau0rjhOJl6OLzBPXCI",
      "include_colab_link": true
    },
    "kernelspec": {
      "name": "python3",
      "display_name": "Python 3"
    },
    "language_info": {
      "name": "python"
    },
    "widgets": {
      "application/vnd.jupyter.widget-state+json": {
        "37eb2d1c1e1a4326ac9a31be1040b122": {
          "model_module": "@jupyter-widgets/controls",
          "model_name": "HBoxModel",
          "model_module_version": "1.5.0",
          "state": {
            "_dom_classes": [],
            "_model_module": "@jupyter-widgets/controls",
            "_model_module_version": "1.5.0",
            "_model_name": "HBoxModel",
            "_view_count": null,
            "_view_module": "@jupyter-widgets/controls",
            "_view_module_version": "1.5.0",
            "_view_name": "HBoxView",
            "box_style": "",
            "children": [
              "IPY_MODEL_7743f882e6bb468280fcf3bf588229ea",
              "IPY_MODEL_23b6f56a45314e8492b8186b5376a281",
              "IPY_MODEL_c50e5cd492af49f3a145ea63821cdf30"
            ],
            "layout": "IPY_MODEL_5b8fbbea78384a8c9408f1cae63fd0ee"
          }
        },
        "7743f882e6bb468280fcf3bf588229ea": {
          "model_module": "@jupyter-widgets/controls",
          "model_name": "HTMLModel",
          "model_module_version": "1.5.0",
          "state": {
            "_dom_classes": [],
            "_model_module": "@jupyter-widgets/controls",
            "_model_module_version": "1.5.0",
            "_model_name": "HTMLModel",
            "_view_count": null,
            "_view_module": "@jupyter-widgets/controls",
            "_view_module_version": "1.5.0",
            "_view_name": "HTMLView",
            "description": "",
            "description_tooltip": null,
            "layout": "IPY_MODEL_28f17a0b2c864fdf9517afb236746885",
            "placeholder": "​",
            "style": "IPY_MODEL_515bafb00cba4bf7b7243aa36046f491",
            "value": "100%"
          }
        },
        "23b6f56a45314e8492b8186b5376a281": {
          "model_module": "@jupyter-widgets/controls",
          "model_name": "FloatProgressModel",
          "model_module_version": "1.5.0",
          "state": {
            "_dom_classes": [],
            "_model_module": "@jupyter-widgets/controls",
            "_model_module_version": "1.5.0",
            "_model_name": "FloatProgressModel",
            "_view_count": null,
            "_view_module": "@jupyter-widgets/controls",
            "_view_module_version": "1.5.0",
            "_view_name": "ProgressView",
            "bar_style": "success",
            "description": "",
            "description_tooltip": null,
            "layout": "IPY_MODEL_b351fb480d144dafb99c498d3041c86b",
            "max": 140000,
            "min": 0,
            "orientation": "horizontal",
            "style": "IPY_MODEL_7d5acadab1b74f53a25a511b9a227015",
            "value": 140000
          }
        },
        "c50e5cd492af49f3a145ea63821cdf30": {
          "model_module": "@jupyter-widgets/controls",
          "model_name": "HTMLModel",
          "model_module_version": "1.5.0",
          "state": {
            "_dom_classes": [],
            "_model_module": "@jupyter-widgets/controls",
            "_model_module_version": "1.5.0",
            "_model_name": "HTMLModel",
            "_view_count": null,
            "_view_module": "@jupyter-widgets/controls",
            "_view_module_version": "1.5.0",
            "_view_name": "HTMLView",
            "description": "",
            "description_tooltip": null,
            "layout": "IPY_MODEL_0e9363a37f374236b5700340e882ad4d",
            "placeholder": "​",
            "style": "IPY_MODEL_ff3a560e00d74bc6886c58a89130784e",
            "value": " 140000/140000 [27:02&lt;00:00, 89.64it/s]"
          }
        },
        "5b8fbbea78384a8c9408f1cae63fd0ee": {
          "model_module": "@jupyter-widgets/base",
          "model_name": "LayoutModel",
          "model_module_version": "1.2.0",
          "state": {
            "_model_module": "@jupyter-widgets/base",
            "_model_module_version": "1.2.0",
            "_model_name": "LayoutModel",
            "_view_count": null,
            "_view_module": "@jupyter-widgets/base",
            "_view_module_version": "1.2.0",
            "_view_name": "LayoutView",
            "align_content": null,
            "align_items": null,
            "align_self": null,
            "border": null,
            "bottom": null,
            "display": null,
            "flex": null,
            "flex_flow": null,
            "grid_area": null,
            "grid_auto_columns": null,
            "grid_auto_flow": null,
            "grid_auto_rows": null,
            "grid_column": null,
            "grid_gap": null,
            "grid_row": null,
            "grid_template_areas": null,
            "grid_template_columns": null,
            "grid_template_rows": null,
            "height": null,
            "justify_content": null,
            "justify_items": null,
            "left": null,
            "margin": null,
            "max_height": null,
            "max_width": null,
            "min_height": null,
            "min_width": null,
            "object_fit": null,
            "object_position": null,
            "order": null,
            "overflow": null,
            "overflow_x": null,
            "overflow_y": null,
            "padding": null,
            "right": null,
            "top": null,
            "visibility": null,
            "width": null
          }
        },
        "28f17a0b2c864fdf9517afb236746885": {
          "model_module": "@jupyter-widgets/base",
          "model_name": "LayoutModel",
          "model_module_version": "1.2.0",
          "state": {
            "_model_module": "@jupyter-widgets/base",
            "_model_module_version": "1.2.0",
            "_model_name": "LayoutModel",
            "_view_count": null,
            "_view_module": "@jupyter-widgets/base",
            "_view_module_version": "1.2.0",
            "_view_name": "LayoutView",
            "align_content": null,
            "align_items": null,
            "align_self": null,
            "border": null,
            "bottom": null,
            "display": null,
            "flex": null,
            "flex_flow": null,
            "grid_area": null,
            "grid_auto_columns": null,
            "grid_auto_flow": null,
            "grid_auto_rows": null,
            "grid_column": null,
            "grid_gap": null,
            "grid_row": null,
            "grid_template_areas": null,
            "grid_template_columns": null,
            "grid_template_rows": null,
            "height": null,
            "justify_content": null,
            "justify_items": null,
            "left": null,
            "margin": null,
            "max_height": null,
            "max_width": null,
            "min_height": null,
            "min_width": null,
            "object_fit": null,
            "object_position": null,
            "order": null,
            "overflow": null,
            "overflow_x": null,
            "overflow_y": null,
            "padding": null,
            "right": null,
            "top": null,
            "visibility": null,
            "width": null
          }
        },
        "515bafb00cba4bf7b7243aa36046f491": {
          "model_module": "@jupyter-widgets/controls",
          "model_name": "DescriptionStyleModel",
          "model_module_version": "1.5.0",
          "state": {
            "_model_module": "@jupyter-widgets/controls",
            "_model_module_version": "1.5.0",
            "_model_name": "DescriptionStyleModel",
            "_view_count": null,
            "_view_module": "@jupyter-widgets/base",
            "_view_module_version": "1.2.0",
            "_view_name": "StyleView",
            "description_width": ""
          }
        },
        "b351fb480d144dafb99c498d3041c86b": {
          "model_module": "@jupyter-widgets/base",
          "model_name": "LayoutModel",
          "model_module_version": "1.2.0",
          "state": {
            "_model_module": "@jupyter-widgets/base",
            "_model_module_version": "1.2.0",
            "_model_name": "LayoutModel",
            "_view_count": null,
            "_view_module": "@jupyter-widgets/base",
            "_view_module_version": "1.2.0",
            "_view_name": "LayoutView",
            "align_content": null,
            "align_items": null,
            "align_self": null,
            "border": null,
            "bottom": null,
            "display": null,
            "flex": null,
            "flex_flow": null,
            "grid_area": null,
            "grid_auto_columns": null,
            "grid_auto_flow": null,
            "grid_auto_rows": null,
            "grid_column": null,
            "grid_gap": null,
            "grid_row": null,
            "grid_template_areas": null,
            "grid_template_columns": null,
            "grid_template_rows": null,
            "height": null,
            "justify_content": null,
            "justify_items": null,
            "left": null,
            "margin": null,
            "max_height": null,
            "max_width": null,
            "min_height": null,
            "min_width": null,
            "object_fit": null,
            "object_position": null,
            "order": null,
            "overflow": null,
            "overflow_x": null,
            "overflow_y": null,
            "padding": null,
            "right": null,
            "top": null,
            "visibility": null,
            "width": null
          }
        },
        "7d5acadab1b74f53a25a511b9a227015": {
          "model_module": "@jupyter-widgets/controls",
          "model_name": "ProgressStyleModel",
          "model_module_version": "1.5.0",
          "state": {
            "_model_module": "@jupyter-widgets/controls",
            "_model_module_version": "1.5.0",
            "_model_name": "ProgressStyleModel",
            "_view_count": null,
            "_view_module": "@jupyter-widgets/base",
            "_view_module_version": "1.2.0",
            "_view_name": "StyleView",
            "bar_color": null,
            "description_width": ""
          }
        },
        "0e9363a37f374236b5700340e882ad4d": {
          "model_module": "@jupyter-widgets/base",
          "model_name": "LayoutModel",
          "model_module_version": "1.2.0",
          "state": {
            "_model_module": "@jupyter-widgets/base",
            "_model_module_version": "1.2.0",
            "_model_name": "LayoutModel",
            "_view_count": null,
            "_view_module": "@jupyter-widgets/base",
            "_view_module_version": "1.2.0",
            "_view_name": "LayoutView",
            "align_content": null,
            "align_items": null,
            "align_self": null,
            "border": null,
            "bottom": null,
            "display": null,
            "flex": null,
            "flex_flow": null,
            "grid_area": null,
            "grid_auto_columns": null,
            "grid_auto_flow": null,
            "grid_auto_rows": null,
            "grid_column": null,
            "grid_gap": null,
            "grid_row": null,
            "grid_template_areas": null,
            "grid_template_columns": null,
            "grid_template_rows": null,
            "height": null,
            "justify_content": null,
            "justify_items": null,
            "left": null,
            "margin": null,
            "max_height": null,
            "max_width": null,
            "min_height": null,
            "min_width": null,
            "object_fit": null,
            "object_position": null,
            "order": null,
            "overflow": null,
            "overflow_x": null,
            "overflow_y": null,
            "padding": null,
            "right": null,
            "top": null,
            "visibility": null,
            "width": null
          }
        },
        "ff3a560e00d74bc6886c58a89130784e": {
          "model_module": "@jupyter-widgets/controls",
          "model_name": "DescriptionStyleModel",
          "model_module_version": "1.5.0",
          "state": {
            "_model_module": "@jupyter-widgets/controls",
            "_model_module_version": "1.5.0",
            "_model_name": "DescriptionStyleModel",
            "_view_count": null,
            "_view_module": "@jupyter-widgets/base",
            "_view_module_version": "1.2.0",
            "_view_name": "StyleView",
            "description_width": ""
          }
        },
        "98316cfbc9ec4ed2a6044c1d2ccf9fc3": {
          "model_module": "@jupyter-widgets/controls",
          "model_name": "HBoxModel",
          "model_module_version": "1.5.0",
          "state": {
            "_dom_classes": [],
            "_model_module": "@jupyter-widgets/controls",
            "_model_module_version": "1.5.0",
            "_model_name": "HBoxModel",
            "_view_count": null,
            "_view_module": "@jupyter-widgets/controls",
            "_view_module_version": "1.5.0",
            "_view_name": "HBoxView",
            "box_style": "",
            "children": [
              "IPY_MODEL_79a23afa20cd4410ae08073ac74a5ac8",
              "IPY_MODEL_b57a72cc13ab497ba56744ba8b60604b",
              "IPY_MODEL_278433a24c75451bb9eb588855e7db0f"
            ],
            "layout": "IPY_MODEL_ce97a3875f0d4d3c98afda9a9713d52c"
          }
        },
        "79a23afa20cd4410ae08073ac74a5ac8": {
          "model_module": "@jupyter-widgets/controls",
          "model_name": "HTMLModel",
          "model_module_version": "1.5.0",
          "state": {
            "_dom_classes": [],
            "_model_module": "@jupyter-widgets/controls",
            "_model_module_version": "1.5.0",
            "_model_name": "HTMLModel",
            "_view_count": null,
            "_view_module": "@jupyter-widgets/controls",
            "_view_module_version": "1.5.0",
            "_view_name": "HTMLView",
            "description": "",
            "description_tooltip": null,
            "layout": "IPY_MODEL_0139330c9f46490598d2f3813f90af18",
            "placeholder": "​",
            "style": "IPY_MODEL_e8d4668d0bcf4008bd58dc6e713a279f",
            "value": "100%"
          }
        },
        "b57a72cc13ab497ba56744ba8b60604b": {
          "model_module": "@jupyter-widgets/controls",
          "model_name": "FloatProgressModel",
          "model_module_version": "1.5.0",
          "state": {
            "_dom_classes": [],
            "_model_module": "@jupyter-widgets/controls",
            "_model_module_version": "1.5.0",
            "_model_name": "FloatProgressModel",
            "_view_count": null,
            "_view_module": "@jupyter-widgets/controls",
            "_view_module_version": "1.5.0",
            "_view_name": "ProgressView",
            "bar_style": "success",
            "description": "",
            "description_tooltip": null,
            "layout": "IPY_MODEL_123e80f6eb7f43d0b6c4ae4794d1c9ab",
            "max": 140000,
            "min": 0,
            "orientation": "horizontal",
            "style": "IPY_MODEL_1e26cb907bc14fcea26ff3bfd9718adb",
            "value": 140000
          }
        },
        "278433a24c75451bb9eb588855e7db0f": {
          "model_module": "@jupyter-widgets/controls",
          "model_name": "HTMLModel",
          "model_module_version": "1.5.0",
          "state": {
            "_dom_classes": [],
            "_model_module": "@jupyter-widgets/controls",
            "_model_module_version": "1.5.0",
            "_model_name": "HTMLModel",
            "_view_count": null,
            "_view_module": "@jupyter-widgets/controls",
            "_view_module_version": "1.5.0",
            "_view_name": "HTMLView",
            "description": "",
            "description_tooltip": null,
            "layout": "IPY_MODEL_436f82dc856d45cd8d5345552bcf96ff",
            "placeholder": "​",
            "style": "IPY_MODEL_d8f2631152a0446698e771bd0cf905b5",
            "value": " 140000/140000 [00:10&lt;00:00, 16620.02it/s]"
          }
        },
        "ce97a3875f0d4d3c98afda9a9713d52c": {
          "model_module": "@jupyter-widgets/base",
          "model_name": "LayoutModel",
          "model_module_version": "1.2.0",
          "state": {
            "_model_module": "@jupyter-widgets/base",
            "_model_module_version": "1.2.0",
            "_model_name": "LayoutModel",
            "_view_count": null,
            "_view_module": "@jupyter-widgets/base",
            "_view_module_version": "1.2.0",
            "_view_name": "LayoutView",
            "align_content": null,
            "align_items": null,
            "align_self": null,
            "border": null,
            "bottom": null,
            "display": null,
            "flex": null,
            "flex_flow": null,
            "grid_area": null,
            "grid_auto_columns": null,
            "grid_auto_flow": null,
            "grid_auto_rows": null,
            "grid_column": null,
            "grid_gap": null,
            "grid_row": null,
            "grid_template_areas": null,
            "grid_template_columns": null,
            "grid_template_rows": null,
            "height": null,
            "justify_content": null,
            "justify_items": null,
            "left": null,
            "margin": null,
            "max_height": null,
            "max_width": null,
            "min_height": null,
            "min_width": null,
            "object_fit": null,
            "object_position": null,
            "order": null,
            "overflow": null,
            "overflow_x": null,
            "overflow_y": null,
            "padding": null,
            "right": null,
            "top": null,
            "visibility": null,
            "width": null
          }
        },
        "0139330c9f46490598d2f3813f90af18": {
          "model_module": "@jupyter-widgets/base",
          "model_name": "LayoutModel",
          "model_module_version": "1.2.0",
          "state": {
            "_model_module": "@jupyter-widgets/base",
            "_model_module_version": "1.2.0",
            "_model_name": "LayoutModel",
            "_view_count": null,
            "_view_module": "@jupyter-widgets/base",
            "_view_module_version": "1.2.0",
            "_view_name": "LayoutView",
            "align_content": null,
            "align_items": null,
            "align_self": null,
            "border": null,
            "bottom": null,
            "display": null,
            "flex": null,
            "flex_flow": null,
            "grid_area": null,
            "grid_auto_columns": null,
            "grid_auto_flow": null,
            "grid_auto_rows": null,
            "grid_column": null,
            "grid_gap": null,
            "grid_row": null,
            "grid_template_areas": null,
            "grid_template_columns": null,
            "grid_template_rows": null,
            "height": null,
            "justify_content": null,
            "justify_items": null,
            "left": null,
            "margin": null,
            "max_height": null,
            "max_width": null,
            "min_height": null,
            "min_width": null,
            "object_fit": null,
            "object_position": null,
            "order": null,
            "overflow": null,
            "overflow_x": null,
            "overflow_y": null,
            "padding": null,
            "right": null,
            "top": null,
            "visibility": null,
            "width": null
          }
        },
        "e8d4668d0bcf4008bd58dc6e713a279f": {
          "model_module": "@jupyter-widgets/controls",
          "model_name": "DescriptionStyleModel",
          "model_module_version": "1.5.0",
          "state": {
            "_model_module": "@jupyter-widgets/controls",
            "_model_module_version": "1.5.0",
            "_model_name": "DescriptionStyleModel",
            "_view_count": null,
            "_view_module": "@jupyter-widgets/base",
            "_view_module_version": "1.2.0",
            "_view_name": "StyleView",
            "description_width": ""
          }
        },
        "123e80f6eb7f43d0b6c4ae4794d1c9ab": {
          "model_module": "@jupyter-widgets/base",
          "model_name": "LayoutModel",
          "model_module_version": "1.2.0",
          "state": {
            "_model_module": "@jupyter-widgets/base",
            "_model_module_version": "1.2.0",
            "_model_name": "LayoutModel",
            "_view_count": null,
            "_view_module": "@jupyter-widgets/base",
            "_view_module_version": "1.2.0",
            "_view_name": "LayoutView",
            "align_content": null,
            "align_items": null,
            "align_self": null,
            "border": null,
            "bottom": null,
            "display": null,
            "flex": null,
            "flex_flow": null,
            "grid_area": null,
            "grid_auto_columns": null,
            "grid_auto_flow": null,
            "grid_auto_rows": null,
            "grid_column": null,
            "grid_gap": null,
            "grid_row": null,
            "grid_template_areas": null,
            "grid_template_columns": null,
            "grid_template_rows": null,
            "height": null,
            "justify_content": null,
            "justify_items": null,
            "left": null,
            "margin": null,
            "max_height": null,
            "max_width": null,
            "min_height": null,
            "min_width": null,
            "object_fit": null,
            "object_position": null,
            "order": null,
            "overflow": null,
            "overflow_x": null,
            "overflow_y": null,
            "padding": null,
            "right": null,
            "top": null,
            "visibility": null,
            "width": null
          }
        },
        "1e26cb907bc14fcea26ff3bfd9718adb": {
          "model_module": "@jupyter-widgets/controls",
          "model_name": "ProgressStyleModel",
          "model_module_version": "1.5.0",
          "state": {
            "_model_module": "@jupyter-widgets/controls",
            "_model_module_version": "1.5.0",
            "_model_name": "ProgressStyleModel",
            "_view_count": null,
            "_view_module": "@jupyter-widgets/base",
            "_view_module_version": "1.2.0",
            "_view_name": "StyleView",
            "bar_color": null,
            "description_width": ""
          }
        },
        "436f82dc856d45cd8d5345552bcf96ff": {
          "model_module": "@jupyter-widgets/base",
          "model_name": "LayoutModel",
          "model_module_version": "1.2.0",
          "state": {
            "_model_module": "@jupyter-widgets/base",
            "_model_module_version": "1.2.0",
            "_model_name": "LayoutModel",
            "_view_count": null,
            "_view_module": "@jupyter-widgets/base",
            "_view_module_version": "1.2.0",
            "_view_name": "LayoutView",
            "align_content": null,
            "align_items": null,
            "align_self": null,
            "border": null,
            "bottom": null,
            "display": null,
            "flex": null,
            "flex_flow": null,
            "grid_area": null,
            "grid_auto_columns": null,
            "grid_auto_flow": null,
            "grid_auto_rows": null,
            "grid_column": null,
            "grid_gap": null,
            "grid_row": null,
            "grid_template_areas": null,
            "grid_template_columns": null,
            "grid_template_rows": null,
            "height": null,
            "justify_content": null,
            "justify_items": null,
            "left": null,
            "margin": null,
            "max_height": null,
            "max_width": null,
            "min_height": null,
            "min_width": null,
            "object_fit": null,
            "object_position": null,
            "order": null,
            "overflow": null,
            "overflow_x": null,
            "overflow_y": null,
            "padding": null,
            "right": null,
            "top": null,
            "visibility": null,
            "width": null
          }
        },
        "d8f2631152a0446698e771bd0cf905b5": {
          "model_module": "@jupyter-widgets/controls",
          "model_name": "DescriptionStyleModel",
          "model_module_version": "1.5.0",
          "state": {
            "_model_module": "@jupyter-widgets/controls",
            "_model_module_version": "1.5.0",
            "_model_name": "DescriptionStyleModel",
            "_view_count": null,
            "_view_module": "@jupyter-widgets/base",
            "_view_module_version": "1.2.0",
            "_view_name": "StyleView",
            "description_width": ""
          }
        },
        "f20f2472e45b445aa81402f85274a42c": {
          "model_module": "@jupyter-widgets/controls",
          "model_name": "HBoxModel",
          "model_module_version": "1.5.0",
          "state": {
            "_dom_classes": [],
            "_model_module": "@jupyter-widgets/controls",
            "_model_module_version": "1.5.0",
            "_model_name": "HBoxModel",
            "_view_count": null,
            "_view_module": "@jupyter-widgets/controls",
            "_view_module_version": "1.5.0",
            "_view_name": "HBoxView",
            "box_style": "",
            "children": [
              "IPY_MODEL_f789ed99c99644d393db065d1dedbc6e",
              "IPY_MODEL_a13deb18f0e643dea6bc5893a5c7ebbb",
              "IPY_MODEL_6725cc113fc647b3b828398c6beb36c8"
            ],
            "layout": "IPY_MODEL_32a748e27a0e4dc6bc20984826c89835"
          }
        },
        "f789ed99c99644d393db065d1dedbc6e": {
          "model_module": "@jupyter-widgets/controls",
          "model_name": "HTMLModel",
          "model_module_version": "1.5.0",
          "state": {
            "_dom_classes": [],
            "_model_module": "@jupyter-widgets/controls",
            "_model_module_version": "1.5.0",
            "_model_name": "HTMLModel",
            "_view_count": null,
            "_view_module": "@jupyter-widgets/controls",
            "_view_module_version": "1.5.0",
            "_view_name": "HTMLView",
            "description": "",
            "description_tooltip": null,
            "layout": "IPY_MODEL_8422f689512840728c54c7b7f847e4e8",
            "placeholder": "​",
            "style": "IPY_MODEL_3e9d9c084aa14bacbd1a9d29fa251297",
            "value": "  0%"
          }
        },
        "a13deb18f0e643dea6bc5893a5c7ebbb": {
          "model_module": "@jupyter-widgets/controls",
          "model_name": "FloatProgressModel",
          "model_module_version": "1.5.0",
          "state": {
            "_dom_classes": [],
            "_model_module": "@jupyter-widgets/controls",
            "_model_module_version": "1.5.0",
            "_model_name": "FloatProgressModel",
            "_view_count": null,
            "_view_module": "@jupyter-widgets/controls",
            "_view_module_version": "1.5.0",
            "_view_name": "ProgressView",
            "bar_style": "",
            "description": "",
            "description_tooltip": null,
            "layout": "IPY_MODEL_79e3163c16b342068f9245a11984347b",
            "max": 5,
            "min": 0,
            "orientation": "horizontal",
            "style": "IPY_MODEL_8d2c697677554e81b911d45ebf236c1e",
            "value": 0
          }
        },
        "6725cc113fc647b3b828398c6beb36c8": {
          "model_module": "@jupyter-widgets/controls",
          "model_name": "HTMLModel",
          "model_module_version": "1.5.0",
          "state": {
            "_dom_classes": [],
            "_model_module": "@jupyter-widgets/controls",
            "_model_module_version": "1.5.0",
            "_model_name": "HTMLModel",
            "_view_count": null,
            "_view_module": "@jupyter-widgets/controls",
            "_view_module_version": "1.5.0",
            "_view_name": "HTMLView",
            "description": "",
            "description_tooltip": null,
            "layout": "IPY_MODEL_f82e8c1acc5f408fb9bdea66191721d6",
            "placeholder": "​",
            "style": "IPY_MODEL_27e9d0f4a35d4adca991cc9873fc490d",
            "value": " 0/5 [00:00&lt;?, ?it/s]"
          }
        },
        "32a748e27a0e4dc6bc20984826c89835": {
          "model_module": "@jupyter-widgets/base",
          "model_name": "LayoutModel",
          "model_module_version": "1.2.0",
          "state": {
            "_model_module": "@jupyter-widgets/base",
            "_model_module_version": "1.2.0",
            "_model_name": "LayoutModel",
            "_view_count": null,
            "_view_module": "@jupyter-widgets/base",
            "_view_module_version": "1.2.0",
            "_view_name": "LayoutView",
            "align_content": null,
            "align_items": null,
            "align_self": null,
            "border": null,
            "bottom": null,
            "display": null,
            "flex": null,
            "flex_flow": null,
            "grid_area": null,
            "grid_auto_columns": null,
            "grid_auto_flow": null,
            "grid_auto_rows": null,
            "grid_column": null,
            "grid_gap": null,
            "grid_row": null,
            "grid_template_areas": null,
            "grid_template_columns": null,
            "grid_template_rows": null,
            "height": null,
            "justify_content": null,
            "justify_items": null,
            "left": null,
            "margin": null,
            "max_height": null,
            "max_width": null,
            "min_height": null,
            "min_width": null,
            "object_fit": null,
            "object_position": null,
            "order": null,
            "overflow": null,
            "overflow_x": null,
            "overflow_y": null,
            "padding": null,
            "right": null,
            "top": null,
            "visibility": null,
            "width": null
          }
        },
        "8422f689512840728c54c7b7f847e4e8": {
          "model_module": "@jupyter-widgets/base",
          "model_name": "LayoutModel",
          "model_module_version": "1.2.0",
          "state": {
            "_model_module": "@jupyter-widgets/base",
            "_model_module_version": "1.2.0",
            "_model_name": "LayoutModel",
            "_view_count": null,
            "_view_module": "@jupyter-widgets/base",
            "_view_module_version": "1.2.0",
            "_view_name": "LayoutView",
            "align_content": null,
            "align_items": null,
            "align_self": null,
            "border": null,
            "bottom": null,
            "display": null,
            "flex": null,
            "flex_flow": null,
            "grid_area": null,
            "grid_auto_columns": null,
            "grid_auto_flow": null,
            "grid_auto_rows": null,
            "grid_column": null,
            "grid_gap": null,
            "grid_row": null,
            "grid_template_areas": null,
            "grid_template_columns": null,
            "grid_template_rows": null,
            "height": null,
            "justify_content": null,
            "justify_items": null,
            "left": null,
            "margin": null,
            "max_height": null,
            "max_width": null,
            "min_height": null,
            "min_width": null,
            "object_fit": null,
            "object_position": null,
            "order": null,
            "overflow": null,
            "overflow_x": null,
            "overflow_y": null,
            "padding": null,
            "right": null,
            "top": null,
            "visibility": null,
            "width": null
          }
        },
        "3e9d9c084aa14bacbd1a9d29fa251297": {
          "model_module": "@jupyter-widgets/controls",
          "model_name": "DescriptionStyleModel",
          "model_module_version": "1.5.0",
          "state": {
            "_model_module": "@jupyter-widgets/controls",
            "_model_module_version": "1.5.0",
            "_model_name": "DescriptionStyleModel",
            "_view_count": null,
            "_view_module": "@jupyter-widgets/base",
            "_view_module_version": "1.2.0",
            "_view_name": "StyleView",
            "description_width": ""
          }
        },
        "79e3163c16b342068f9245a11984347b": {
          "model_module": "@jupyter-widgets/base",
          "model_name": "LayoutModel",
          "model_module_version": "1.2.0",
          "state": {
            "_model_module": "@jupyter-widgets/base",
            "_model_module_version": "1.2.0",
            "_model_name": "LayoutModel",
            "_view_count": null,
            "_view_module": "@jupyter-widgets/base",
            "_view_module_version": "1.2.0",
            "_view_name": "LayoutView",
            "align_content": null,
            "align_items": null,
            "align_self": null,
            "border": null,
            "bottom": null,
            "display": null,
            "flex": null,
            "flex_flow": null,
            "grid_area": null,
            "grid_auto_columns": null,
            "grid_auto_flow": null,
            "grid_auto_rows": null,
            "grid_column": null,
            "grid_gap": null,
            "grid_row": null,
            "grid_template_areas": null,
            "grid_template_columns": null,
            "grid_template_rows": null,
            "height": null,
            "justify_content": null,
            "justify_items": null,
            "left": null,
            "margin": null,
            "max_height": null,
            "max_width": null,
            "min_height": null,
            "min_width": null,
            "object_fit": null,
            "object_position": null,
            "order": null,
            "overflow": null,
            "overflow_x": null,
            "overflow_y": null,
            "padding": null,
            "right": null,
            "top": null,
            "visibility": null,
            "width": null
          }
        },
        "8d2c697677554e81b911d45ebf236c1e": {
          "model_module": "@jupyter-widgets/controls",
          "model_name": "ProgressStyleModel",
          "model_module_version": "1.5.0",
          "state": {
            "_model_module": "@jupyter-widgets/controls",
            "_model_module_version": "1.5.0",
            "_model_name": "ProgressStyleModel",
            "_view_count": null,
            "_view_module": "@jupyter-widgets/base",
            "_view_module_version": "1.2.0",
            "_view_name": "StyleView",
            "bar_color": null,
            "description_width": ""
          }
        },
        "f82e8c1acc5f408fb9bdea66191721d6": {
          "model_module": "@jupyter-widgets/base",
          "model_name": "LayoutModel",
          "model_module_version": "1.2.0",
          "state": {
            "_model_module": "@jupyter-widgets/base",
            "_model_module_version": "1.2.0",
            "_model_name": "LayoutModel",
            "_view_count": null,
            "_view_module": "@jupyter-widgets/base",
            "_view_module_version": "1.2.0",
            "_view_name": "LayoutView",
            "align_content": null,
            "align_items": null,
            "align_self": null,
            "border": null,
            "bottom": null,
            "display": null,
            "flex": null,
            "flex_flow": null,
            "grid_area": null,
            "grid_auto_columns": null,
            "grid_auto_flow": null,
            "grid_auto_rows": null,
            "grid_column": null,
            "grid_gap": null,
            "grid_row": null,
            "grid_template_areas": null,
            "grid_template_columns": null,
            "grid_template_rows": null,
            "height": null,
            "justify_content": null,
            "justify_items": null,
            "left": null,
            "margin": null,
            "max_height": null,
            "max_width": null,
            "min_height": null,
            "min_width": null,
            "object_fit": null,
            "object_position": null,
            "order": null,
            "overflow": null,
            "overflow_x": null,
            "overflow_y": null,
            "padding": null,
            "right": null,
            "top": null,
            "visibility": null,
            "width": null
          }
        },
        "27e9d0f4a35d4adca991cc9873fc490d": {
          "model_module": "@jupyter-widgets/controls",
          "model_name": "DescriptionStyleModel",
          "model_module_version": "1.5.0",
          "state": {
            "_model_module": "@jupyter-widgets/controls",
            "_model_module_version": "1.5.0",
            "_model_name": "DescriptionStyleModel",
            "_view_count": null,
            "_view_module": "@jupyter-widgets/base",
            "_view_module_version": "1.2.0",
            "_view_name": "StyleView",
            "description_width": ""
          }
        },
        "c6ba02a7abab4a859663643c6e5d5b68": {
          "model_module": "@jupyter-widgets/controls",
          "model_name": "HBoxModel",
          "model_module_version": "1.5.0",
          "state": {
            "_dom_classes": [],
            "_model_module": "@jupyter-widgets/controls",
            "_model_module_version": "1.5.0",
            "_model_name": "HBoxModel",
            "_view_count": null,
            "_view_module": "@jupyter-widgets/controls",
            "_view_module_version": "1.5.0",
            "_view_name": "HBoxView",
            "box_style": "",
            "children": [
              "IPY_MODEL_74aacb3dfec04a928435aaaf57363084",
              "IPY_MODEL_abe29ca8956d4d31ba3f1b6320aeb0fb",
              "IPY_MODEL_925c2ed9e2f24f24958e5b26522fab9f"
            ],
            "layout": "IPY_MODEL_b34214c4a6614ac29bdb7f411790674c"
          }
        },
        "74aacb3dfec04a928435aaaf57363084": {
          "model_module": "@jupyter-widgets/controls",
          "model_name": "HTMLModel",
          "model_module_version": "1.5.0",
          "state": {
            "_dom_classes": [],
            "_model_module": "@jupyter-widgets/controls",
            "_model_module_version": "1.5.0",
            "_model_name": "HTMLModel",
            "_view_count": null,
            "_view_module": "@jupyter-widgets/controls",
            "_view_module_version": "1.5.0",
            "_view_name": "HTMLView",
            "description": "",
            "description_tooltip": null,
            "layout": "IPY_MODEL_7a8a77e2ecd8479bae94c28e23e4f2db",
            "placeholder": "​",
            "style": "IPY_MODEL_637895bce2474a348d63d289dfe01737",
            "value": " 13%"
          }
        },
        "abe29ca8956d4d31ba3f1b6320aeb0fb": {
          "model_module": "@jupyter-widgets/controls",
          "model_name": "FloatProgressModel",
          "model_module_version": "1.5.0",
          "state": {
            "_dom_classes": [],
            "_model_module": "@jupyter-widgets/controls",
            "_model_module_version": "1.5.0",
            "_model_name": "FloatProgressModel",
            "_view_count": null,
            "_view_module": "@jupyter-widgets/controls",
            "_view_module_version": "1.5.0",
            "_view_name": "ProgressView",
            "bar_style": "",
            "description": "",
            "description_tooltip": null,
            "layout": "IPY_MODEL_832b7956663b44149fd5f6f543340224",
            "max": 1094,
            "min": 0,
            "orientation": "horizontal",
            "style": "IPY_MODEL_749dd6aaa2bf48769c0c6d8318e7dbbb",
            "value": 140
          }
        },
        "925c2ed9e2f24f24958e5b26522fab9f": {
          "model_module": "@jupyter-widgets/controls",
          "model_name": "HTMLModel",
          "model_module_version": "1.5.0",
          "state": {
            "_dom_classes": [],
            "_model_module": "@jupyter-widgets/controls",
            "_model_module_version": "1.5.0",
            "_model_name": "HTMLModel",
            "_view_count": null,
            "_view_module": "@jupyter-widgets/controls",
            "_view_module_version": "1.5.0",
            "_view_name": "HTMLView",
            "description": "",
            "description_tooltip": null,
            "layout": "IPY_MODEL_0e6c9bc3979b4656bc6a8ca70e36d266",
            "placeholder": "​",
            "style": "IPY_MODEL_265d879c5b7444b9b92e9ba4191d0da3",
            "value": " 140/1094 [02:48&lt;17:44,  1.12s/it]"
          }
        },
        "b34214c4a6614ac29bdb7f411790674c": {
          "model_module": "@jupyter-widgets/base",
          "model_name": "LayoutModel",
          "model_module_version": "1.2.0",
          "state": {
            "_model_module": "@jupyter-widgets/base",
            "_model_module_version": "1.2.0",
            "_model_name": "LayoutModel",
            "_view_count": null,
            "_view_module": "@jupyter-widgets/base",
            "_view_module_version": "1.2.0",
            "_view_name": "LayoutView",
            "align_content": null,
            "align_items": null,
            "align_self": null,
            "border": null,
            "bottom": null,
            "display": null,
            "flex": null,
            "flex_flow": null,
            "grid_area": null,
            "grid_auto_columns": null,
            "grid_auto_flow": null,
            "grid_auto_rows": null,
            "grid_column": null,
            "grid_gap": null,
            "grid_row": null,
            "grid_template_areas": null,
            "grid_template_columns": null,
            "grid_template_rows": null,
            "height": null,
            "justify_content": null,
            "justify_items": null,
            "left": null,
            "margin": null,
            "max_height": null,
            "max_width": null,
            "min_height": null,
            "min_width": null,
            "object_fit": null,
            "object_position": null,
            "order": null,
            "overflow": null,
            "overflow_x": null,
            "overflow_y": null,
            "padding": null,
            "right": null,
            "top": null,
            "visibility": null,
            "width": null
          }
        },
        "7a8a77e2ecd8479bae94c28e23e4f2db": {
          "model_module": "@jupyter-widgets/base",
          "model_name": "LayoutModel",
          "model_module_version": "1.2.0",
          "state": {
            "_model_module": "@jupyter-widgets/base",
            "_model_module_version": "1.2.0",
            "_model_name": "LayoutModel",
            "_view_count": null,
            "_view_module": "@jupyter-widgets/base",
            "_view_module_version": "1.2.0",
            "_view_name": "LayoutView",
            "align_content": null,
            "align_items": null,
            "align_self": null,
            "border": null,
            "bottom": null,
            "display": null,
            "flex": null,
            "flex_flow": null,
            "grid_area": null,
            "grid_auto_columns": null,
            "grid_auto_flow": null,
            "grid_auto_rows": null,
            "grid_column": null,
            "grid_gap": null,
            "grid_row": null,
            "grid_template_areas": null,
            "grid_template_columns": null,
            "grid_template_rows": null,
            "height": null,
            "justify_content": null,
            "justify_items": null,
            "left": null,
            "margin": null,
            "max_height": null,
            "max_width": null,
            "min_height": null,
            "min_width": null,
            "object_fit": null,
            "object_position": null,
            "order": null,
            "overflow": null,
            "overflow_x": null,
            "overflow_y": null,
            "padding": null,
            "right": null,
            "top": null,
            "visibility": null,
            "width": null
          }
        },
        "637895bce2474a348d63d289dfe01737": {
          "model_module": "@jupyter-widgets/controls",
          "model_name": "DescriptionStyleModel",
          "model_module_version": "1.5.0",
          "state": {
            "_model_module": "@jupyter-widgets/controls",
            "_model_module_version": "1.5.0",
            "_model_name": "DescriptionStyleModel",
            "_view_count": null,
            "_view_module": "@jupyter-widgets/base",
            "_view_module_version": "1.2.0",
            "_view_name": "StyleView",
            "description_width": ""
          }
        },
        "832b7956663b44149fd5f6f543340224": {
          "model_module": "@jupyter-widgets/base",
          "model_name": "LayoutModel",
          "model_module_version": "1.2.0",
          "state": {
            "_model_module": "@jupyter-widgets/base",
            "_model_module_version": "1.2.0",
            "_model_name": "LayoutModel",
            "_view_count": null,
            "_view_module": "@jupyter-widgets/base",
            "_view_module_version": "1.2.0",
            "_view_name": "LayoutView",
            "align_content": null,
            "align_items": null,
            "align_self": null,
            "border": null,
            "bottom": null,
            "display": null,
            "flex": null,
            "flex_flow": null,
            "grid_area": null,
            "grid_auto_columns": null,
            "grid_auto_flow": null,
            "grid_auto_rows": null,
            "grid_column": null,
            "grid_gap": null,
            "grid_row": null,
            "grid_template_areas": null,
            "grid_template_columns": null,
            "grid_template_rows": null,
            "height": null,
            "justify_content": null,
            "justify_items": null,
            "left": null,
            "margin": null,
            "max_height": null,
            "max_width": null,
            "min_height": null,
            "min_width": null,
            "object_fit": null,
            "object_position": null,
            "order": null,
            "overflow": null,
            "overflow_x": null,
            "overflow_y": null,
            "padding": null,
            "right": null,
            "top": null,
            "visibility": null,
            "width": null
          }
        },
        "749dd6aaa2bf48769c0c6d8318e7dbbb": {
          "model_module": "@jupyter-widgets/controls",
          "model_name": "ProgressStyleModel",
          "model_module_version": "1.5.0",
          "state": {
            "_model_module": "@jupyter-widgets/controls",
            "_model_module_version": "1.5.0",
            "_model_name": "ProgressStyleModel",
            "_view_count": null,
            "_view_module": "@jupyter-widgets/base",
            "_view_module_version": "1.2.0",
            "_view_name": "StyleView",
            "bar_color": null,
            "description_width": ""
          }
        },
        "0e6c9bc3979b4656bc6a8ca70e36d266": {
          "model_module": "@jupyter-widgets/base",
          "model_name": "LayoutModel",
          "model_module_version": "1.2.0",
          "state": {
            "_model_module": "@jupyter-widgets/base",
            "_model_module_version": "1.2.0",
            "_model_name": "LayoutModel",
            "_view_count": null,
            "_view_module": "@jupyter-widgets/base",
            "_view_module_version": "1.2.0",
            "_view_name": "LayoutView",
            "align_content": null,
            "align_items": null,
            "align_self": null,
            "border": null,
            "bottom": null,
            "display": null,
            "flex": null,
            "flex_flow": null,
            "grid_area": null,
            "grid_auto_columns": null,
            "grid_auto_flow": null,
            "grid_auto_rows": null,
            "grid_column": null,
            "grid_gap": null,
            "grid_row": null,
            "grid_template_areas": null,
            "grid_template_columns": null,
            "grid_template_rows": null,
            "height": null,
            "justify_content": null,
            "justify_items": null,
            "left": null,
            "margin": null,
            "max_height": null,
            "max_width": null,
            "min_height": null,
            "min_width": null,
            "object_fit": null,
            "object_position": null,
            "order": null,
            "overflow": null,
            "overflow_x": null,
            "overflow_y": null,
            "padding": null,
            "right": null,
            "top": null,
            "visibility": null,
            "width": null
          }
        },
        "265d879c5b7444b9b92e9ba4191d0da3": {
          "model_module": "@jupyter-widgets/controls",
          "model_name": "DescriptionStyleModel",
          "model_module_version": "1.5.0",
          "state": {
            "_model_module": "@jupyter-widgets/controls",
            "_model_module_version": "1.5.0",
            "_model_name": "DescriptionStyleModel",
            "_view_count": null,
            "_view_module": "@jupyter-widgets/base",
            "_view_module_version": "1.2.0",
            "_view_name": "StyleView",
            "description_width": ""
          }
        }
      }
    },
    "accelerator": "GPU",
    "gpuClass": "standard"
  },
  "cells": [
    {
      "cell_type": "markdown",
      "metadata": {
        "id": "view-in-github",
        "colab_type": "text"
      },
      "source": [
        "<a href=\"https://colab.research.google.com/github/arnav39/CS779_Machine_Translation/blob/main/main_batch.ipynb\" target=\"_parent\"><img src=\"https://colab.research.google.com/assets/colab-badge.svg\" alt=\"Open In Colab\"/></a>"
      ]
    },
    {
      "cell_type": "markdown",
      "source": [
        "# CS779 Machine Translation\n",
        "\n",
        "- hindi to english \n",
        "\n",
        "- trying to process a batch at once"
      ],
      "metadata": {
        "id": "GbvUgwJjKOAi"
      }
    },
    {
      "cell_type": "markdown",
      "source": [
        "## Importing libraries"
      ],
      "metadata": {
        "id": "ULafiHe0KRby"
      }
    },
    {
      "cell_type": "code",
      "execution_count": 1,
      "metadata": {
        "colab": {
          "base_uri": "https://localhost:8080/"
        },
        "id": "us1nlRMrKJcp",
        "outputId": "9d990a5c-0129-4bec-b7aa-5c50f6476098"
      },
      "outputs": [
        {
          "output_type": "stream",
          "name": "stdout",
          "text": [
            "\u001b[2K     \u001b[90m━━━━━━━━━━━━━━━━━━━━━━━━━━━━━━━━━━━━━━━━\u001b[0m \u001b[32m40.3/40.3 kB\u001b[0m \u001b[31m2.6 MB/s\u001b[0m eta \u001b[36m0:00:00\u001b[0m\n",
            "\u001b[2K     \u001b[90m━━━━━━━━━━━━━━━━━━━━━━━━━━━━━━━━━━━━━━━━\u001b[0m \u001b[32m2.8/2.8 MB\u001b[0m \u001b[31m35.9 MB/s\u001b[0m eta \u001b[36m0:00:00\u001b[0m\n",
            "\u001b[2K     \u001b[90m━━━━━━━━━━━━━━━━━━━━━━━━━━━━━━━━━━━━━━\u001b[0m \u001b[32m121.1/121.1 kB\u001b[0m \u001b[31m14.2 MB/s\u001b[0m eta \u001b[36m0:00:00\u001b[0m\n",
            "\u001b[?25h2023-04-12 08:05:40.066516: I tensorflow/core/platform/cpu_feature_guard.cc:182] This TensorFlow binary is optimized to use available CPU instructions in performance-critical operations.\n",
            "To enable the following instructions: AVX2 FMA, in other operations, rebuild TensorFlow with the appropriate compiler flags.\n",
            "2023-04-12 08:05:41.411152: W tensorflow/compiler/tf2tensorrt/utils/py_utils.cc:38] TF-TRT Warning: Could not find TensorRT\n",
            "2023-04-12 08:05:42.895133: I tensorflow/compiler/xla/stream_executor/cuda/cuda_gpu_executor.cc:996] successful NUMA node read from SysFS had negative value (-1), but there must be at least one NUMA node, so returning NUMA node zero. See more at https://github.com/torvalds/linux/blob/v6.0/Documentation/ABI/testing/sysfs-bus-pci#L344-L355\n",
            "2023-04-12 08:05:42.895599: I tensorflow/compiler/xla/stream_executor/cuda/cuda_gpu_executor.cc:996] successful NUMA node read from SysFS had negative value (-1), but there must be at least one NUMA node, so returning NUMA node zero. See more at https://github.com/torvalds/linux/blob/v6.0/Documentation/ABI/testing/sysfs-bus-pci#L344-L355\n",
            "2023-04-12 08:05:42.895778: I tensorflow/compiler/xla/stream_executor/cuda/cuda_gpu_executor.cc:996] successful NUMA node read from SysFS had negative value (-1), but there must be at least one NUMA node, so returning NUMA node zero. See more at https://github.com/torvalds/linux/blob/v6.0/Documentation/ABI/testing/sysfs-bus-pci#L344-L355\n",
            "\u001b[2K     \u001b[90m━━━━━━━━━━━━━━━━━━━━━━━━━━━━━━━━━━━━━━━━\u001b[0m \u001b[32m12.8/12.8 MB\u001b[0m \u001b[31m86.5 MB/s\u001b[0m eta \u001b[36m0:00:00\u001b[0m\n",
            "\u001b[?25h\u001b[38;5;2m✔ Download and installation successful\u001b[0m\n",
            "You can now load the package via spacy.load('en_core_web_sm')\n"
          ]
        }
      ],
      "source": [
        "!pip install indic-nlp-library --quiet\n",
        "!python -m spacy download en_core_web_sm --quiet"
      ]
    },
    {
      "cell_type": "code",
      "source": [
        "import torch\n",
        "import torch.nn as nn \n",
        "import torch.optim as optim \n",
        "import numpy as np\n",
        "import torch.nn.functional as F\n",
        "import spacy\n",
        "import os\n",
        "from tqdm.notebook import tqdm\n",
        "import sys\n",
        "from indicnlp.tokenize import indic_tokenize\n",
        "from indicnlp.normalize import indic_normalize\n",
        "import pickle\n",
        "import random\n",
        "from torch.utils.data import Dataset, DataLoader"
      ],
      "metadata": {
        "id": "1LMzFZd5LC2C"
      },
      "execution_count": 2,
      "outputs": []
    },
    {
      "cell_type": "code",
      "source": [
        "from google.colab import drive\n",
        "drive.mount('/content/drive')"
      ],
      "metadata": {
        "colab": {
          "base_uri": "https://localhost:8080/"
        },
        "id": "Wmc31YsZLErc",
        "outputId": "ad3fdfd9-8303-40ec-af52-75f7e7ef5099"
      },
      "execution_count": 3,
      "outputs": [
        {
          "output_type": "stream",
          "name": "stdout",
          "text": [
            "Mounted at /content/drive\n"
          ]
        }
      ]
    },
    {
      "cell_type": "code",
      "source": [
        "device = torch.device(\"cuda\" if torch.cuda.is_available() else \"cpu\")\n",
        "print(f\"device = {device}\")"
      ],
      "metadata": {
        "colab": {
          "base_uri": "https://localhost:8080/"
        },
        "id": "2goZ7qfpLGX4",
        "outputId": "f2d473a4-a1fa-4b19-d016-87a776af6c3c"
      },
      "execution_count": 5,
      "outputs": [
        {
          "output_type": "stream",
          "name": "stdout",
          "text": [
            "device = cuda\n"
          ]
        }
      ]
    },
    {
      "cell_type": "markdown",
      "source": [
        "- loading the data"
      ],
      "metadata": {
        "id": "ttSPNgo2LeBU"
      }
    },
    {
      "cell_type": "code",
      "source": [
        "with open('/content/drive/MyDrive/wiki.hi/inp_sent.pkl', 'rb') as f: \n",
        "  output_sent_list = pickle.load(f) # output is english\n",
        "\n",
        "with open('/content/drive/MyDrive/wiki.hi/out_sent.pkl', 'rb') as f: \n",
        "  input_sent_list = pickle.load(f) # input is hindi\n",
        "\n",
        "print(type(input_sent_list))\n",
        "print(len(input_sent_list))\n",
        "\n",
        "print(type(output_sent_list))\n",
        "print(len(output_sent_list))"
      ],
      "metadata": {
        "colab": {
          "base_uri": "https://localhost:8080/"
        },
        "id": "kv7fxfNeLZ4M",
        "outputId": "53145393-9c85-4257-fc32-4b5ef61b155f"
      },
      "execution_count": 6,
      "outputs": [
        {
          "output_type": "stream",
          "name": "stdout",
          "text": [
            "<class 'list'>\n",
            "140000\n",
            "<class 'list'>\n",
            "140000\n"
          ]
        }
      ]
    },
    {
      "cell_type": "markdown",
      "source": [
        "## Vocab classes"
      ],
      "metadata": {
        "id": "WcF1FHRhGDAN"
      }
    },
    {
      "cell_type": "code",
      "source": [
        "class Lang():\n",
        "\n",
        "  def __init__(self, name, spacy_tokenizer):\n",
        "    self.name = name\n",
        "    self.word2index = {\"<SOS>\":0, '<EOS>': 1, \"<UNK>\": 2, '<PAD>': 3}\n",
        "    self.index2word = {0: \"<SOS>\", 1: \"<EOS>\", 2: \"<UNK>\", 3: '<PAD>'}\n",
        "    self.word2count = {}\n",
        "    self.n_words = 4\n",
        "    self.tokenizer = spacy_tokenizer\n",
        "\n",
        "  def add_word(self, word):\n",
        "    if word not in self.word2index:\n",
        "      self.word2index[word] = self.n_words\n",
        "      self.word2count[word] = 1\n",
        "      self.index2word[self.n_words] = word\n",
        "      self.n_words += 1\n",
        "\n",
        "    else:\n",
        "      self.word2count[word] += 1\n",
        "\n",
        "  def add_sentence(self, sentence):\n",
        "    tokens = self.tokenize_sentence(sentence)\n",
        "    for token in tokens: \n",
        "      self.add_word(token)\n",
        "\n",
        "  def tokenize_sentence(self, sentence):\n",
        "    tokens = [token.text for token in self.tokenizer(sentence.lower())]\n",
        "    return tokens\n",
        "\n",
        "  def __len__(self):\n",
        "    return self.n_words"
      ],
      "metadata": {
        "id": "sARh9fGMF_ka"
      },
      "execution_count": 7,
      "outputs": []
    },
    {
      "cell_type": "code",
      "source": [
        "class Hindi_lang():\n",
        "\n",
        "  def __init__(self, name):\n",
        "    self.name = name\n",
        "    self.word2index = {\"<SOS>\":0, '<EOS>': 1, \"<UNK>\": 2, '<PAD>': 3}\n",
        "    self.index2word = {0: \"<SOS>\", 1: \"<EOS>\", 2: \"<UNK>\", 3: '<PAD>'}\n",
        "    self.word2count = {}\n",
        "    self.n_words = 4\n",
        "    self.normalizer = indic_normalize.DevanagariNormalizer(lang='hi', remove_nuktas=True)\n",
        "\n",
        "  def add_word(self, word):\n",
        "    if word not in self.word2index:\n",
        "      self.word2index[word] = self.n_words\n",
        "      self.word2count[word] = 1\n",
        "      self.index2word[self.n_words] = word\n",
        "      self.n_words += 1\n",
        "\n",
        "    else:\n",
        "      self.word2count[word] += 1\n",
        "\n",
        "  def add_sentence(self, sentence):\n",
        "    tokens = self.tokenize_sentence(sentence)\n",
        "    for token in tokens: \n",
        "      self.add_word(token)\n",
        "\n",
        "  def tokenize_sentence(self, sentence):\n",
        "    # first normalize the sentence, then tokenize\n",
        "    norm_sent = self.normalizer.normalize(sentence)\n",
        "    tokens = indic_tokenize.trivial_tokenize(norm_sent)\n",
        "    return tokens\n",
        "\n",
        "  def __len__(self):\n",
        "    return self.n_words\n",
        "  "
      ],
      "metadata": {
        "id": "JDXQwrdHF_iF"
      },
      "execution_count": 8,
      "outputs": []
    },
    {
      "cell_type": "markdown",
      "source": [
        "## Building, saving and loading the vocabs"
      ],
      "metadata": {
        "id": "uqRQ7TFTGd51"
      }
    },
    {
      "cell_type": "markdown",
      "source": [
        "- building the enlgish vocab (output_lang_vocab)"
      ],
      "metadata": {
        "id": "huAiMzXlGNSC"
      }
    },
    {
      "cell_type": "code",
      "source": [
        "nlp_english = spacy.load(\"en_core_web_sm\")\n",
        "english_output_vocab = Lang(\"english\", nlp_english)\n",
        "\n",
        "for my_sent in tqdm(output_sent_list):\n",
        "  english_output_vocab.add_sentence(my_sent)\n",
        "\n",
        "print(len(english_output_vocab))\n",
        "\n",
        "# saving the english vocab\n",
        "\n",
        "with open('/content/drive/MyDrive/wiki.hi/english_output_vocab.pkl', 'wb') as f: \n",
        "  pickle.dump(english_output_vocab, f)"
      ],
      "metadata": {
        "colab": {
          "base_uri": "https://localhost:8080/",
          "height": 67,
          "referenced_widgets": [
            "37eb2d1c1e1a4326ac9a31be1040b122",
            "7743f882e6bb468280fcf3bf588229ea",
            "23b6f56a45314e8492b8186b5376a281",
            "c50e5cd492af49f3a145ea63821cdf30",
            "5b8fbbea78384a8c9408f1cae63fd0ee",
            "28f17a0b2c864fdf9517afb236746885",
            "515bafb00cba4bf7b7243aa36046f491",
            "b351fb480d144dafb99c498d3041c86b",
            "7d5acadab1b74f53a25a511b9a227015",
            "0e9363a37f374236b5700340e882ad4d",
            "ff3a560e00d74bc6886c58a89130784e"
          ]
        },
        "id": "Z6b_rOf9F_U1",
        "outputId": "4a354fcd-ae69-4c3f-a9e3-ca96d9216463"
      },
      "execution_count": 53,
      "outputs": [
        {
          "output_type": "display_data",
          "data": {
            "text/plain": [
              "  0%|          | 0/140000 [00:00<?, ?it/s]"
            ],
            "application/vnd.jupyter.widget-view+json": {
              "version_major": 2,
              "version_minor": 0,
              "model_id": "37eb2d1c1e1a4326ac9a31be1040b122"
            }
          },
          "metadata": {}
        },
        {
          "output_type": "stream",
          "name": "stdout",
          "text": [
            "24261\n"
          ]
        }
      ]
    },
    {
      "cell_type": "markdown",
      "source": [
        "- building the hindi vocab (input_lang_vocab)"
      ],
      "metadata": {
        "id": "R4qz0XfYGZBn"
      }
    },
    {
      "cell_type": "code",
      "source": [
        "hindi_input_vocab = Hindi_lang(\"hindi\")\n",
        "\n",
        "for my_sent in tqdm(input_sent_list):\n",
        "  hindi_input_vocab.add_sentence(my_sent)\n",
        "\n",
        "print(len(hindi_input_vocab))\n",
        "\n",
        "with open('/content/drive/MyDrive/wiki.hi/hindi_input_vocab.pkl', 'wb') as f: \n",
        "  pickle.dump(hindi_input_vocab, f)"
      ],
      "metadata": {
        "colab": {
          "base_uri": "https://localhost:8080/",
          "height": 67,
          "referenced_widgets": [
            "98316cfbc9ec4ed2a6044c1d2ccf9fc3",
            "79a23afa20cd4410ae08073ac74a5ac8",
            "b57a72cc13ab497ba56744ba8b60604b",
            "278433a24c75451bb9eb588855e7db0f",
            "ce97a3875f0d4d3c98afda9a9713d52c",
            "0139330c9f46490598d2f3813f90af18",
            "e8d4668d0bcf4008bd58dc6e713a279f",
            "123e80f6eb7f43d0b6c4ae4794d1c9ab",
            "1e26cb907bc14fcea26ff3bfd9718adb",
            "436f82dc856d45cd8d5345552bcf96ff",
            "d8f2631152a0446698e771bd0cf905b5"
          ]
        },
        "id": "jNwr1cU-GjN-",
        "outputId": "1942233c-eb31-4439-a825-7a772bb8b84b"
      },
      "execution_count": 54,
      "outputs": [
        {
          "output_type": "display_data",
          "data": {
            "text/plain": [
              "  0%|          | 0/140000 [00:00<?, ?it/s]"
            ],
            "application/vnd.jupyter.widget-view+json": {
              "version_major": 2,
              "version_minor": 0,
              "model_id": "98316cfbc9ec4ed2a6044c1d2ccf9fc3"
            }
          },
          "metadata": {}
        },
        {
          "output_type": "stream",
          "name": "stdout",
          "text": [
            "27939\n"
          ]
        }
      ]
    },
    {
      "cell_type": "markdown",
      "source": [
        "- loading the english and hindi vocab"
      ],
      "metadata": {
        "id": "mv7Ed2_hGm3h"
      }
    },
    {
      "cell_type": "code",
      "source": [
        "with open('/content/drive/MyDrive/wiki.hi/english_output_vocab.pkl', 'rb') as f: \n",
        "  english_output_vocab = pickle.load(f)\n",
        "\n",
        "with open('/content/drive/MyDrive/wiki.hi/hindi_input_vocab.pkl', 'rb') as f: \n",
        "  hindi_input_vocab = pickle.load(f)"
      ],
      "metadata": {
        "id": "SBk_EehRGmeT"
      },
      "execution_count": 9,
      "outputs": []
    },
    {
      "cell_type": "code",
      "source": [
        "SOS_TOKEN_INDEX = english_output_vocab.word2index['<SOS>']\n",
        "print(SOS_TOKEN_INDEX)"
      ],
      "metadata": {
        "colab": {
          "base_uri": "https://localhost:8080/"
        },
        "id": "dbrkUtO7G-D6",
        "outputId": "5d9ba7ab-08b6-411c-b16f-dc70df63627e"
      },
      "execution_count": 10,
      "outputs": [
        {
          "output_type": "stream",
          "name": "stdout",
          "text": [
            "0\n"
          ]
        }
      ]
    },
    {
      "cell_type": "code",
      "source": [
        "EOS_TOKEN_INDEX = english_output_vocab.word2index['<EOS>']\n",
        "print(EOS_TOKEN_INDEX)"
      ],
      "metadata": {
        "colab": {
          "base_uri": "https://localhost:8080/"
        },
        "id": "e5TD_XxkK5E8",
        "outputId": "3dbe33a9-479c-4788-a030-83e2e1015039"
      },
      "execution_count": 11,
      "outputs": [
        {
          "output_type": "stream",
          "name": "stdout",
          "text": [
            "1\n"
          ]
        }
      ]
    },
    {
      "cell_type": "markdown",
      "source": [
        "## Preparing the data and making the Dataloader"
      ],
      "metadata": {
        "id": "qubM5U_BGucK"
      }
    },
    {
      "cell_type": "markdown",
      "source": [
        "- preparing the data in the form of list of tuple to feed into the model"
      ],
      "metadata": {
        "id": "PJPzA0UkG0N9"
      }
    },
    {
      "cell_type": "code",
      "source": [
        "MAX_LENGTH = 64 # this will be length of each sentence\n",
        "BATCH_SIZE = 128"
      ],
      "metadata": {
        "id": "nKIMwOh_O1Ki"
      },
      "execution_count": 45,
      "outputs": []
    },
    {
      "cell_type": "code",
      "source": [
        "training_data = []\n",
        "\n",
        "for i in range(len(input_sent_list)):\n",
        "  pair = (input_sent_list[i], output_sent_list[i])\n",
        "  training_data.append(pair)\n",
        "\n",
        "print(len(training_data))\n",
        "print(training_data[0])"
      ],
      "metadata": {
        "colab": {
          "base_uri": "https://localhost:8080/"
        },
        "id": "qqUgd6QsG2lx",
        "outputId": "9276b827-fa5c-4a2a-b128-4f370813f2f0"
      },
      "execution_count": 13,
      "outputs": [
        {
          "output_type": "stream",
          "name": "stdout",
          "text": [
            "140000\n",
            "('और अपनी रहमत से हमें इन काफ़िर लोगों (के नीचे) से नजात दे', \"and deliver us by Thy mercy from the people of the unbelievers. '\")\n"
          ]
        }
      ]
    },
    {
      "cell_type": "code",
      "source": [
        "def tensorFromSentence(lang_vocab, sentence, max_length=MAX_LENGTH):\n",
        "\n",
        "  tokens = lang_vocab.tokenize_sentence(sentence)\n",
        "  indexes = [lang_vocab.word2index[token] for token in tokens]\n",
        "  indexes.append(EOS_TOKEN_INDEX)\n",
        "\n",
        "  pad_index = lang_vocab.word2index['<PAD>']\n",
        "\n",
        "  if len(indexes) < max_length:\n",
        "    indexes += [pad_index] * (max_length - len(indexes))\n",
        "  else:\n",
        "    indexes = indexes[:max_length]\n",
        "    indexes[-1] = EOS_TOKEN_INDEX\n",
        "\n",
        "  return torch.tensor(indexes, dtype=torch.long)\n",
        "  # (max_length,)"
      ],
      "metadata": {
        "id": "Jf2oIvSuLoZo"
      },
      "execution_count": 14,
      "outputs": []
    },
    {
      "cell_type": "code",
      "source": [
        "class Seq2SeqDataset(Dataset):\n",
        "  \n",
        "  def __init__(self, pairs):\n",
        "    self.pairs = pairs\n",
        "\n",
        "  def __len__(self):\n",
        "    return len(self.pairs)\n",
        "\n",
        "  def __getitem__(self, index):\n",
        "    input_sentence, target_sentence = self.pairs[index]\n",
        "    input_tensor = tensorFromSentence(hindi_input_vocab, input_sentence)\n",
        "    target_tensor = tensorFromSentence(english_output_vocab, target_sentence)\n",
        "    return input_tensor, target_tensor"
      ],
      "metadata": {
        "id": "2ZT25VhrN1t3"
      },
      "execution_count": 15,
      "outputs": []
    },
    {
      "cell_type": "code",
      "source": [
        "dataset = Seq2SeqDataset(training_data)"
      ],
      "metadata": {
        "id": "8ol5nJKePKLD"
      },
      "execution_count": 16,
      "outputs": []
    },
    {
      "cell_type": "markdown",
      "source": [
        "- let's look how does the elements of the dataset look like"
      ],
      "metadata": {
        "id": "tezdEOgVZjF6"
      }
    },
    {
      "cell_type": "code",
      "source": [
        "inp_t, targ_t = dataset[0]\n",
        "print(inp_t.shape) # (max_length)\n",
        "print(targ_t.shape)"
      ],
      "metadata": {
        "colab": {
          "base_uri": "https://localhost:8080/"
        },
        "id": "ENRQgWWHZmfo",
        "outputId": "44c1c6ab-70eb-433d-9bf6-ff99f945a81a"
      },
      "execution_count": 97,
      "outputs": [
        {
          "output_type": "stream",
          "name": "stdout",
          "text": [
            "torch.Size([64])\n",
            "torch.Size([64])\n"
          ]
        }
      ]
    },
    {
      "cell_type": "code",
      "source": [
        "dataloader = DataLoader(dataset, batch_size=BATCH_SIZE, shuffle=True)\n",
        "print(len(dataloader))"
      ],
      "metadata": {
        "colab": {
          "base_uri": "https://localhost:8080/"
        },
        "id": "ZSHCuE6WPQUi",
        "outputId": "6cc86e65-eddd-4560-ecae-aa8770123a93"
      },
      "execution_count": 46,
      "outputs": [
        {
          "output_type": "stream",
          "name": "stdout",
          "text": [
            "1094\n"
          ]
        }
      ]
    },
    {
      "cell_type": "markdown",
      "source": [
        "- let's look at how a batch looks like"
      ],
      "metadata": {
        "id": "bjsz4jY8Y-q7"
      }
    },
    {
      "cell_type": "code",
      "source": [
        "batch = next(iter(dataloader))\n",
        "print(type(batch))\n",
        "print(len(batch))"
      ],
      "metadata": {
        "colab": {
          "base_uri": "https://localhost:8080/"
        },
        "id": "_foAxzE7Ywmb",
        "outputId": "d2d73de5-4b23-408b-8abc-149892919eb0"
      },
      "execution_count": 47,
      "outputs": [
        {
          "output_type": "stream",
          "name": "stdout",
          "text": [
            "<class 'list'>\n",
            "2\n"
          ]
        }
      ]
    },
    {
      "cell_type": "code",
      "source": [
        "print(type(batch[0]), type(batch[1]))"
      ],
      "metadata": {
        "colab": {
          "base_uri": "https://localhost:8080/"
        },
        "id": "y4WgdXbMY2zj",
        "outputId": "9e06eed8-e091-4eef-c949-f093128cd150"
      },
      "execution_count": 48,
      "outputs": [
        {
          "output_type": "stream",
          "name": "stdout",
          "text": [
            "<class 'torch.Tensor'> <class 'torch.Tensor'>\n"
          ]
        }
      ]
    },
    {
      "cell_type": "code",
      "source": [
        "print(batch[0].shape) # (batch_size, max_length)\n",
        "print(batch[1].shape) "
      ],
      "metadata": {
        "colab": {
          "base_uri": "https://localhost:8080/"
        },
        "id": "m_MIoXRYZJb_",
        "outputId": "cd7171d2-28b1-4722-d563-9d2093538fbc"
      },
      "execution_count": 49,
      "outputs": [
        {
          "output_type": "stream",
          "name": "stdout",
          "text": [
            "torch.Size([128, 64])\n",
            "torch.Size([128, 64])\n"
          ]
        }
      ]
    },
    {
      "cell_type": "markdown",
      "source": [
        "## Classes and functions required"
      ],
      "metadata": {
        "id": "TXirs0m4Lo33"
      }
    },
    {
      "cell_type": "code",
      "source": [
        "class EncoderGRU(nn.Module):\n",
        "\n",
        "  def __init__(self, input_size, hidden_size, num_layers=1):\n",
        "    super().__init__()\n",
        "    self.input_size = input_size\n",
        "    self.hidden_size = hidden_size\n",
        "    self.num_layers = num_layers\n",
        "    self.embedding = nn.Embedding(input_size, hidden_size)\n",
        "    self.gru = nn.GRU(hidden_size, hidden_size, num_layers)\n",
        "\n",
        "  def forward(self, input_seqs, hidden):\n",
        "\n",
        "    # input_seqs.shape : (batch_size, )\n",
        "\n",
        "    embedded = self.embedding(input_seqs.unsqueeze(0))\n",
        "    # embedded.shape = (1, batch_size, hidden_size)\n",
        "\n",
        "    output, hidden = self.gru(embedded, hidden)\n",
        "    # output.shape = (1, batch_size, hidden_size) , (seq_len, batch_size, hidden_size)\n",
        "    # hidde.shape = (num_layers, batch_size, hidden_size)\n",
        "\n",
        "    return output, hidden \n",
        "\n",
        "  def init_hidden(self, batch_size):\n",
        "    hidden = torch.zeros(self.num_layers, batch_size, self.hidden_size) # (num_layers, batch_size, hidden_dim)\n",
        "    return hidden"
      ],
      "metadata": {
        "id": "8LbJPPs3Lig8"
      },
      "execution_count": 21,
      "outputs": []
    },
    {
      "cell_type": "code",
      "source": [
        "class DecoderGRU(nn.Module):\n",
        "\n",
        "  def __init__(self, hidden_size, output_size, num_layers=1):\n",
        "    super().__init__()\n",
        "    self.hidden_size = hidden_size\n",
        "    self.output_size = output_size\n",
        "    self.num_layers = num_layers\n",
        "    self.embedding = nn.Embedding(output_size, hidden_size)\n",
        "    self.gru = nn.GRU(hidden_size, hidden_size, num_layers)\n",
        "    self.out = nn.Linear(hidden_size, output_size)\n",
        "\n",
        "  def forward(self, input, hidden):\n",
        "    # input shape = (batch_size, )\n",
        "    output = self.embedding(input.unsqueeze(0)) # (1, batch_size, hidden_size)\n",
        "    output = F.relu(output)\n",
        "    output, hidden = self.gru(output, hidden) \n",
        "    # output : (1, batch_size, hidden_size)\n",
        "    # hidden : (num_layers, batch_size, hidden_size)\n",
        "    output = self.out(output[0]) # (batch_size, output_size)\n",
        "    return output, hidden\n",
        "\n",
        "  def init_hidden(self, batch_size):\n",
        "    hidden = torch.zeros(self.num_layers, batch_size, self.hidden_size) # (num_layers, batch_size, hidden_size)\n",
        "    return hidden"
      ],
      "metadata": {
        "id": "uYHwcWDSLvqO"
      },
      "execution_count": 22,
      "outputs": []
    },
    {
      "cell_type": "code",
      "source": [
        "def train(input_tensors: torch.Tensor,\n",
        "          target_tensors: torch.Tensor,\n",
        "          encoder: EncoderGRU,\n",
        "          decoder: DecoderGRU,\n",
        "          encoder_optimizer, decoder_optimizer, criterion, teacher_forcing_ratio=0.5):\n",
        "  \n",
        "  # input_tensors.shape = (batch_size, max_length)\n",
        "  # Target_tensors.shape = (batch_size, max_length)\n",
        "\n",
        "  batch_size = input_tensors.size(0)\n",
        "\n",
        "  input_tensors = input_tensors.transpose(0, 1).to(device) # transpose to (max_len, batch_size), then push to device\n",
        "  target_tensors = target_tensors.transpose(0, 1).to(device) # transpose to (max_len, batch_size), then push to device\n",
        "\n",
        "  encoder_optimizer.zero_grad()\n",
        "  decoder_optimizer.zero_grad()\n",
        "\n",
        "  encoder_hidden = encoder.init_hidden(batch_size).to(device)\n",
        "  encoder_outputs = torch.zeros(MAX_LENGTH, batch_size, encoder.hidden_size).to(device)\n",
        "\n",
        "  loss = 0\n",
        "\n",
        "  for ei in range(MAX_LENGTH):\n",
        "    encoder_output, encoder_hidden = encoder(input_tensors[ei], encoder_hidden) \n",
        "    # encoder is taking input of shape of (batch_size, )\n",
        "    encoder_outputs[ei] = encoder_output[0, :, :]\n",
        "\n",
        "\n",
        "  decoder_input = torch.tensor([SOS_TOKEN_INDEX] * batch_size, device=device, dtype=torch.long)\n",
        "  decoder_hidden = encoder_hidden\n",
        "\n",
        "  use_teacher_forcing = True if random.random() < teacher_forcing_ratio else False\n",
        "\n",
        "  if use_teacher_forcing:\n",
        "\n",
        "    # feed the target as the next input\n",
        "    for di in range(MAX_LENGTH): \n",
        "      decoder_output, decoder_hidden = decoder(decoder_input, decoder_hidden)\n",
        "      loss += criterion(decoder_output, target_tensors[di])\n",
        "      decoder_input = target_tensors[di]\n",
        "\n",
        "  else:\n",
        "\n",
        "    # without teacher forcing: use it's own predictions as input in the next step\n",
        "    for di in range(MAX_LENGTH):\n",
        "      decoder_output, decoder_hidden = decoder(decoder_input, decoder_hidden)\n",
        "      # decoder_output : (batch_size, output_size)\n",
        "      topv, topi = decoder_output.topk(k=1) \n",
        "\n",
        "      # topv, topi : (batch_size, 1)\n",
        "\n",
        "      decoder_input = topi.detach().squeeze(-1) # decoder needs 1d input of shape (batch_size, )\n",
        "      loss += criterion(decoder_output, target_tensors[di])\n",
        "\n",
        "      if (decoder_input == EOS_TOKEN_INDEX).all():\n",
        "        break\n",
        "\n",
        "  loss.backward()\n",
        "\n",
        "  encoder_optimizer.step()\n",
        "  decoder_optimizer.step()\n",
        "\n",
        "  ans = loss.detach().cpu().item()/MAX_LENGTH\n",
        "  return ans"
      ],
      "metadata": {
        "id": "PjecgEMgMUeN"
      },
      "execution_count": 26,
      "outputs": []
    },
    {
      "cell_type": "markdown",
      "source": [
        "## Actual code"
      ],
      "metadata": {
        "id": "JdEqxsXKMdn3"
      }
    },
    {
      "cell_type": "markdown",
      "source": [
        "- trying to train the model"
      ],
      "metadata": {
        "id": "anBJWe1FaqSy"
      }
    },
    {
      "cell_type": "code",
      "source": [
        "hidden_size = 100\n",
        "learning_rate = 0.001\n",
        "max_epochs = 5\n",
        "num_layers = 2"
      ],
      "metadata": {
        "id": "Lgfb-Gr6aPta"
      },
      "execution_count": 42,
      "outputs": []
    },
    {
      "cell_type": "code",
      "source": [
        "encoder = EncoderGRU(len(hindi_input_vocab), hidden_size, num_layers).to(device)\n",
        "decoder = DecoderGRU(hidden_size, len(english_output_vocab), num_layers).to(device)\n",
        "\n",
        "print(encoder)\n",
        "print(decoder)\n",
        "\n",
        "criterion = nn.CrossEntropyLoss()\n",
        "\n",
        "encoder_optimizer = optim.Adam(encoder.parameters(), lr=learning_rate)\n",
        "decoder_optimizer = optim.Adam(decoder.parameters(), lr=learning_rate)"
      ],
      "metadata": {
        "id": "UiYgB8KPbSYu",
        "colab": {
          "base_uri": "https://localhost:8080/"
        },
        "outputId": "c8014ba6-27be-4d59-ea5c-221892ae99ab"
      },
      "execution_count": 43,
      "outputs": [
        {
          "output_type": "stream",
          "name": "stdout",
          "text": [
            "EncoderGRU(\n",
            "  (embedding): Embedding(27939, 100)\n",
            "  (gru): GRU(100, 100, num_layers=2)\n",
            ")\n",
            "DecoderGRU(\n",
            "  (embedding): Embedding(24261, 100)\n",
            "  (gru): GRU(100, 100, num_layers=2)\n",
            "  (out): Linear(in_features=100, out_features=24261, bias=True)\n",
            ")\n"
          ]
        }
      ]
    },
    {
      "cell_type": "code",
      "source": [
        "for epoch in tqdm(range(max_epochs)):\n",
        "\n",
        "  epoch_loss = 0\n",
        "\n",
        "  for batch in tqdm(dataloader):\n",
        "\n",
        "    input_tensors = batch[0].to(device)\n",
        "    target_tensors = batch[1].to(device)\n",
        "\n",
        "    loss = train(input_tensors, target_tensors, encoder, decoder, encoder_optimizer, decoder_optimizer, criterion)\n",
        "\n",
        "    epoch_loss += loss\n",
        "\n",
        "  print(f\"epoch = {epoch}/{max_epochs}, LOSS = {epoch_loss/len(dataloader)}\")\n",
        "\n",
        "  torch.save(encoder.state_dict(), '/content/drive/MyDrive/wiki.hi/encoder.params')\n",
        "  torch.save(decoder.state_dict(), '/content/drive/MyDrive/wiki.hi/decoder.params')"
      ],
      "metadata": {
        "colab": {
          "base_uri": "https://localhost:8080/",
          "height": 81,
          "referenced_widgets": [
            "f20f2472e45b445aa81402f85274a42c",
            "f789ed99c99644d393db065d1dedbc6e",
            "a13deb18f0e643dea6bc5893a5c7ebbb",
            "6725cc113fc647b3b828398c6beb36c8",
            "32a748e27a0e4dc6bc20984826c89835",
            "8422f689512840728c54c7b7f847e4e8",
            "3e9d9c084aa14bacbd1a9d29fa251297",
            "79e3163c16b342068f9245a11984347b",
            "8d2c697677554e81b911d45ebf236c1e",
            "f82e8c1acc5f408fb9bdea66191721d6",
            "27e9d0f4a35d4adca991cc9873fc490d",
            "c6ba02a7abab4a859663643c6e5d5b68",
            "74aacb3dfec04a928435aaaf57363084",
            "abe29ca8956d4d31ba3f1b6320aeb0fb",
            "925c2ed9e2f24f24958e5b26522fab9f",
            "b34214c4a6614ac29bdb7f411790674c",
            "7a8a77e2ecd8479bae94c28e23e4f2db",
            "637895bce2474a348d63d289dfe01737",
            "832b7956663b44149fd5f6f543340224",
            "749dd6aaa2bf48769c0c6d8318e7dbbb",
            "0e6c9bc3979b4656bc6a8ca70e36d266",
            "265d879c5b7444b9b92e9ba4191d0da3"
          ]
        },
        "id": "b17ZIbkbbp1d",
        "outputId": "f0bd8b4a-f7be-4fdf-9700-06a64306f04d"
      },
      "execution_count": null,
      "outputs": [
        {
          "output_type": "display_data",
          "data": {
            "text/plain": [
              "  0%|          | 0/5 [00:00<?, ?it/s]"
            ],
            "application/vnd.jupyter.widget-view+json": {
              "version_major": 2,
              "version_minor": 0,
              "model_id": "f20f2472e45b445aa81402f85274a42c"
            }
          },
          "metadata": {}
        },
        {
          "output_type": "display_data",
          "data": {
            "text/plain": [
              "  0%|          | 0/1094 [00:00<?, ?it/s]"
            ],
            "application/vnd.jupyter.widget-view+json": {
              "version_major": 2,
              "version_minor": 0,
              "model_id": "c6ba02a7abab4a859663643c6e5d5b68"
            }
          },
          "metadata": {}
        }
      ]
    },
    {
      "cell_type": "markdown",
      "source": [
        "# random stuff"
      ],
      "metadata": {
        "id": "KeLyZgoyDyIY"
      }
    },
    {
      "cell_type": "code",
      "source": [
        "a = torch.tensor([SOS_TOKEN_INDEX]*4, dtype=torch.long)\n",
        "print(a)"
      ],
      "metadata": {
        "colab": {
          "base_uri": "https://localhost:8080/"
        },
        "id": "0n2JM4L6fNs6",
        "outputId": "93e3a36f-03a5-467d-9065-30bb3f4138a5"
      },
      "execution_count": 118,
      "outputs": [
        {
          "output_type": "stream",
          "name": "stdout",
          "text": [
            "tensor([0, 0, 0, 0])\n"
          ]
        }
      ]
    },
    {
      "cell_type": "code",
      "source": [
        "a = torch.randn(32, 64)\n",
        "print(a.shape)\n",
        "\n",
        "b = a.transpose(0, 1)\n",
        "print(b.shape)"
      ],
      "metadata": {
        "colab": {
          "base_uri": "https://localhost:8080/"
        },
        "id": "URKfXnWMbJm1",
        "outputId": "0b589d10-2d72-4fda-f151-dcecb391b1bc"
      },
      "execution_count": 88,
      "outputs": [
        {
          "output_type": "stream",
          "name": "stdout",
          "text": [
            "torch.Size([32, 64])\n",
            "torch.Size([64, 32])\n"
          ]
        }
      ]
    },
    {
      "cell_type": "code",
      "source": [
        "a = torch.randn(4, 10)\n",
        "b = a[0:0+1, :]\n",
        "\n",
        "print(f\"a.shape = {a.shape}, b.shape = {b.shape}\")"
      ],
      "metadata": {
        "id": "dcs3sr-Reorr",
        "colab": {
          "base_uri": "https://localhost:8080/"
        },
        "outputId": "94767f85-eb1f-46b7-b28e-343b945d17d0"
      },
      "execution_count": 10,
      "outputs": [
        {
          "output_type": "stream",
          "name": "stdout",
          "text": [
            "a.shape = torch.Size([4, 10]), b.shape = torch.Size([1, 10])\n"
          ]
        }
      ]
    },
    {
      "cell_type": "code",
      "source": [
        "a = torch.rand(1, 4, 10)\n",
        "b = a[0, :, :]\n",
        "print(b.shape)"
      ],
      "metadata": {
        "colab": {
          "base_uri": "https://localhost:8080/"
        },
        "id": "zMGojTGDD6rf",
        "outputId": "c56d69b5-2796-48f4-a95a-68d2a4e110c0"
      },
      "execution_count": 11,
      "outputs": [
        {
          "output_type": "stream",
          "name": "stdout",
          "text": [
            "torch.Size([4, 10])\n"
          ]
        }
      ]
    },
    {
      "cell_type": "code",
      "source": [
        "a = torch.randn(3, 5) # (batch_size, output_size)\n",
        "print(a)"
      ],
      "metadata": {
        "colab": {
          "base_uri": "https://localhost:8080/"
        },
        "id": "MQhJaAPeEj1U",
        "outputId": "d0144f4e-65de-4967-aecb-1c8a518451ee"
      },
      "execution_count": 23,
      "outputs": [
        {
          "output_type": "stream",
          "name": "stdout",
          "text": [
            "tensor([[ 0.8925, -0.1343,  0.8933,  1.3184, -0.7888],\n",
            "        [ 0.8849,  1.4044, -0.1104, -1.2036, -0.5046],\n",
            "        [-1.2304,  0.2524,  1.1802, -0.5002,  1.6134]])\n"
          ]
        }
      ]
    },
    {
      "cell_type": "code",
      "source": [
        "topv, topi = a.topk(1)"
      ],
      "metadata": {
        "id": "EmtHL3FRJR9B"
      },
      "execution_count": 24,
      "outputs": []
    },
    {
      "cell_type": "code",
      "source": [
        "print(topv.shape) # (batch_size, 1)"
      ],
      "metadata": {
        "colab": {
          "base_uri": "https://localhost:8080/"
        },
        "id": "9Vw7LugSJYQd",
        "outputId": "5343c6f1-39dc-412c-b0ad-17243d0d2d26"
      },
      "execution_count": 26,
      "outputs": [
        {
          "output_type": "stream",
          "name": "stdout",
          "text": [
            "torch.Size([3, 1])\n"
          ]
        }
      ]
    },
    {
      "cell_type": "code",
      "source": [
        "print(topi.shape) # (batch_size, 1)"
      ],
      "metadata": {
        "colab": {
          "base_uri": "https://localhost:8080/"
        },
        "id": "HiT0zdhqJZOa",
        "outputId": "0b7220f8-3cdb-4542-f855-b3b0e89330c0"
      },
      "execution_count": 30,
      "outputs": [
        {
          "output_type": "stream",
          "name": "stdout",
          "text": [
            "torch.Size([3, 1])\n"
          ]
        }
      ]
    },
    {
      "cell_type": "code",
      "source": [
        "topi.squeeze(-1)"
      ],
      "metadata": {
        "colab": {
          "base_uri": "https://localhost:8080/"
        },
        "id": "qy6blBdgJghE",
        "outputId": "4ea80dc5-6447-470a-d782-27950dae62d6"
      },
      "execution_count": 31,
      "outputs": [
        {
          "output_type": "execute_result",
          "data": {
            "text/plain": [
              "tensor([3, 1, 4])"
            ]
          },
          "metadata": {},
          "execution_count": 31
        }
      ]
    },
    {
      "cell_type": "code",
      "source": [
        "a = torch.randint(20, size=(5,))\n",
        "print(a)"
      ],
      "metadata": {
        "colab": {
          "base_uri": "https://localhost:8080/"
        },
        "id": "SCkEMVmIKff7",
        "outputId": "d0c977ba-809c-4550-e13e-6a9f0cb63841"
      },
      "execution_count": 33,
      "outputs": [
        {
          "output_type": "stream",
          "name": "stdout",
          "text": [
            "tensor([ 9, 14,  1,  4,  8])\n"
          ]
        }
      ]
    },
    {
      "cell_type": "code",
      "source": [
        "if (a == 1).all():\n",
        "  print(\"false\")\n",
        "\n",
        "else:\n",
        "  print(\"true\")"
      ],
      "metadata": {
        "colab": {
          "base_uri": "https://localhost:8080/"
        },
        "id": "SdfQlVRALFIB",
        "outputId": "bbe27bed-9374-44c0-d744-5aaf62b26db8"
      },
      "execution_count": 37,
      "outputs": [
        {
          "output_type": "stream",
          "name": "stdout",
          "text": [
            "true\n"
          ]
        }
      ]
    },
    {
      "cell_type": "code",
      "source": [],
      "metadata": {
        "id": "j1ieMSdeLHMq"
      },
      "execution_count": null,
      "outputs": []
    }
  ]
}