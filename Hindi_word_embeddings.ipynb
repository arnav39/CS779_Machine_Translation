{
  "nbformat": 4,
  "nbformat_minor": 0,
  "metadata": {
    "colab": {
      "provenance": [],
      "authorship_tag": "ABX9TyP6ijct45SclPHtg4s/n9ww",
      "include_colab_link": true
    },
    "kernelspec": {
      "name": "python3",
      "display_name": "Python 3"
    },
    "language_info": {
      "name": "python"
    }
  },
  "cells": [
    {
      "cell_type": "markdown",
      "metadata": {
        "id": "view-in-github",
        "colab_type": "text"
      },
      "source": [
        "<a href=\"https://colab.research.google.com/github/arnav39/CS779_Machine_Translation/blob/main/Hindi_word_embeddings.ipynb\" target=\"_parent\"><img src=\"https://colab.research.google.com/assets/colab-badge.svg\" alt=\"Open In Colab\"/></a>"
      ]
    },
    {
      "cell_type": "code",
      "source": [
        "!pip install indic-nlp-library"
      ],
      "metadata": {
        "colab": {
          "base_uri": "https://localhost:8080/"
        },
        "id": "hM4FtKkCCabZ",
        "outputId": "1bda5696-ab0b-4030-de5c-e5b8d5444eb3"
      },
      "execution_count": 3,
      "outputs": [
        {
          "output_type": "stream",
          "name": "stdout",
          "text": [
            "Installing collected packages: morfessor, sphinxcontrib-jquery, sphinx-argparse, sphinx-rtd-theme, indic-nlp-library\n",
            "Successfully installed indic-nlp-library-0.91 morfessor-2.0.6 sphinx-argparse-0.4.0 sphinx-rtd-theme-1.2.0 sphinxcontrib-jquery-4.1\n"
          ]
        }
      ]
    },
    {
      "cell_type": "code",
      "source": [
        "from google.colab import drive\n",
        "drive.mount('/content/drive')"
      ],
      "metadata": {
        "colab": {
          "base_uri": "https://localhost:8080/"
        },
        "id": "-Etlmvqd8gL3",
        "outputId": "cb5ab557-f848-458f-9c97-c18e8ef2ba52"
      },
      "execution_count": 1,
      "outputs": [
        {
          "output_type": "stream",
          "name": "stdout",
          "text": [
            "Mounted at /content/drive\n"
          ]
        }
      ]
    },
    {
      "cell_type": "code",
      "source": [
        "import gensim\n",
        "from indicnlp.tokenize import sentence_tokenize, indic_tokenize\n",
        "import numpy as np"
      ],
      "metadata": {
        "id": "KaWowf008tbk"
      },
      "execution_count": 14,
      "outputs": []
    },
    {
      "cell_type": "code",
      "source": [
        "model = gensim.models.KeyedVectors.load_word2vec_format('/content/drive/MyDrive/wiki.hi/wiki.hi.vec', binary=False, encoding='utf-8')"
      ],
      "metadata": {
        "id": "p-F89Exq83tT"
      },
      "execution_count": 5,
      "outputs": []
    },
    {
      "cell_type": "code",
      "source": [
        "model.vector_size"
      ],
      "metadata": {
        "colab": {
          "base_uri": "https://localhost:8080/"
        },
        "id": "_l_BgVksQT7Y",
        "outputId": "2f12e2b5-4011-420b-d23d-538eec318617"
      },
      "execution_count": 6,
      "outputs": [
        {
          "output_type": "execute_result",
          "data": {
            "text/plain": [
              "300"
            ]
          },
          "metadata": {},
          "execution_count": 6
        }
      ]
    },
    {
      "cell_type": "code",
      "source": [
        "full_stop = '।'\n",
        "embeddings = model.get_vector(full_stop)"
      ],
      "metadata": {
        "id": "JY2LY3vv-1hW"
      },
      "execution_count": 7,
      "outputs": []
    },
    {
      "cell_type": "code",
      "source": [
        "embeddings.shape"
      ],
      "metadata": {
        "colab": {
          "base_uri": "https://localhost:8080/"
        },
        "id": "1OM6447-_CU9",
        "outputId": "f284eee6-b953-409a-dcf4-d8a07130d391"
      },
      "execution_count": 8,
      "outputs": [
        {
          "output_type": "execute_result",
          "data": {
            "text/plain": [
              "(300,)"
            ]
          },
          "metadata": {},
          "execution_count": 8
        }
      ]
    },
    {
      "cell_type": "code",
      "source": [
        "vocab = model.key_to_index\n",
        "print(type(vocab))\n",
        "print(len(vocab))"
      ],
      "metadata": {
        "colab": {
          "base_uri": "https://localhost:8080/"
        },
        "id": "uGFuMHxIAgke",
        "outputId": "387ba748-1a80-40fb-dc23-b41938f1b8c7"
      },
      "execution_count": 9,
      "outputs": [
        {
          "output_type": "stream",
          "name": "stdout",
          "text": [
            "<class 'dict'>\n",
            "158016\n"
          ]
        }
      ]
    },
    {
      "cell_type": "code",
      "source": [
        "for key, item in vocab.items():\n",
        "  if item == 1:\n",
        "    print(key)"
      ],
      "metadata": {
        "colab": {
          "base_uri": "https://localhost:8080/"
        },
        "id": "uylw2SZopFhv",
        "outputId": "39d952d3-b6f2-4c30-9824-0c01159fdd16"
      },
      "execution_count": 22,
      "outputs": [
        {
          "output_type": "stream",
          "name": "stdout",
          "text": [
            "के\n"
          ]
        }
      ]
    },
    {
      "cell_type": "code",
      "source": [
        "a = 'hello there, my name is arnav'\n",
        "print(a.split())"
      ],
      "metadata": {
        "colab": {
          "base_uri": "https://localhost:8080/"
        },
        "id": "1Pw7RyW6AjJs",
        "outputId": "50520a9f-f219-4785-cc81-3f953455bd11"
      },
      "execution_count": 10,
      "outputs": [
        {
          "output_type": "stream",
          "name": "stdout",
          "text": [
            "['hello', 'there,', 'my', 'name', 'is', 'arnav']\n"
          ]
        }
      ]
    },
    {
      "cell_type": "code",
      "source": [
        "my_vocab = {'hello': 0, 'my': 1, 'name': 2, 'is': 3}\n",
        "my_sent = 'Hello, my name.'\n",
        "\n",
        "print(my_sent.split())"
      ],
      "metadata": {
        "colab": {
          "base_uri": "https://localhost:8080/"
        },
        "id": "slERuWtTBb72",
        "outputId": "7332e896-124c-4feb-df73-162d9458ed8f"
      },
      "execution_count": 11,
      "outputs": [
        {
          "output_type": "stream",
          "name": "stdout",
          "text": [
            "['Hello,', 'my', 'name.']\n"
          ]
        }
      ]
    },
    {
      "cell_type": "code",
      "source": [
        "text = 'यह हिंदी का एक उदाहरण है। यहां, दो वाक्य हैं।'\n",
        "word_tokens = indic_tokenize.trivial_tokenize(text)\n",
        "print(word_tokens)"
      ],
      "metadata": {
        "colab": {
          "base_uri": "https://localhost:8080/"
        },
        "id": "lVJQvIW3CH-3",
        "outputId": "31b95cd8-a091-4c7a-a280-9fa385952d2a"
      },
      "execution_count": 12,
      "outputs": [
        {
          "output_type": "stream",
          "name": "stdout",
          "text": [
            "['यह', 'हिंदी', 'का', 'एक', 'उदाहरण', 'है', '।', 'यहां', ',', 'दो', 'वाक्य', 'हैं', '।']\n"
          ]
        }
      ]
    },
    {
      "cell_type": "code",
      "source": [
        "word_embeddings = [model.get_vector(word) for word in word_tokens]\n",
        "for word in word_embeddings:\n",
        "  print(word.shape)\n",
        "\n",
        "sent_emebddings = np.stack(word_embeddings)"
      ],
      "metadata": {
        "colab": {
          "base_uri": "https://localhost:8080/"
        },
        "id": "pIY79oJiCxj0",
        "outputId": "9c38dae6-4ed0-4c85-a20f-57ac8fe591e1"
      },
      "execution_count": 15,
      "outputs": [
        {
          "output_type": "stream",
          "name": "stdout",
          "text": [
            "(300,)\n",
            "(300,)\n",
            "(300,)\n",
            "(300,)\n",
            "(300,)\n",
            "(300,)\n",
            "(300,)\n",
            "(300,)\n",
            "(300,)\n",
            "(300,)\n",
            "(300,)\n",
            "(300,)\n",
            "(300,)\n"
          ]
        }
      ]
    },
    {
      "cell_type": "code",
      "source": [
        "print(sent_emebddings.shape)"
      ],
      "metadata": {
        "colab": {
          "base_uri": "https://localhost:8080/"
        },
        "id": "sDJwdQuYo6t-",
        "outputId": "187b6389-dfcf-4acb-f8ba-820f39d524e9"
      },
      "execution_count": 16,
      "outputs": [
        {
          "output_type": "stream",
          "name": "stdout",
          "text": [
            "(13, 300)\n"
          ]
        }
      ]
    },
    {
      "cell_type": "code",
      "source": [],
      "metadata": {
        "id": "y7yrSc1Xp1xy"
      },
      "execution_count": null,
      "outputs": []
    }
  ]
}