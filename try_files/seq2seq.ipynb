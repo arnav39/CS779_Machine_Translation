{
  "nbformat": 4,
  "nbformat_minor": 0,
  "metadata": {
    "colab": {
      "provenance": [],
      "collapsed_sections": [
        "GIeU1HBr3Bg4",
        "UAh4wWJz3DlL"
      ],
      "authorship_tag": "ABX9TyNJLoDPx0HvGVWVcEPMgNGW",
      "include_colab_link": true
    },
    "kernelspec": {
      "name": "python3",
      "display_name": "Python 3"
    },
    "language_info": {
      "name": "python"
    },
    "widgets": {
      "application/vnd.jupyter.widget-state+json": {
        "b16bdde93caa4fc98d10227852369b61": {
          "model_module": "@jupyter-widgets/controls",
          "model_name": "HBoxModel",
          "model_module_version": "1.5.0",
          "state": {
            "_dom_classes": [],
            "_model_module": "@jupyter-widgets/controls",
            "_model_module_version": "1.5.0",
            "_model_name": "HBoxModel",
            "_view_count": null,
            "_view_module": "@jupyter-widgets/controls",
            "_view_module_version": "1.5.0",
            "_view_name": "HBoxView",
            "box_style": "",
            "children": [
              "IPY_MODEL_02e5200015584d50847ca12fcfa05cea",
              "IPY_MODEL_45dbd42036c6465d9a37b91cdfef9001",
              "IPY_MODEL_95103a9d497745c594277eeaf60168ac"
            ],
            "layout": "IPY_MODEL_b491fe69c20f4c75994123f37f911f26"
          }
        },
        "02e5200015584d50847ca12fcfa05cea": {
          "model_module": "@jupyter-widgets/controls",
          "model_name": "HTMLModel",
          "model_module_version": "1.5.0",
          "state": {
            "_dom_classes": [],
            "_model_module": "@jupyter-widgets/controls",
            "_model_module_version": "1.5.0",
            "_model_name": "HTMLModel",
            "_view_count": null,
            "_view_module": "@jupyter-widgets/controls",
            "_view_module_version": "1.5.0",
            "_view_name": "HTMLView",
            "description": "",
            "description_tooltip": null,
            "layout": "IPY_MODEL_fe610244b7fc4d0590a2c435eccde3a1",
            "placeholder": "​",
            "style": "IPY_MODEL_5e2353ea0a464f3fa81252cec979e005",
            "value": "100%"
          }
        },
        "45dbd42036c6465d9a37b91cdfef9001": {
          "model_module": "@jupyter-widgets/controls",
          "model_name": "FloatProgressModel",
          "model_module_version": "1.5.0",
          "state": {
            "_dom_classes": [],
            "_model_module": "@jupyter-widgets/controls",
            "_model_module_version": "1.5.0",
            "_model_name": "FloatProgressModel",
            "_view_count": null,
            "_view_module": "@jupyter-widgets/controls",
            "_view_module_version": "1.5.0",
            "_view_name": "ProgressView",
            "bar_style": "success",
            "description": "",
            "description_tooltip": null,
            "layout": "IPY_MODEL_6c3cc94a447c401aaa0ba3083d2e521b",
            "max": 100,
            "min": 0,
            "orientation": "horizontal",
            "style": "IPY_MODEL_091d07289f9d4c6dbe2a2307fd4dd45c",
            "value": 100
          }
        },
        "95103a9d497745c594277eeaf60168ac": {
          "model_module": "@jupyter-widgets/controls",
          "model_name": "HTMLModel",
          "model_module_version": "1.5.0",
          "state": {
            "_dom_classes": [],
            "_model_module": "@jupyter-widgets/controls",
            "_model_module_version": "1.5.0",
            "_model_name": "HTMLModel",
            "_view_count": null,
            "_view_module": "@jupyter-widgets/controls",
            "_view_module_version": "1.5.0",
            "_view_name": "HTMLView",
            "description": "",
            "description_tooltip": null,
            "layout": "IPY_MODEL_cb0bc2d38c0a459ba6b169eb07e4ce4c",
            "placeholder": "​",
            "style": "IPY_MODEL_d11f01a556794a0ebba662809f6f01ad",
            "value": " 100/100 [00:14&lt;00:00,  5.55it/s]"
          }
        },
        "b491fe69c20f4c75994123f37f911f26": {
          "model_module": "@jupyter-widgets/base",
          "model_name": "LayoutModel",
          "model_module_version": "1.2.0",
          "state": {
            "_model_module": "@jupyter-widgets/base",
            "_model_module_version": "1.2.0",
            "_model_name": "LayoutModel",
            "_view_count": null,
            "_view_module": "@jupyter-widgets/base",
            "_view_module_version": "1.2.0",
            "_view_name": "LayoutView",
            "align_content": null,
            "align_items": null,
            "align_self": null,
            "border": null,
            "bottom": null,
            "display": null,
            "flex": null,
            "flex_flow": null,
            "grid_area": null,
            "grid_auto_columns": null,
            "grid_auto_flow": null,
            "grid_auto_rows": null,
            "grid_column": null,
            "grid_gap": null,
            "grid_row": null,
            "grid_template_areas": null,
            "grid_template_columns": null,
            "grid_template_rows": null,
            "height": null,
            "justify_content": null,
            "justify_items": null,
            "left": null,
            "margin": null,
            "max_height": null,
            "max_width": null,
            "min_height": null,
            "min_width": null,
            "object_fit": null,
            "object_position": null,
            "order": null,
            "overflow": null,
            "overflow_x": null,
            "overflow_y": null,
            "padding": null,
            "right": null,
            "top": null,
            "visibility": null,
            "width": null
          }
        },
        "fe610244b7fc4d0590a2c435eccde3a1": {
          "model_module": "@jupyter-widgets/base",
          "model_name": "LayoutModel",
          "model_module_version": "1.2.0",
          "state": {
            "_model_module": "@jupyter-widgets/base",
            "_model_module_version": "1.2.0",
            "_model_name": "LayoutModel",
            "_view_count": null,
            "_view_module": "@jupyter-widgets/base",
            "_view_module_version": "1.2.0",
            "_view_name": "LayoutView",
            "align_content": null,
            "align_items": null,
            "align_self": null,
            "border": null,
            "bottom": null,
            "display": null,
            "flex": null,
            "flex_flow": null,
            "grid_area": null,
            "grid_auto_columns": null,
            "grid_auto_flow": null,
            "grid_auto_rows": null,
            "grid_column": null,
            "grid_gap": null,
            "grid_row": null,
            "grid_template_areas": null,
            "grid_template_columns": null,
            "grid_template_rows": null,
            "height": null,
            "justify_content": null,
            "justify_items": null,
            "left": null,
            "margin": null,
            "max_height": null,
            "max_width": null,
            "min_height": null,
            "min_width": null,
            "object_fit": null,
            "object_position": null,
            "order": null,
            "overflow": null,
            "overflow_x": null,
            "overflow_y": null,
            "padding": null,
            "right": null,
            "top": null,
            "visibility": null,
            "width": null
          }
        },
        "5e2353ea0a464f3fa81252cec979e005": {
          "model_module": "@jupyter-widgets/controls",
          "model_name": "DescriptionStyleModel",
          "model_module_version": "1.5.0",
          "state": {
            "_model_module": "@jupyter-widgets/controls",
            "_model_module_version": "1.5.0",
            "_model_name": "DescriptionStyleModel",
            "_view_count": null,
            "_view_module": "@jupyter-widgets/base",
            "_view_module_version": "1.2.0",
            "_view_name": "StyleView",
            "description_width": ""
          }
        },
        "6c3cc94a447c401aaa0ba3083d2e521b": {
          "model_module": "@jupyter-widgets/base",
          "model_name": "LayoutModel",
          "model_module_version": "1.2.0",
          "state": {
            "_model_module": "@jupyter-widgets/base",
            "_model_module_version": "1.2.0",
            "_model_name": "LayoutModel",
            "_view_count": null,
            "_view_module": "@jupyter-widgets/base",
            "_view_module_version": "1.2.0",
            "_view_name": "LayoutView",
            "align_content": null,
            "align_items": null,
            "align_self": null,
            "border": null,
            "bottom": null,
            "display": null,
            "flex": null,
            "flex_flow": null,
            "grid_area": null,
            "grid_auto_columns": null,
            "grid_auto_flow": null,
            "grid_auto_rows": null,
            "grid_column": null,
            "grid_gap": null,
            "grid_row": null,
            "grid_template_areas": null,
            "grid_template_columns": null,
            "grid_template_rows": null,
            "height": null,
            "justify_content": null,
            "justify_items": null,
            "left": null,
            "margin": null,
            "max_height": null,
            "max_width": null,
            "min_height": null,
            "min_width": null,
            "object_fit": null,
            "object_position": null,
            "order": null,
            "overflow": null,
            "overflow_x": null,
            "overflow_y": null,
            "padding": null,
            "right": null,
            "top": null,
            "visibility": null,
            "width": null
          }
        },
        "091d07289f9d4c6dbe2a2307fd4dd45c": {
          "model_module": "@jupyter-widgets/controls",
          "model_name": "ProgressStyleModel",
          "model_module_version": "1.5.0",
          "state": {
            "_model_module": "@jupyter-widgets/controls",
            "_model_module_version": "1.5.0",
            "_model_name": "ProgressStyleModel",
            "_view_count": null,
            "_view_module": "@jupyter-widgets/base",
            "_view_module_version": "1.2.0",
            "_view_name": "StyleView",
            "bar_color": null,
            "description_width": ""
          }
        },
        "cb0bc2d38c0a459ba6b169eb07e4ce4c": {
          "model_module": "@jupyter-widgets/base",
          "model_name": "LayoutModel",
          "model_module_version": "1.2.0",
          "state": {
            "_model_module": "@jupyter-widgets/base",
            "_model_module_version": "1.2.0",
            "_model_name": "LayoutModel",
            "_view_count": null,
            "_view_module": "@jupyter-widgets/base",
            "_view_module_version": "1.2.0",
            "_view_name": "LayoutView",
            "align_content": null,
            "align_items": null,
            "align_self": null,
            "border": null,
            "bottom": null,
            "display": null,
            "flex": null,
            "flex_flow": null,
            "grid_area": null,
            "grid_auto_columns": null,
            "grid_auto_flow": null,
            "grid_auto_rows": null,
            "grid_column": null,
            "grid_gap": null,
            "grid_row": null,
            "grid_template_areas": null,
            "grid_template_columns": null,
            "grid_template_rows": null,
            "height": null,
            "justify_content": null,
            "justify_items": null,
            "left": null,
            "margin": null,
            "max_height": null,
            "max_width": null,
            "min_height": null,
            "min_width": null,
            "object_fit": null,
            "object_position": null,
            "order": null,
            "overflow": null,
            "overflow_x": null,
            "overflow_y": null,
            "padding": null,
            "right": null,
            "top": null,
            "visibility": null,
            "width": null
          }
        },
        "d11f01a556794a0ebba662809f6f01ad": {
          "model_module": "@jupyter-widgets/controls",
          "model_name": "DescriptionStyleModel",
          "model_module_version": "1.5.0",
          "state": {
            "_model_module": "@jupyter-widgets/controls",
            "_model_module_version": "1.5.0",
            "_model_name": "DescriptionStyleModel",
            "_view_count": null,
            "_view_module": "@jupyter-widgets/base",
            "_view_module_version": "1.2.0",
            "_view_name": "StyleView",
            "description_width": ""
          }
        },
        "d3e5126f502d49518eaa9d211614e810": {
          "model_module": "@jupyter-widgets/controls",
          "model_name": "HBoxModel",
          "model_module_version": "1.5.0",
          "state": {
            "_dom_classes": [],
            "_model_module": "@jupyter-widgets/controls",
            "_model_module_version": "1.5.0",
            "_model_name": "HBoxModel",
            "_view_count": null,
            "_view_module": "@jupyter-widgets/controls",
            "_view_module_version": "1.5.0",
            "_view_name": "HBoxView",
            "box_style": "",
            "children": [
              "IPY_MODEL_b543d134c44a4877a3d128da7c0c5e86",
              "IPY_MODEL_e8c9178538d34cfbaf825b3e9aa8404e",
              "IPY_MODEL_76fceedbf2d449de9ea15fd47036cf6e"
            ],
            "layout": "IPY_MODEL_05f13fa65afc49b4b5ed3d9f7a183dff"
          }
        },
        "b543d134c44a4877a3d128da7c0c5e86": {
          "model_module": "@jupyter-widgets/controls",
          "model_name": "HTMLModel",
          "model_module_version": "1.5.0",
          "state": {
            "_dom_classes": [],
            "_model_module": "@jupyter-widgets/controls",
            "_model_module_version": "1.5.0",
            "_model_name": "HTMLModel",
            "_view_count": null,
            "_view_module": "@jupyter-widgets/controls",
            "_view_module_version": "1.5.0",
            "_view_name": "HTMLView",
            "description": "",
            "description_tooltip": null,
            "layout": "IPY_MODEL_eaf1455edbd146479ab6ee314b46ba11",
            "placeholder": "​",
            "style": "IPY_MODEL_891e09777b494e22a23fa9c3bc20b37b",
            "value": "100%"
          }
        },
        "e8c9178538d34cfbaf825b3e9aa8404e": {
          "model_module": "@jupyter-widgets/controls",
          "model_name": "FloatProgressModel",
          "model_module_version": "1.5.0",
          "state": {
            "_dom_classes": [],
            "_model_module": "@jupyter-widgets/controls",
            "_model_module_version": "1.5.0",
            "_model_name": "FloatProgressModel",
            "_view_count": null,
            "_view_module": "@jupyter-widgets/controls",
            "_view_module_version": "1.5.0",
            "_view_name": "ProgressView",
            "bar_style": "success",
            "description": "",
            "description_tooltip": null,
            "layout": "IPY_MODEL_ce529235f1434f7192af4516afd63954",
            "max": 140000,
            "min": 0,
            "orientation": "horizontal",
            "style": "IPY_MODEL_7f24527f84654a0a9dae60a35c2de37e",
            "value": 140000
          }
        },
        "76fceedbf2d449de9ea15fd47036cf6e": {
          "model_module": "@jupyter-widgets/controls",
          "model_name": "HTMLModel",
          "model_module_version": "1.5.0",
          "state": {
            "_dom_classes": [],
            "_model_module": "@jupyter-widgets/controls",
            "_model_module_version": "1.5.0",
            "_model_name": "HTMLModel",
            "_view_count": null,
            "_view_module": "@jupyter-widgets/controls",
            "_view_module_version": "1.5.0",
            "_view_name": "HTMLView",
            "description": "",
            "description_tooltip": null,
            "layout": "IPY_MODEL_dec2d6358b9d44a99be0cd324a93f26c",
            "placeholder": "​",
            "style": "IPY_MODEL_4e4066497d284f1d88710fa4648101f0",
            "value": " 140000/140000 [32:02&lt;00:00, 81.42it/s]"
          }
        },
        "05f13fa65afc49b4b5ed3d9f7a183dff": {
          "model_module": "@jupyter-widgets/base",
          "model_name": "LayoutModel",
          "model_module_version": "1.2.0",
          "state": {
            "_model_module": "@jupyter-widgets/base",
            "_model_module_version": "1.2.0",
            "_model_name": "LayoutModel",
            "_view_count": null,
            "_view_module": "@jupyter-widgets/base",
            "_view_module_version": "1.2.0",
            "_view_name": "LayoutView",
            "align_content": null,
            "align_items": null,
            "align_self": null,
            "border": null,
            "bottom": null,
            "display": null,
            "flex": null,
            "flex_flow": null,
            "grid_area": null,
            "grid_auto_columns": null,
            "grid_auto_flow": null,
            "grid_auto_rows": null,
            "grid_column": null,
            "grid_gap": null,
            "grid_row": null,
            "grid_template_areas": null,
            "grid_template_columns": null,
            "grid_template_rows": null,
            "height": null,
            "justify_content": null,
            "justify_items": null,
            "left": null,
            "margin": null,
            "max_height": null,
            "max_width": null,
            "min_height": null,
            "min_width": null,
            "object_fit": null,
            "object_position": null,
            "order": null,
            "overflow": null,
            "overflow_x": null,
            "overflow_y": null,
            "padding": null,
            "right": null,
            "top": null,
            "visibility": null,
            "width": null
          }
        },
        "eaf1455edbd146479ab6ee314b46ba11": {
          "model_module": "@jupyter-widgets/base",
          "model_name": "LayoutModel",
          "model_module_version": "1.2.0",
          "state": {
            "_model_module": "@jupyter-widgets/base",
            "_model_module_version": "1.2.0",
            "_model_name": "LayoutModel",
            "_view_count": null,
            "_view_module": "@jupyter-widgets/base",
            "_view_module_version": "1.2.0",
            "_view_name": "LayoutView",
            "align_content": null,
            "align_items": null,
            "align_self": null,
            "border": null,
            "bottom": null,
            "display": null,
            "flex": null,
            "flex_flow": null,
            "grid_area": null,
            "grid_auto_columns": null,
            "grid_auto_flow": null,
            "grid_auto_rows": null,
            "grid_column": null,
            "grid_gap": null,
            "grid_row": null,
            "grid_template_areas": null,
            "grid_template_columns": null,
            "grid_template_rows": null,
            "height": null,
            "justify_content": null,
            "justify_items": null,
            "left": null,
            "margin": null,
            "max_height": null,
            "max_width": null,
            "min_height": null,
            "min_width": null,
            "object_fit": null,
            "object_position": null,
            "order": null,
            "overflow": null,
            "overflow_x": null,
            "overflow_y": null,
            "padding": null,
            "right": null,
            "top": null,
            "visibility": null,
            "width": null
          }
        },
        "891e09777b494e22a23fa9c3bc20b37b": {
          "model_module": "@jupyter-widgets/controls",
          "model_name": "DescriptionStyleModel",
          "model_module_version": "1.5.0",
          "state": {
            "_model_module": "@jupyter-widgets/controls",
            "_model_module_version": "1.5.0",
            "_model_name": "DescriptionStyleModel",
            "_view_count": null,
            "_view_module": "@jupyter-widgets/base",
            "_view_module_version": "1.2.0",
            "_view_name": "StyleView",
            "description_width": ""
          }
        },
        "ce529235f1434f7192af4516afd63954": {
          "model_module": "@jupyter-widgets/base",
          "model_name": "LayoutModel",
          "model_module_version": "1.2.0",
          "state": {
            "_model_module": "@jupyter-widgets/base",
            "_model_module_version": "1.2.0",
            "_model_name": "LayoutModel",
            "_view_count": null,
            "_view_module": "@jupyter-widgets/base",
            "_view_module_version": "1.2.0",
            "_view_name": "LayoutView",
            "align_content": null,
            "align_items": null,
            "align_self": null,
            "border": null,
            "bottom": null,
            "display": null,
            "flex": null,
            "flex_flow": null,
            "grid_area": null,
            "grid_auto_columns": null,
            "grid_auto_flow": null,
            "grid_auto_rows": null,
            "grid_column": null,
            "grid_gap": null,
            "grid_row": null,
            "grid_template_areas": null,
            "grid_template_columns": null,
            "grid_template_rows": null,
            "height": null,
            "justify_content": null,
            "justify_items": null,
            "left": null,
            "margin": null,
            "max_height": null,
            "max_width": null,
            "min_height": null,
            "min_width": null,
            "object_fit": null,
            "object_position": null,
            "order": null,
            "overflow": null,
            "overflow_x": null,
            "overflow_y": null,
            "padding": null,
            "right": null,
            "top": null,
            "visibility": null,
            "width": null
          }
        },
        "7f24527f84654a0a9dae60a35c2de37e": {
          "model_module": "@jupyter-widgets/controls",
          "model_name": "ProgressStyleModel",
          "model_module_version": "1.5.0",
          "state": {
            "_model_module": "@jupyter-widgets/controls",
            "_model_module_version": "1.5.0",
            "_model_name": "ProgressStyleModel",
            "_view_count": null,
            "_view_module": "@jupyter-widgets/base",
            "_view_module_version": "1.2.0",
            "_view_name": "StyleView",
            "bar_color": null,
            "description_width": ""
          }
        },
        "dec2d6358b9d44a99be0cd324a93f26c": {
          "model_module": "@jupyter-widgets/base",
          "model_name": "LayoutModel",
          "model_module_version": "1.2.0",
          "state": {
            "_model_module": "@jupyter-widgets/base",
            "_model_module_version": "1.2.0",
            "_model_name": "LayoutModel",
            "_view_count": null,
            "_view_module": "@jupyter-widgets/base",
            "_view_module_version": "1.2.0",
            "_view_name": "LayoutView",
            "align_content": null,
            "align_items": null,
            "align_self": null,
            "border": null,
            "bottom": null,
            "display": null,
            "flex": null,
            "flex_flow": null,
            "grid_area": null,
            "grid_auto_columns": null,
            "grid_auto_flow": null,
            "grid_auto_rows": null,
            "grid_column": null,
            "grid_gap": null,
            "grid_row": null,
            "grid_template_areas": null,
            "grid_template_columns": null,
            "grid_template_rows": null,
            "height": null,
            "justify_content": null,
            "justify_items": null,
            "left": null,
            "margin": null,
            "max_height": null,
            "max_width": null,
            "min_height": null,
            "min_width": null,
            "object_fit": null,
            "object_position": null,
            "order": null,
            "overflow": null,
            "overflow_x": null,
            "overflow_y": null,
            "padding": null,
            "right": null,
            "top": null,
            "visibility": null,
            "width": null
          }
        },
        "4e4066497d284f1d88710fa4648101f0": {
          "model_module": "@jupyter-widgets/controls",
          "model_name": "DescriptionStyleModel",
          "model_module_version": "1.5.0",
          "state": {
            "_model_module": "@jupyter-widgets/controls",
            "_model_module_version": "1.5.0",
            "_model_name": "DescriptionStyleModel",
            "_view_count": null,
            "_view_module": "@jupyter-widgets/base",
            "_view_module_version": "1.2.0",
            "_view_name": "StyleView",
            "description_width": ""
          }
        },
        "d68f58c1c09944b7a03d5a655aac01d0": {
          "model_module": "@jupyter-widgets/controls",
          "model_name": "HBoxModel",
          "model_module_version": "1.5.0",
          "state": {
            "_dom_classes": [],
            "_model_module": "@jupyter-widgets/controls",
            "_model_module_version": "1.5.0",
            "_model_name": "HBoxModel",
            "_view_count": null,
            "_view_module": "@jupyter-widgets/controls",
            "_view_module_version": "1.5.0",
            "_view_name": "HBoxView",
            "box_style": "",
            "children": [
              "IPY_MODEL_ca8449ab3ee34e73a8171a4eafb0ab90",
              "IPY_MODEL_e9880496d0794ba18436e8a8d345228c",
              "IPY_MODEL_e8f2d0186998434ea691462f6cf6e649"
            ],
            "layout": "IPY_MODEL_0427f10cf1a646059bcb8b80a74e8809"
          }
        },
        "ca8449ab3ee34e73a8171a4eafb0ab90": {
          "model_module": "@jupyter-widgets/controls",
          "model_name": "HTMLModel",
          "model_module_version": "1.5.0",
          "state": {
            "_dom_classes": [],
            "_model_module": "@jupyter-widgets/controls",
            "_model_module_version": "1.5.0",
            "_model_name": "HTMLModel",
            "_view_count": null,
            "_view_module": "@jupyter-widgets/controls",
            "_view_module_version": "1.5.0",
            "_view_name": "HTMLView",
            "description": "",
            "description_tooltip": null,
            "layout": "IPY_MODEL_2123228b6a6f4259b8b16596b6e7c1f8",
            "placeholder": "​",
            "style": "IPY_MODEL_48c1bdfa83e0446ebba6b2a16a4d24cd",
            "value": "100%"
          }
        },
        "e9880496d0794ba18436e8a8d345228c": {
          "model_module": "@jupyter-widgets/controls",
          "model_name": "FloatProgressModel",
          "model_module_version": "1.5.0",
          "state": {
            "_dom_classes": [],
            "_model_module": "@jupyter-widgets/controls",
            "_model_module_version": "1.5.0",
            "_model_name": "FloatProgressModel",
            "_view_count": null,
            "_view_module": "@jupyter-widgets/controls",
            "_view_module_version": "1.5.0",
            "_view_name": "ProgressView",
            "bar_style": "success",
            "description": "",
            "description_tooltip": null,
            "layout": "IPY_MODEL_58d3ac4fdfbd42cdbc074791559de6fa",
            "max": 140000,
            "min": 0,
            "orientation": "horizontal",
            "style": "IPY_MODEL_c2aeca424c6f44798ec0a7c2932d4678",
            "value": 140000
          }
        },
        "e8f2d0186998434ea691462f6cf6e649": {
          "model_module": "@jupyter-widgets/controls",
          "model_name": "HTMLModel",
          "model_module_version": "1.5.0",
          "state": {
            "_dom_classes": [],
            "_model_module": "@jupyter-widgets/controls",
            "_model_module_version": "1.5.0",
            "_model_name": "HTMLModel",
            "_view_count": null,
            "_view_module": "@jupyter-widgets/controls",
            "_view_module_version": "1.5.0",
            "_view_name": "HTMLView",
            "description": "",
            "description_tooltip": null,
            "layout": "IPY_MODEL_b3e68106218944f38bc8135f4f7ac51d",
            "placeholder": "​",
            "style": "IPY_MODEL_027da4441ec24e88b941fc527389a4c9",
            "value": " 140000/140000 [29:31&lt;00:00, 80.61it/s]"
          }
        },
        "0427f10cf1a646059bcb8b80a74e8809": {
          "model_module": "@jupyter-widgets/base",
          "model_name": "LayoutModel",
          "model_module_version": "1.2.0",
          "state": {
            "_model_module": "@jupyter-widgets/base",
            "_model_module_version": "1.2.0",
            "_model_name": "LayoutModel",
            "_view_count": null,
            "_view_module": "@jupyter-widgets/base",
            "_view_module_version": "1.2.0",
            "_view_name": "LayoutView",
            "align_content": null,
            "align_items": null,
            "align_self": null,
            "border": null,
            "bottom": null,
            "display": null,
            "flex": null,
            "flex_flow": null,
            "grid_area": null,
            "grid_auto_columns": null,
            "grid_auto_flow": null,
            "grid_auto_rows": null,
            "grid_column": null,
            "grid_gap": null,
            "grid_row": null,
            "grid_template_areas": null,
            "grid_template_columns": null,
            "grid_template_rows": null,
            "height": null,
            "justify_content": null,
            "justify_items": null,
            "left": null,
            "margin": null,
            "max_height": null,
            "max_width": null,
            "min_height": null,
            "min_width": null,
            "object_fit": null,
            "object_position": null,
            "order": null,
            "overflow": null,
            "overflow_x": null,
            "overflow_y": null,
            "padding": null,
            "right": null,
            "top": null,
            "visibility": null,
            "width": null
          }
        },
        "2123228b6a6f4259b8b16596b6e7c1f8": {
          "model_module": "@jupyter-widgets/base",
          "model_name": "LayoutModel",
          "model_module_version": "1.2.0",
          "state": {
            "_model_module": "@jupyter-widgets/base",
            "_model_module_version": "1.2.0",
            "_model_name": "LayoutModel",
            "_view_count": null,
            "_view_module": "@jupyter-widgets/base",
            "_view_module_version": "1.2.0",
            "_view_name": "LayoutView",
            "align_content": null,
            "align_items": null,
            "align_self": null,
            "border": null,
            "bottom": null,
            "display": null,
            "flex": null,
            "flex_flow": null,
            "grid_area": null,
            "grid_auto_columns": null,
            "grid_auto_flow": null,
            "grid_auto_rows": null,
            "grid_column": null,
            "grid_gap": null,
            "grid_row": null,
            "grid_template_areas": null,
            "grid_template_columns": null,
            "grid_template_rows": null,
            "height": null,
            "justify_content": null,
            "justify_items": null,
            "left": null,
            "margin": null,
            "max_height": null,
            "max_width": null,
            "min_height": null,
            "min_width": null,
            "object_fit": null,
            "object_position": null,
            "order": null,
            "overflow": null,
            "overflow_x": null,
            "overflow_y": null,
            "padding": null,
            "right": null,
            "top": null,
            "visibility": null,
            "width": null
          }
        },
        "48c1bdfa83e0446ebba6b2a16a4d24cd": {
          "model_module": "@jupyter-widgets/controls",
          "model_name": "DescriptionStyleModel",
          "model_module_version": "1.5.0",
          "state": {
            "_model_module": "@jupyter-widgets/controls",
            "_model_module_version": "1.5.0",
            "_model_name": "DescriptionStyleModel",
            "_view_count": null,
            "_view_module": "@jupyter-widgets/base",
            "_view_module_version": "1.2.0",
            "_view_name": "StyleView",
            "description_width": ""
          }
        },
        "58d3ac4fdfbd42cdbc074791559de6fa": {
          "model_module": "@jupyter-widgets/base",
          "model_name": "LayoutModel",
          "model_module_version": "1.2.0",
          "state": {
            "_model_module": "@jupyter-widgets/base",
            "_model_module_version": "1.2.0",
            "_model_name": "LayoutModel",
            "_view_count": null,
            "_view_module": "@jupyter-widgets/base",
            "_view_module_version": "1.2.0",
            "_view_name": "LayoutView",
            "align_content": null,
            "align_items": null,
            "align_self": null,
            "border": null,
            "bottom": null,
            "display": null,
            "flex": null,
            "flex_flow": null,
            "grid_area": null,
            "grid_auto_columns": null,
            "grid_auto_flow": null,
            "grid_auto_rows": null,
            "grid_column": null,
            "grid_gap": null,
            "grid_row": null,
            "grid_template_areas": null,
            "grid_template_columns": null,
            "grid_template_rows": null,
            "height": null,
            "justify_content": null,
            "justify_items": null,
            "left": null,
            "margin": null,
            "max_height": null,
            "max_width": null,
            "min_height": null,
            "min_width": null,
            "object_fit": null,
            "object_position": null,
            "order": null,
            "overflow": null,
            "overflow_x": null,
            "overflow_y": null,
            "padding": null,
            "right": null,
            "top": null,
            "visibility": null,
            "width": null
          }
        },
        "c2aeca424c6f44798ec0a7c2932d4678": {
          "model_module": "@jupyter-widgets/controls",
          "model_name": "ProgressStyleModel",
          "model_module_version": "1.5.0",
          "state": {
            "_model_module": "@jupyter-widgets/controls",
            "_model_module_version": "1.5.0",
            "_model_name": "ProgressStyleModel",
            "_view_count": null,
            "_view_module": "@jupyter-widgets/base",
            "_view_module_version": "1.2.0",
            "_view_name": "StyleView",
            "bar_color": null,
            "description_width": ""
          }
        },
        "b3e68106218944f38bc8135f4f7ac51d": {
          "model_module": "@jupyter-widgets/base",
          "model_name": "LayoutModel",
          "model_module_version": "1.2.0",
          "state": {
            "_model_module": "@jupyter-widgets/base",
            "_model_module_version": "1.2.0",
            "_model_name": "LayoutModel",
            "_view_count": null,
            "_view_module": "@jupyter-widgets/base",
            "_view_module_version": "1.2.0",
            "_view_name": "LayoutView",
            "align_content": null,
            "align_items": null,
            "align_self": null,
            "border": null,
            "bottom": null,
            "display": null,
            "flex": null,
            "flex_flow": null,
            "grid_area": null,
            "grid_auto_columns": null,
            "grid_auto_flow": null,
            "grid_auto_rows": null,
            "grid_column": null,
            "grid_gap": null,
            "grid_row": null,
            "grid_template_areas": null,
            "grid_template_columns": null,
            "grid_template_rows": null,
            "height": null,
            "justify_content": null,
            "justify_items": null,
            "left": null,
            "margin": null,
            "max_height": null,
            "max_width": null,
            "min_height": null,
            "min_width": null,
            "object_fit": null,
            "object_position": null,
            "order": null,
            "overflow": null,
            "overflow_x": null,
            "overflow_y": null,
            "padding": null,
            "right": null,
            "top": null,
            "visibility": null,
            "width": null
          }
        },
        "027da4441ec24e88b941fc527389a4c9": {
          "model_module": "@jupyter-widgets/controls",
          "model_name": "DescriptionStyleModel",
          "model_module_version": "1.5.0",
          "state": {
            "_model_module": "@jupyter-widgets/controls",
            "_model_module_version": "1.5.0",
            "_model_name": "DescriptionStyleModel",
            "_view_count": null,
            "_view_module": "@jupyter-widgets/base",
            "_view_module_version": "1.2.0",
            "_view_name": "StyleView",
            "description_width": ""
          }
        }
      }
    }
  },
  "cells": [
    {
      "cell_type": "markdown",
      "metadata": {
        "id": "view-in-github",
        "colab_type": "text"
      },
      "source": [
        "<a href=\"https://colab.research.google.com/github/arnav39/CS779_Machine_Translation/blob/main/seq2seq.ipynb\" target=\"_parent\"><img src=\"https://colab.research.google.com/assets/colab-badge.svg\" alt=\"Open In Colab\"/></a>"
      ]
    },
    {
      "cell_type": "markdown",
      "source": [
        "## Model-class"
      ],
      "metadata": {
        "id": "GIeU1HBr3Bg4"
      }
    },
    {
      "cell_type": "code",
      "source": [
        "import torch\n",
        "import torch.nn as nn\n",
        "import random\n",
        "import sys\n",
        "\n",
        "SOS_token = 0 # index of start of sent token in the vocab"
      ],
      "metadata": {
        "id": "FD65Ibk8zgnN"
      },
      "execution_count": 168,
      "outputs": []
    },
    {
      "cell_type": "code",
      "source": [
        "class Encoder(nn.Module):\n",
        "\n",
        "  def __init__(self, input_dim, hidden_dim, n_layers):\n",
        "    super().__init__()\n",
        "    self.input_dim = input_dim\n",
        "    self.hidden_dim = hidden_dim\n",
        "    self.n_layers = n_layers\n",
        "\n",
        "    self.gru = nn.GRU(input_dim, hidden_dim, n_layers)\n",
        "\n",
        "  def forward(self, input, hidden):\n",
        "    output, hidden = self.gru(input, hidden)\n",
        "    return output, hidden\n",
        "\n",
        "  def init_hidden(self, batch_size):\n",
        "    hidden = torch.zeros(self.n_layers, batch_size, self.hidden_dim)\n",
        "    return hidden"
      ],
      "metadata": {
        "id": "EpDwjxDMqVC_"
      },
      "execution_count": null,
      "outputs": []
    },
    {
      "cell_type": "code",
      "source": [
        "class Decoder(nn.Module):\n",
        "\n",
        "  def __init__(self, input_size, hidden_size, output_size, num_layers):\n",
        "    super().__init__()\n",
        "    self.input_size = input_size\n",
        "    self.hidden_size = hidden_size\n",
        "    self.output_size = output_size\n",
        "    self.num_layers = num_layers\n",
        "\n",
        "    self.gru = nn.GRU(input_size, hidden_size, num_layers)\n",
        "    self.fc = nn.Linear(hidden_size, output_size) \n",
        "    self.softmax = nn.LogSoftmax(dim=1)\n",
        "\n",
        "  def forward(self, input, hidden):\n",
        "    output, hidden = self.gru(input, hidden)\n",
        "    # outputs.shape : (1, batch_size, hidden_dim)\n",
        "    output = self.fc(output.squeeze(0)) # (batch_size, output_dim)\n",
        "    output = self.softmax(output) # (batch_size, output_dim)\n",
        "    return output, hidden # (batch_size, output_dim), (num_layers, batch_size, hidden_dim)\n",
        "\n",
        "  def init_hidden(self, batch_size):\n",
        "    hidden = torch.zeros(self.num_layers, batch_size, self.hidden_size)\n",
        "    return hidden"
      ],
      "metadata": {
        "id": "ydduaFh7tCcK"
      },
      "execution_count": null,
      "outputs": []
    },
    {
      "cell_type": "code",
      "source": [
        "class Seq2Seq(nn.Module):\n",
        "\n",
        "  def __init__(self, encoder, decoder):\n",
        "    super().__init__()\n",
        "    self.encoder = encoder\n",
        "    self.decoder = decoder\n",
        "\n",
        "  def forward(self, input, target, teacher_forcing_ratio=0.1):\n",
        "    \n",
        "    batch_size = input.shape[1]\n",
        "    target_len = target.shape[0]\n",
        "\n",
        "    target_vocab_size = self.decoder.output_size\n",
        "    outputs = torch.zeros(target_len, batch_size, target_vocab_size).to(input.device)\n",
        "\n",
        "    # first encode the input_sequences\n",
        "    encoder_hidden = self.encoder.init_hidden(batch_size)\n",
        "    encoder_outputs, encoder_hidden = self.encoder(input, encoder_hidden)\n",
        "\n",
        "    # decode the target sequences\n",
        "    decoder_hidden = encoder_hidden\n",
        "    decoder_input = torch.zeros(1, batch_size, self.decoder.input_size).to(input.device)\n",
        "\n",
        "    # print(f\"decoder_hidden.shape = {decoder_hidden.shape}\") # (5, 6, 32)\n",
        "    # print(f\"decoder_input.shape = {decoder_input.shape}\") # (1, 6, 10)\n",
        "\n",
        "    # sys.exit()\n",
        "\n",
        "    use_teacher_forcing = True if random.random() < teacher_forcing_ratio else False\n",
        "    if use_teacher_forcing:\n",
        "\n",
        "      for t in range(target_len):\n",
        "        decoder_output, decoder_hidden = self.decoder(decoder_input, decoder_hidden)\n",
        "\n",
        "        # print(f\"decoder_hidden.shape = {decoder_hidden.shape}\")\n",
        "        # print(f\"decoder_output.shape = {decoder_output.shape}\")\n",
        "\n",
        "        # sys.exit()\n",
        "\n",
        "        outputs[t] = decoder_output\n",
        "        decoder_input = target[t].unsqueeze(0)\n",
        "\n",
        "        # print(f\"decoder_input.shape = {decoder_input.shape}\")\n",
        "        # sys.exit()\n",
        "\n",
        "    else: \n",
        "\n",
        "      print(\"Not using teacher forcing\")\n",
        "\n",
        "      for t in range(target_len):\n",
        "        decoder_output, decoder_hidden = self.decoder(decoder_input, decoder_hidden)\n",
        "        outputs[t] = decoder_output # (deocder_output.shape = (batch_size, output_dim)\n",
        "        top1 = decoder_output.argmax(1)\n",
        "        print(f\"top1.shape = {top1.shape}, batch_size = {batch_size}\")\n",
        "        \n",
        "\n",
        "    return outputs"
      ],
      "metadata": {
        "id": "RmQHti1Rt8W9"
      },
      "execution_count": null,
      "outputs": []
    },
    {
      "cell_type": "markdown",
      "source": [
        "## trying out forward_pass"
      ],
      "metadata": {
        "id": "UAh4wWJz3DlL"
      }
    },
    {
      "cell_type": "code",
      "source": [
        "encoder = Encoder(10, 32, 5)\n",
        "encoder"
      ],
      "metadata": {
        "colab": {
          "base_uri": "https://localhost:8080/"
        },
        "id": "0wvH_v6I3RWs",
        "outputId": "89e16d21-a17e-492f-ffa4-6d682bedd17b"
      },
      "execution_count": null,
      "outputs": [
        {
          "output_type": "execute_result",
          "data": {
            "text/plain": [
              "Encoder(\n",
              "  (gru): GRU(10, 32, num_layers=5)\n",
              ")"
            ]
          },
          "metadata": {},
          "execution_count": 134
        }
      ]
    },
    {
      "cell_type": "code",
      "source": [
        "# (target_size) : (seq_len, batch_size, output_size)\n",
        "t0 = torch.rand(20, 5, 400)"
      ],
      "metadata": {
        "id": "QQSEqdWF5eX9"
      },
      "execution_count": null,
      "outputs": []
    },
    {
      "cell_type": "code",
      "source": [
        "i0 = torch.randn(20, 5, 10) # (seq_len, batch_size, input_dim)\n",
        "batch_size = i0.shape[1]\n",
        "\n",
        "encoder_hidden = encoder.init_hidden(batch_size)\n",
        "print(encoder_hidden.shape) # (num_layers, batch_size, hidden_dim)\n",
        "\n",
        "encoder_output, encoder_hidden = encoder(i0, encoder_hidden)\n",
        "\n",
        "print(encoder_output.shape) # (seq_len, batch_size, hidden_dim)\n",
        "print(encoder_hidden.shape) # (num_layers, batch_size, hidden_dim)"
      ],
      "metadata": {
        "colab": {
          "base_uri": "https://localhost:8080/"
        },
        "id": "_MQJhguH3RMQ",
        "outputId": "b401582f-5133-44c1-af71-9c0ff447f5c8"
      },
      "execution_count": null,
      "outputs": [
        {
          "output_type": "stream",
          "name": "stdout",
          "text": [
            "torch.Size([5, 5, 32])\n",
            "torch.Size([20, 5, 32])\n",
            "torch.Size([5, 5, 32])\n"
          ]
        }
      ]
    },
    {
      "cell_type": "code",
      "source": [
        "decoder = Decoder(10, 32, 400, 5)\n",
        "decoder"
      ],
      "metadata": {
        "colab": {
          "base_uri": "https://localhost:8080/"
        },
        "id": "8iBR2CAi46Qw",
        "outputId": "02d110c8-89ca-48a3-ec1c-b921a40113cf"
      },
      "execution_count": null,
      "outputs": [
        {
          "output_type": "execute_result",
          "data": {
            "text/plain": [
              "Decoder(\n",
              "  (gru): GRU(10, 32, num_layers=5)\n",
              "  (fc): Linear(in_features=32, out_features=400, bias=True)\n",
              "  (softmax): LogSoftmax(dim=1)\n",
              ")"
            ]
          },
          "metadata": {},
          "execution_count": 137
        }
      ]
    },
    {
      "cell_type": "code",
      "source": [
        "decoder_input = torch.zeros(1).expand(1, batch_size, 10)\n",
        "print(f\"decoder_input.shape = {decoder_input.shape}\")\n",
        "\n",
        "decoder_output, decoder_hidden = decoder(decoder_input, encoder_hidden)\n",
        "print(f\"decoder_output.shape = {decoder_output.shape}\")\n",
        "print(f\"decoder_hidden.shape = {decoder_hidden.shape}\")"
      ],
      "metadata": {
        "colab": {
          "base_uri": "https://localhost:8080/"
        },
        "id": "0wvfOMKS5sHo",
        "outputId": "52876b0c-815b-418c-f47a-80e0b1addf09"
      },
      "execution_count": null,
      "outputs": [
        {
          "output_type": "stream",
          "name": "stdout",
          "text": [
            "decoder_input.shape = torch.Size([1, 5, 10])\n",
            "decoder_output.shape = torch.Size([5, 400])\n",
            "decoder_hidden.shape = torch.Size([5, 5, 32])\n"
          ]
        }
      ]
    },
    {
      "cell_type": "code",
      "source": [
        "top1 = decoder_output.argmax(1)\n",
        "print(type(top1))\n",
        "print(top1.shape)"
      ],
      "metadata": {
        "colab": {
          "base_uri": "https://localhost:8080/"
        },
        "id": "xPV3oWjR6g11",
        "outputId": "fda5a893-3ce5-4cab-aa05-5e247b19a948"
      },
      "execution_count": null,
      "outputs": [
        {
          "output_type": "stream",
          "name": "stdout",
          "text": [
            "<class 'torch.Tensor'>\n",
            "torch.Size([5])\n"
          ]
        }
      ]
    },
    {
      "cell_type": "code",
      "source": [
        "model = Seq2Seq(encoder, decoder)\n",
        "model"
      ],
      "metadata": {
        "colab": {
          "base_uri": "https://localhost:8080/"
        },
        "id": "BUXWRvC-7oiI",
        "outputId": "e71db9e4-d308-43a1-e255-f1d4d8689a38"
      },
      "execution_count": null,
      "outputs": [
        {
          "output_type": "execute_result",
          "data": {
            "text/plain": [
              "Seq2Seq(\n",
              "  (encoder): Encoder(\n",
              "    (gru): GRU(10, 32, num_layers=5)\n",
              "  )\n",
              "  (decoder): Decoder(\n",
              "    (gru): GRU(10, 32, num_layers=5)\n",
              "    (fc): Linear(in_features=32, out_features=400, bias=True)\n",
              "    (softmax): LogSoftmax(dim=1)\n",
              "  )\n",
              ")"
            ]
          },
          "metadata": {},
          "execution_count": 140
        }
      ]
    },
    {
      "cell_type": "code",
      "source": [
        "input_seq = torch.randn(30, 6, 10) # (seq_len, batch_size, input_dim)\n",
        "target_seq = torch.rand(30, 6, 10) # (seq_len, batch_size, input_dim)"
      ],
      "metadata": {
        "id": "pOrLwN3q7taF"
      },
      "execution_count": null,
      "outputs": []
    },
    {
      "cell_type": "code",
      "source": [
        "outputs = model(input_seq, target_seq)"
      ],
      "metadata": {
        "colab": {
          "base_uri": "https://localhost:8080/",
          "height": 961
        },
        "id": "ORWTcI3i8Exr",
        "outputId": "f05fc76c-ea15-4d57-839f-565bd8ddffd1"
      },
      "execution_count": null,
      "outputs": [
        {
          "output_type": "stream",
          "name": "stdout",
          "text": [
            "Not using teacher forcing\n"
          ]
        },
        {
          "output_type": "error",
          "ename": "RuntimeError",
          "evalue": "ignored",
          "traceback": [
            "\u001b[0;31m---------------------------------------------------------------------------\u001b[0m",
            "\u001b[0;31mRuntimeError\u001b[0m                              Traceback (most recent call last)",
            "\u001b[0;32m<ipython-input-142-b69aa93df268>\u001b[0m in \u001b[0;36m<cell line: 1>\u001b[0;34m()\u001b[0m\n\u001b[0;32m----> 1\u001b[0;31m \u001b[0moutputs\u001b[0m \u001b[0;34m=\u001b[0m \u001b[0mmodel\u001b[0m\u001b[0;34m(\u001b[0m\u001b[0minput_seq\u001b[0m\u001b[0;34m,\u001b[0m \u001b[0mtarget_seq\u001b[0m\u001b[0;34m)\u001b[0m\u001b[0;34m\u001b[0m\u001b[0;34m\u001b[0m\u001b[0m\n\u001b[0m",
            "\u001b[0;32m/usr/local/lib/python3.9/dist-packages/torch/nn/modules/module.py\u001b[0m in \u001b[0;36m_call_impl\u001b[0;34m(self, *args, **kwargs)\u001b[0m\n\u001b[1;32m   1499\u001b[0m                 \u001b[0;32mor\u001b[0m \u001b[0m_global_backward_pre_hooks\u001b[0m \u001b[0;32mor\u001b[0m \u001b[0m_global_backward_hooks\u001b[0m\u001b[0;34m\u001b[0m\u001b[0;34m\u001b[0m\u001b[0m\n\u001b[1;32m   1500\u001b[0m                 or _global_forward_hooks or _global_forward_pre_hooks):\n\u001b[0;32m-> 1501\u001b[0;31m             \u001b[0;32mreturn\u001b[0m \u001b[0mforward_call\u001b[0m\u001b[0;34m(\u001b[0m\u001b[0;34m*\u001b[0m\u001b[0margs\u001b[0m\u001b[0;34m,\u001b[0m \u001b[0;34m**\u001b[0m\u001b[0mkwargs\u001b[0m\u001b[0;34m)\u001b[0m\u001b[0;34m\u001b[0m\u001b[0;34m\u001b[0m\u001b[0m\n\u001b[0m\u001b[1;32m   1502\u001b[0m         \u001b[0;31m# Do not call functions when jit is used\u001b[0m\u001b[0;34m\u001b[0m\u001b[0;34m\u001b[0m\u001b[0m\n\u001b[1;32m   1503\u001b[0m         \u001b[0mfull_backward_hooks\u001b[0m\u001b[0;34m,\u001b[0m \u001b[0mnon_full_backward_hooks\u001b[0m \u001b[0;34m=\u001b[0m \u001b[0;34m[\u001b[0m\u001b[0;34m]\u001b[0m\u001b[0;34m,\u001b[0m \u001b[0;34m[\u001b[0m\u001b[0;34m]\u001b[0m\u001b[0;34m\u001b[0m\u001b[0;34m\u001b[0m\u001b[0m\n",
            "\u001b[0;32m<ipython-input-133-d8044fdf8f42>\u001b[0m in \u001b[0;36mforward\u001b[0;34m(self, input, target, teacher_forcing_ratio)\u001b[0m\n\u001b[1;32m     49\u001b[0m \u001b[0;34m\u001b[0m\u001b[0m\n\u001b[1;32m     50\u001b[0m       \u001b[0;32mfor\u001b[0m \u001b[0mt\u001b[0m \u001b[0;32min\u001b[0m \u001b[0mrange\u001b[0m\u001b[0;34m(\u001b[0m\u001b[0mtarget_len\u001b[0m\u001b[0;34m)\u001b[0m\u001b[0;34m:\u001b[0m\u001b[0;34m\u001b[0m\u001b[0;34m\u001b[0m\u001b[0m\n\u001b[0;32m---> 51\u001b[0;31m         \u001b[0mdecoder_output\u001b[0m\u001b[0;34m,\u001b[0m \u001b[0mdecoder_hidden\u001b[0m \u001b[0;34m=\u001b[0m \u001b[0mself\u001b[0m\u001b[0;34m.\u001b[0m\u001b[0mdecoder\u001b[0m\u001b[0;34m(\u001b[0m\u001b[0mdecoder_input\u001b[0m\u001b[0;34m,\u001b[0m \u001b[0mdecoder_hidden\u001b[0m\u001b[0;34m)\u001b[0m\u001b[0;34m\u001b[0m\u001b[0;34m\u001b[0m\u001b[0m\n\u001b[0m\u001b[1;32m     52\u001b[0m         \u001b[0moutputs\u001b[0m\u001b[0;34m[\u001b[0m\u001b[0mt\u001b[0m\u001b[0;34m]\u001b[0m \u001b[0;34m=\u001b[0m \u001b[0mdecoder_output\u001b[0m\u001b[0;34m\u001b[0m\u001b[0;34m\u001b[0m\u001b[0m\n\u001b[1;32m     53\u001b[0m         \u001b[0mtop1\u001b[0m \u001b[0;34m=\u001b[0m \u001b[0mdecoder_output\u001b[0m\u001b[0;34m.\u001b[0m\u001b[0margmax\u001b[0m\u001b[0;34m(\u001b[0m\u001b[0;36m1\u001b[0m\u001b[0;34m)\u001b[0m\u001b[0;34m\u001b[0m\u001b[0;34m\u001b[0m\u001b[0m\n",
            "\u001b[0;32m/usr/local/lib/python3.9/dist-packages/torch/nn/modules/module.py\u001b[0m in \u001b[0;36m_call_impl\u001b[0;34m(self, *args, **kwargs)\u001b[0m\n\u001b[1;32m   1499\u001b[0m                 \u001b[0;32mor\u001b[0m \u001b[0m_global_backward_pre_hooks\u001b[0m \u001b[0;32mor\u001b[0m \u001b[0m_global_backward_hooks\u001b[0m\u001b[0;34m\u001b[0m\u001b[0;34m\u001b[0m\u001b[0m\n\u001b[1;32m   1500\u001b[0m                 or _global_forward_hooks or _global_forward_pre_hooks):\n\u001b[0;32m-> 1501\u001b[0;31m             \u001b[0;32mreturn\u001b[0m \u001b[0mforward_call\u001b[0m\u001b[0;34m(\u001b[0m\u001b[0;34m*\u001b[0m\u001b[0margs\u001b[0m\u001b[0;34m,\u001b[0m \u001b[0;34m**\u001b[0m\u001b[0mkwargs\u001b[0m\u001b[0;34m)\u001b[0m\u001b[0;34m\u001b[0m\u001b[0;34m\u001b[0m\u001b[0m\n\u001b[0m\u001b[1;32m   1502\u001b[0m         \u001b[0;31m# Do not call functions when jit is used\u001b[0m\u001b[0;34m\u001b[0m\u001b[0;34m\u001b[0m\u001b[0m\n\u001b[1;32m   1503\u001b[0m         \u001b[0mfull_backward_hooks\u001b[0m\u001b[0;34m,\u001b[0m \u001b[0mnon_full_backward_hooks\u001b[0m \u001b[0;34m=\u001b[0m \u001b[0;34m[\u001b[0m\u001b[0;34m]\u001b[0m\u001b[0;34m,\u001b[0m \u001b[0;34m[\u001b[0m\u001b[0;34m]\u001b[0m\u001b[0;34m\u001b[0m\u001b[0;34m\u001b[0m\u001b[0m\n",
            "\u001b[0;32m<ipython-input-132-b06e5e753294>\u001b[0m in \u001b[0;36mforward\u001b[0;34m(self, input, hidden)\u001b[0m\n\u001b[1;32m     13\u001b[0m \u001b[0;34m\u001b[0m\u001b[0m\n\u001b[1;32m     14\u001b[0m   \u001b[0;32mdef\u001b[0m \u001b[0mforward\u001b[0m\u001b[0;34m(\u001b[0m\u001b[0mself\u001b[0m\u001b[0;34m,\u001b[0m \u001b[0minput\u001b[0m\u001b[0;34m,\u001b[0m \u001b[0mhidden\u001b[0m\u001b[0;34m)\u001b[0m\u001b[0;34m:\u001b[0m\u001b[0;34m\u001b[0m\u001b[0;34m\u001b[0m\u001b[0m\n\u001b[0;32m---> 15\u001b[0;31m     \u001b[0moutput\u001b[0m\u001b[0;34m,\u001b[0m \u001b[0mhidden\u001b[0m \u001b[0;34m=\u001b[0m \u001b[0mself\u001b[0m\u001b[0;34m.\u001b[0m\u001b[0mgru\u001b[0m\u001b[0;34m(\u001b[0m\u001b[0minput\u001b[0m\u001b[0;34m,\u001b[0m \u001b[0mhidden\u001b[0m\u001b[0;34m)\u001b[0m\u001b[0;34m\u001b[0m\u001b[0;34m\u001b[0m\u001b[0m\n\u001b[0m\u001b[1;32m     16\u001b[0m     \u001b[0;31m# outputs.shape : (1, batch_size, hidden_dim)\u001b[0m\u001b[0;34m\u001b[0m\u001b[0;34m\u001b[0m\u001b[0m\n\u001b[1;32m     17\u001b[0m     \u001b[0moutput\u001b[0m \u001b[0;34m=\u001b[0m \u001b[0mself\u001b[0m\u001b[0;34m.\u001b[0m\u001b[0mfc\u001b[0m\u001b[0;34m(\u001b[0m\u001b[0moutput\u001b[0m\u001b[0;34m.\u001b[0m\u001b[0msqueeze\u001b[0m\u001b[0;34m(\u001b[0m\u001b[0;36m0\u001b[0m\u001b[0;34m)\u001b[0m\u001b[0;34m)\u001b[0m \u001b[0;31m# (batch_size, output_dim)\u001b[0m\u001b[0;34m\u001b[0m\u001b[0;34m\u001b[0m\u001b[0m\n",
            "\u001b[0;32m/usr/local/lib/python3.9/dist-packages/torch/nn/modules/module.py\u001b[0m in \u001b[0;36m_call_impl\u001b[0;34m(self, *args, **kwargs)\u001b[0m\n\u001b[1;32m   1499\u001b[0m                 \u001b[0;32mor\u001b[0m \u001b[0m_global_backward_pre_hooks\u001b[0m \u001b[0;32mor\u001b[0m \u001b[0m_global_backward_hooks\u001b[0m\u001b[0;34m\u001b[0m\u001b[0;34m\u001b[0m\u001b[0m\n\u001b[1;32m   1500\u001b[0m                 or _global_forward_hooks or _global_forward_pre_hooks):\n\u001b[0;32m-> 1501\u001b[0;31m             \u001b[0;32mreturn\u001b[0m \u001b[0mforward_call\u001b[0m\u001b[0;34m(\u001b[0m\u001b[0;34m*\u001b[0m\u001b[0margs\u001b[0m\u001b[0;34m,\u001b[0m \u001b[0;34m**\u001b[0m\u001b[0mkwargs\u001b[0m\u001b[0;34m)\u001b[0m\u001b[0;34m\u001b[0m\u001b[0;34m\u001b[0m\u001b[0m\n\u001b[0m\u001b[1;32m   1502\u001b[0m         \u001b[0;31m# Do not call functions when jit is used\u001b[0m\u001b[0;34m\u001b[0m\u001b[0;34m\u001b[0m\u001b[0m\n\u001b[1;32m   1503\u001b[0m         \u001b[0mfull_backward_hooks\u001b[0m\u001b[0;34m,\u001b[0m \u001b[0mnon_full_backward_hooks\u001b[0m \u001b[0;34m=\u001b[0m \u001b[0;34m[\u001b[0m\u001b[0;34m]\u001b[0m\u001b[0;34m,\u001b[0m \u001b[0;34m[\u001b[0m\u001b[0;34m]\u001b[0m\u001b[0;34m\u001b[0m\u001b[0;34m\u001b[0m\u001b[0m\n",
            "\u001b[0;32m/usr/local/lib/python3.9/dist-packages/torch/nn/modules/rnn.py\u001b[0m in \u001b[0;36mforward\u001b[0;34m(self, input, hx)\u001b[0m\n\u001b[1;32m    996\u001b[0m         \u001b[0mself\u001b[0m\u001b[0;34m.\u001b[0m\u001b[0mcheck_forward_args\u001b[0m\u001b[0;34m(\u001b[0m\u001b[0minput\u001b[0m\u001b[0;34m,\u001b[0m \u001b[0mhx\u001b[0m\u001b[0;34m,\u001b[0m \u001b[0mbatch_sizes\u001b[0m\u001b[0;34m)\u001b[0m\u001b[0;34m\u001b[0m\u001b[0;34m\u001b[0m\u001b[0m\n\u001b[1;32m    997\u001b[0m         \u001b[0;32mif\u001b[0m \u001b[0mbatch_sizes\u001b[0m \u001b[0;32mis\u001b[0m \u001b[0;32mNone\u001b[0m\u001b[0;34m:\u001b[0m\u001b[0;34m\u001b[0m\u001b[0;34m\u001b[0m\u001b[0m\n\u001b[0;32m--> 998\u001b[0;31m             result = _VF.gru(input, hx, self._flat_weights, self.bias, self.num_layers,\n\u001b[0m\u001b[1;32m    999\u001b[0m                              self.dropout, self.training, self.bidirectional, self.batch_first)\n\u001b[1;32m   1000\u001b[0m         \u001b[0;32melse\u001b[0m\u001b[0;34m:\u001b[0m\u001b[0;34m\u001b[0m\u001b[0;34m\u001b[0m\u001b[0m\n",
            "\u001b[0;31mRuntimeError\u001b[0m: expected scalar type Long but found Float"
          ]
        }
      ]
    },
    {
      "cell_type": "code",
      "source": [
        "print(type(outputs))\n",
        "print(outputs.shape)"
      ],
      "metadata": {
        "colab": {
          "base_uri": "https://localhost:8080/"
        },
        "id": "aWXHXR30-xAD",
        "outputId": "54db6fcd-08b6-41e3-dbe0-8451355e9083"
      },
      "execution_count": null,
      "outputs": [
        {
          "output_type": "stream",
          "name": "stdout",
          "text": [
            "<class 'torch.Tensor'>\n",
            "torch.Size([30, 6, 400])\n"
          ]
        }
      ]
    },
    {
      "cell_type": "markdown",
      "source": [
        "## Trying new model class"
      ],
      "metadata": {
        "id": "69jPFcW0TJYD"
      }
    },
    {
      "cell_type": "code",
      "source": [
        "!pip install indic-nlp-library --quiet"
      ],
      "metadata": {
        "id": "JaKC-JnJ0Sxl",
        "colab": {
          "base_uri": "https://localhost:8080/"
        },
        "outputId": "7d5634b5-17a4-4d43-bb40-79b718a13513"
      },
      "execution_count": 3,
      "outputs": [
        {
          "output_type": "stream",
          "name": "stdout",
          "text": [
            "\u001b[2K     \u001b[90m━━━━━━━━━━━━━━━━━━━━━━━━━━━━━━━━━━━━━━━━\u001b[0m \u001b[32m40.3/40.3 kB\u001b[0m \u001b[31m3.3 MB/s\u001b[0m eta \u001b[36m0:00:00\u001b[0m\n",
            "\u001b[2K     \u001b[90m━━━━━━━━━━━━━━━━━━━━━━━━━━━━━━━━━━━━━━━━\u001b[0m \u001b[32m2.8/2.8 MB\u001b[0m \u001b[31m39.2 MB/s\u001b[0m eta \u001b[36m0:00:00\u001b[0m\n",
            "\u001b[2K     \u001b[90m━━━━━━━━━━━━━━━━━━━━━━━━━━━━━━━━━━━━━━━\u001b[0m \u001b[32m121.1/121.1 kB\u001b[0m \u001b[31m9.3 MB/s\u001b[0m eta \u001b[36m0:00:00\u001b[0m\n",
            "\u001b[?25h"
          ]
        }
      ]
    },
    {
      "cell_type": "code",
      "source": [
        "import torch\n",
        "import torch.nn as nn \n",
        "import torch.optim as optim \n",
        "import numpy as np\n",
        "import torch.nn.functional as F\n",
        "import spacy\n",
        "from tqdm.notebook import tqdm\n",
        "import sys\n",
        "import gensim\n",
        "from indicnlp.tokenize import indic_tokenize\n",
        "import pickle\n",
        "import matplotlib.pyplot as plt"
      ],
      "metadata": {
        "id": "wh1k2QXCCeGJ"
      },
      "execution_count": 4,
      "outputs": []
    },
    {
      "cell_type": "code",
      "source": [
        "from google.colab import drive\n",
        "drive.mount('/content/drive')"
      ],
      "metadata": {
        "id": "HFbutw6O1ddk",
        "colab": {
          "base_uri": "https://localhost:8080/"
        },
        "outputId": "d4b11658-7c94-4889-983e-879b48229021"
      },
      "execution_count": 173,
      "outputs": [
        {
          "output_type": "stream",
          "name": "stdout",
          "text": [
            "Drive already mounted at /content/drive; to attempt to forcibly remount, call drive.mount(\"/content/drive\", force_remount=True).\n"
          ]
        }
      ]
    },
    {
      "cell_type": "code",
      "source": [
        "with open('/content/drive/MyDrive/wiki.hi/inp_sent.pkl', 'rb') as f: \n",
        "  output_sent_list = pickle.load(f) # output is english\n",
        "\n",
        "with open('/content/drive/MyDrive/wiki.hi/out_sent.pkl', 'rb') as f: \n",
        "  input_sent_list = pickle.load(f) # input is hindi\n",
        "\n",
        "print(type(input_sent_list))\n",
        "print(len(input_sent_list))\n",
        "\n",
        "print(type(output_sent_list))\n",
        "print(len(output_sent_list))"
      ],
      "metadata": {
        "colab": {
          "base_uri": "https://localhost:8080/"
        },
        "id": "vHqAOW-Y0Bs2",
        "outputId": "f394b384-5792-4028-ba73-30888890f95b"
      },
      "execution_count": 180,
      "outputs": [
        {
          "output_type": "stream",
          "name": "stdout",
          "text": [
            "<class 'list'>\n",
            "140000\n",
            "<class 'list'>\n",
            "140000\n"
          ]
        }
      ]
    },
    {
      "cell_type": "markdown",
      "source": [
        "- let's check the lenght of the output sentences\n",
        "\n",
        "- max_length of 64 sentences is sufficient while evaluation"
      ],
      "metadata": {
        "id": "qtuHa8OUHePD"
      }
    },
    {
      "cell_type": "code",
      "source": [
        "nlp_eng = spacy.load(\"en_core_web_sm\")\n",
        "output_sent_len_list = []\n",
        "for my_sent in tqdm(output_sent_list):\n",
        "  doc = nlp_eng(my_sent.lower())\n",
        "  tokens = [token for token in doc]\n",
        "  output_sent_len_list.append(len(tokens))"
      ],
      "metadata": {
        "colab": {
          "base_uri": "https://localhost:8080/",
          "height": 49,
          "referenced_widgets": [
            "d68f58c1c09944b7a03d5a655aac01d0",
            "ca8449ab3ee34e73a8171a4eafb0ab90",
            "e9880496d0794ba18436e8a8d345228c",
            "e8f2d0186998434ea691462f6cf6e649",
            "0427f10cf1a646059bcb8b80a74e8809",
            "2123228b6a6f4259b8b16596b6e7c1f8",
            "48c1bdfa83e0446ebba6b2a16a4d24cd",
            "58d3ac4fdfbd42cdbc074791559de6fa",
            "c2aeca424c6f44798ec0a7c2932d4678",
            "b3e68106218944f38bc8135f4f7ac51d",
            "027da4441ec24e88b941fc527389a4c9"
          ]
        },
        "id": "PGY0BJLwGwKo",
        "outputId": "c8201b0d-9b42-47de-97b6-fda88b571fa7"
      },
      "execution_count": 181,
      "outputs": [
        {
          "output_type": "display_data",
          "data": {
            "text/plain": [
              "  0%|          | 0/140000 [00:00<?, ?it/s]"
            ],
            "application/vnd.jupyter.widget-view+json": {
              "version_major": 2,
              "version_minor": 0,
              "model_id": "d68f58c1c09944b7a03d5a655aac01d0"
            }
          },
          "metadata": {}
        }
      ]
    },
    {
      "cell_type": "code",
      "source": [
        "print(max(output_sent_len_list), min(output_sent_len_list))"
      ],
      "metadata": {
        "colab": {
          "base_uri": "https://localhost:8080/"
        },
        "id": "mf_KPC_kRMq6",
        "outputId": "89bcec72-cb41-4322-d45e-9846f4ea7078"
      },
      "execution_count": 184,
      "outputs": [
        {
          "output_type": "stream",
          "name": "stdout",
          "text": [
            "517 4\n"
          ]
        }
      ]
    },
    {
      "cell_type": "code",
      "source": [
        "plt.hist(output_sent_len_list, bins=20, range=(0, 100))\n",
        "plt.grid();"
      ],
      "metadata": {
        "colab": {
          "base_uri": "https://localhost:8080/",
          "height": 430
        },
        "id": "br9tYfvfRazq",
        "outputId": "e01b75d9-b10c-4ad9-e068-2f58831ddba1"
      },
      "execution_count": 188,
      "outputs": [
        {
          "output_type": "display_data",
          "data": {
            "text/plain": [
              "<Figure size 640x480 with 1 Axes>"
            ],
            "image/png": "[encoded data removed]"
          },
          "metadata": {}
        }
      ]
    },
    {
      "cell_type": "code",
      "source": [
        "model = gensim.models.KeyedVectors.load_word2vec_format('/content/drive/MyDrive/wiki.hi/wiki.hi.vec', binary=False, encoding='utf-8')\n",
        "print(model.vector_size)"
      ],
      "metadata": {
        "colab": {
          "base_uri": "https://localhost:8080/"
        },
        "id": "S9_4xtuv0Bp_",
        "outputId": "ea07249c-91d1-4542-df48-907ed09704e6"
      },
      "execution_count": null,
      "outputs": [
        {
          "output_type": "stream",
          "name": "stdout",
          "text": [
            "300\n"
          ]
        }
      ]
    },
    {
      "cell_type": "markdown",
      "source": [
        "- let's try and build the vocab for output_sent_list (english)"
      ],
      "metadata": {
        "id": "g2of-Uz61OEW"
      }
    },
    {
      "cell_type": "code",
      "source": [
        "input_sent_list[0], output_sent_list[0]"
      ],
      "metadata": {
        "colab": {
          "base_uri": "https://localhost:8080/"
        },
        "id": "1EulgC2Z1N59",
        "outputId": "0d00330c-cf5f-4248-a7b0-002498945685"
      },
      "execution_count": null,
      "outputs": [
        {
          "output_type": "execute_result",
          "data": {
            "text/plain": [
              "('और अपनी रहमत से हमें इन काफ़िर लोगों (के नीचे) से नजात दे',\n",
              " \"and deliver us by Thy mercy from the people of the unbelievers. '\")"
            ]
          },
          "metadata": {},
          "execution_count": 164
        }
      ]
    },
    {
      "cell_type": "code",
      "source": [
        "nlp_english = spacy.load('en_core_web_sm')\n",
        "input_eng_lang = Lang('english', nlp_english)\n",
        "\n",
        "for my_sent in tqdm(input_sent_list):\n",
        "  input_eng_lang.add_sentence(my_sent)"
      ],
      "metadata": {
        "colab": {
          "base_uri": "https://localhost:8080/",
          "height": 49,
          "referenced_widgets": [
            "d3e5126f502d49518eaa9d211614e810",
            "b543d134c44a4877a3d128da7c0c5e86",
            "e8c9178538d34cfbaf825b3e9aa8404e",
            "76fceedbf2d449de9ea15fd47036cf6e",
            "05f13fa65afc49b4b5ed3d9f7a183dff",
            "eaf1455edbd146479ab6ee314b46ba11",
            "891e09777b494e22a23fa9c3bc20b37b",
            "ce529235f1434f7192af4516afd63954",
            "7f24527f84654a0a9dae60a35c2de37e",
            "dec2d6358b9d44a99be0cd324a93f26c",
            "4e4066497d284f1d88710fa4648101f0"
          ]
        },
        "id": "_L8nG6qV1NrH",
        "outputId": "c9a38f8e-8cd8-45cd-a165-39f3e8494d0e"
      },
      "execution_count": null,
      "outputs": [
        {
          "output_type": "display_data",
          "data": {
            "text/plain": [
              "  0%|          | 0/140000 [00:00<?, ?it/s]"
            ],
            "application/vnd.jupyter.widget-view+json": {
              "version_major": 2,
              "version_minor": 0,
              "model_id": "d3e5126f502d49518eaa9d211614e810"
            }
          },
          "metadata": {}
        }
      ]
    },
    {
      "cell_type": "code",
      "source": [
        "print(len(input_eng_lang))"
      ],
      "metadata": {
        "id": "KLC4LnfCDlG5",
        "outputId": "c605a1a0-0459-4734-f4d0-ae1d1e2e898d",
        "colab": {
          "base_uri": "https://localhost:8080/"
        }
      },
      "execution_count": null,
      "outputs": [
        {
          "output_type": "stream",
          "name": "stdout",
          "text": [
            "29666\n"
          ]
        }
      ]
    },
    {
      "cell_type": "markdown",
      "source": [
        "- encoderGRU model class"
      ],
      "metadata": {
        "id": "c5c8uY-CJtap"
      }
    },
    {
      "cell_type": "code",
      "source": [
        "class EncoderGRU(nn.Module):\n",
        "\n",
        "  def __init__(self, input_size, hidden_size):\n",
        "    super().__init__()\n",
        "    self.input_size = input_size\n",
        "    self.hidden_size = hidden_size\n",
        "    self.embedding = nn.Embedding(input_size, hidden_size)\n",
        "    self.gru = nn.GRU(hidden_size, hidden_size)\n",
        "\n",
        "  def forward(self, input, hidden):\n",
        "\n",
        "    # input.shape : (1, )\n",
        "\n",
        "    embedded = self.embedding(input).view(1, 1, -1)\n",
        "    # embedded.shape = (1, 1, hidden_size)\n",
        "\n",
        "    output, hidden = self.gru(embedded, hidden)\n",
        "    # output.shape = (1, 1, hidden_size) , (seq_len, batch_size, hidden_size)\n",
        "    # hidde.shape = (1, 1, hidden_size), (num_layers, batch_size, hidden_size)\n",
        "\n",
        "    return output, hidden \n",
        "\n",
        "  def init_hidden(self):\n",
        "    hidden = torch.zeros(1, 1, self.hidden_size) # (num_layers, batch_size, hidden_dim)\n",
        "    return hidden"
      ],
      "metadata": {
        "id": "0yxDz8uaCd_n"
      },
      "execution_count": null,
      "outputs": []
    },
    {
      "cell_type": "markdown",
      "source": [
        "- let's first understand the forward pass of the EncoderGRU"
      ],
      "metadata": {
        "id": "9Nsfdm-cIwjn"
      }
    },
    {
      "cell_type": "code",
      "source": [
        "encoder_try = EncoderGRU(input_size=150000, hidden_size=100)\n",
        "encoder_try"
      ],
      "metadata": {
        "colab": {
          "base_uri": "https://localhost:8080/"
        },
        "id": "XlcND-QFIzvU",
        "outputId": "d7b34620-596b-4bcf-f417-f348fe330b73"
      },
      "execution_count": null,
      "outputs": [
        {
          "output_type": "execute_result",
          "data": {
            "text/plain": [
              "EncoderGRU(\n",
              "  (embedding): Embedding(150000, 100)\n",
              "  (gru): GRU(100, 100)\n",
              ")"
            ]
          },
          "metadata": {},
          "execution_count": 25
        }
      ]
    },
    {
      "cell_type": "code",
      "source": [
        "inp = torch.LongTensor([4])\n",
        "print(inp)"
      ],
      "metadata": {
        "colab": {
          "base_uri": "https://localhost:8080/"
        },
        "id": "Zl9zPg8cIzrK",
        "outputId": "9d3c0258-66ac-4131-9c16-92b237ed0bc3"
      },
      "execution_count": null,
      "outputs": [
        {
          "output_type": "stream",
          "name": "stdout",
          "text": [
            "tensor([4])\n"
          ]
        }
      ]
    },
    {
      "cell_type": "code",
      "source": [
        "encoder_try_hidden = encoder_try.init_hidden()\n",
        "print(encoder_try_hidden.shape)"
      ],
      "metadata": {
        "colab": {
          "base_uri": "https://localhost:8080/"
        },
        "id": "3glhb0DAIzlX",
        "outputId": "db81b6fc-2a97-4377-d21c-6a7656b48967"
      },
      "execution_count": null,
      "outputs": [
        {
          "output_type": "stream",
          "name": "stdout",
          "text": [
            "torch.Size([1, 1, 100])\n"
          ]
        }
      ]
    },
    {
      "cell_type": "code",
      "source": [
        "encoder_try_output, encoder_try_hidden = encoder_try(inp, encoder_try_hidden)\n",
        "\n",
        "print(f\"encoder_try_output.shape = {encoder_try_output.shape}\")\n",
        "print(f\"encoder_try_hidden.shape = {encoder_try_hidden.shape}\")"
      ],
      "metadata": {
        "colab": {
          "base_uri": "https://localhost:8080/"
        },
        "id": "awIs_USJJZpi",
        "outputId": "4893f678-ce22-4c7c-9517-d08a07a4d4d4"
      },
      "execution_count": null,
      "outputs": [
        {
          "output_type": "stream",
          "name": "stdout",
          "text": [
            "encoder_try_output.shape = torch.Size([1, 1, 100])\n",
            "encoder_try_hidden.shape = torch.Size([1, 1, 100])\n"
          ]
        }
      ]
    },
    {
      "cell_type": "markdown",
      "source": [
        "- decoderGRU model class"
      ],
      "metadata": {
        "id": "ZBlQm9ZHJvvV"
      }
    },
    {
      "cell_type": "code",
      "source": [
        "class DecoderGRU(nn.Module):\n",
        "\n",
        "  def __init__(self, hidden_size, output_size):\n",
        "    super().__init__()\n",
        "    self.hidden_size = hidden_size\n",
        "    self.output_size = output_size\n",
        "    self.embedding = nn.Embedding(output_size, hidden_size)\n",
        "    self.gru = nn.GRU(hidden_size, hidden_size)\n",
        "    self.out = nn.Linear(hidden_size, output_size)\n",
        "\n",
        "  def forward(self, input, hidden):\n",
        "    output = self.embedding(input).view(1, 1, -1)\n",
        "    output = F.relu(output)\n",
        "    output, hidden = self.gru(output, hidden)\n",
        "    output = self.out(output[0])\n",
        "    return output, hidden\n",
        "\n",
        "  def init_hidden(self):\n",
        "    hidden = torch.zeros(1, 1, self.hidden_size) # (num_layers, batch_size, hidden_size)\n",
        "    return hidden"
      ],
      "metadata": {
        "id": "bOW5SpneCd9h"
      },
      "execution_count": null,
      "outputs": []
    },
    {
      "cell_type": "markdown",
      "source": [
        "- decoderGRU forward pass"
      ],
      "metadata": {
        "id": "YmRrKyc1Jx8w"
      }
    },
    {
      "cell_type": "code",
      "source": [
        "decoder_try = DecoderGRU(hidden_size=100, output_size=400000)\n",
        "print(decoder_try)"
      ],
      "metadata": {
        "colab": {
          "base_uri": "https://localhost:8080/"
        },
        "id": "0QYHV2yDJzx-",
        "outputId": "3b603d2b-1c8d-4792-f9aa-c56fd63fb5b7"
      },
      "execution_count": null,
      "outputs": [
        {
          "output_type": "stream",
          "name": "stdout",
          "text": [
            "DecoderGRU(\n",
            "  (embedding): Embedding(400000, 100)\n",
            "  (gru): GRU(100, 100)\n",
            "  (out): Linear(in_features=100, out_features=400000, bias=True)\n",
            "  (softmax): LogSoftmax(dim=1)\n",
            ")\n"
          ]
        }
      ]
    },
    {
      "cell_type": "code",
      "source": [
        "inp = torch.LongTensor([0])\n",
        "decoder_try_hidden = encoder_try_hidden\n",
        "\n",
        "decoder_try_output, decoder_try_hidden = decoder_try(inp, decoder_try_hidden)\n",
        "\n",
        "print(f\"decoder_try_output.shape = {decoder_try_output.shape}\")\n",
        "print(f\"decoder_try_hidden.shape = {decoder_try_hidden.shape}\")"
      ],
      "metadata": {
        "colab": {
          "base_uri": "https://localhost:8080/"
        },
        "id": "YDNk3x5hJzv3",
        "outputId": "0cd79c86-e0ac-43d1-f087-4914acfa60c7"
      },
      "execution_count": null,
      "outputs": [
        {
          "output_type": "stream",
          "name": "stdout",
          "text": [
            "decoder_try_output.shape = torch.Size([1, 400000])\n",
            "decoder_try_hidden.shape = torch.Size([1, 1, 100])\n"
          ]
        }
      ]
    },
    {
      "cell_type": "code",
      "source": [
        "decoder_try_target = torch.LongTensor([3])\n",
        "loss_try = nn.CrossEntropyLoss()\n",
        "\n",
        "my_loss = loss_try(decoder_try_output, decoder_try_target)\n",
        "print(my_loss)"
      ],
      "metadata": {
        "colab": {
          "base_uri": "https://localhost:8080/"
        },
        "id": "UB7VSo-_JztQ",
        "outputId": "f0be105e-55a5-47ce-8388-e852b52ac8d8"
      },
      "execution_count": null,
      "outputs": [
        {
          "output_type": "stream",
          "name": "stdout",
          "text": [
            "tensor(12.9479, grad_fn=<NllLossBackward0>)\n"
          ]
        }
      ]
    },
    {
      "cell_type": "markdown",
      "source": [
        "- train function"
      ],
      "metadata": {
        "id": "wcAd6kfyK9ow"
      }
    },
    {
      "cell_type": "code",
      "source": [
        "def train(input_tensor: torch.Tensor, target_tensor: torch.Tensor, encoder: EncoderGRU, decoder: DecoderGRU, encoder_optimizer, decoder_optimizer, criterion, max_length=10):\n",
        "\n",
        "  encoder_hidden = encoder.init_hidden()\n",
        "\n",
        "  encoder_optimizer.zero_grad()\n",
        "  decoder_optimizer.zero_grad()\n",
        "\n",
        "  input_length = input_tensor.size(0)\n",
        "  target_length = target_tensor.size(0)\n",
        "\n",
        "  encoder_outputs = torch.zeros(max_length, encoder.hidden_size)\n",
        "\n",
        "  loss = 0\n",
        "\n",
        "  for ei in range(input_length):\n",
        "    encoder_output, encoder_hidden = encoder(input_tensor[ei], encoder_hidden)\n",
        "    encoder_outputs[ei] = encoder_output[0, 0] \n",
        "\n",
        "  decoder_input = torch.LongTensor([0])\n",
        "  decoder_hidden = encoder_hidden\n",
        "\n",
        "  for di in range(target_length):\n",
        "    decoder_output, decoder_hidden = decoder(decoder_input, decoder_hidden)\n",
        "    # print(decoder_output)\n",
        "    # print(target_tensor[di])\n",
        "    # sys.exit()\n",
        "    single_loss = criterion(decoder_output, target_tensor[di].view(1))\n",
        "    # print(single_loss)\n",
        "    # sys.exit()\n",
        "    loss += single_loss\n",
        "    decoder_input = target_tensor[di]\n",
        "\n",
        "  loss.backward()\n",
        "\n",
        "  encoder_optimizer.step()\n",
        "  decoder_optimizer.step()\n",
        "\n",
        "  ans = loss.item()/target_length\n",
        "  return ans"
      ],
      "metadata": {
        "id": "jwAiszxYCd6a"
      },
      "execution_count": null,
      "outputs": []
    },
    {
      "cell_type": "markdown",
      "source": [
        "- Lang class"
      ],
      "metadata": {
        "id": "m2o3pjHKWOiX"
      }
    },
    {
      "cell_type": "code",
      "source": [
        "class Lang():\n",
        "\n",
        "  def __init__(self, name, spacy_tokenizer):\n",
        "    self.name = name\n",
        "    self.word2index = {\"<SOS>\":0, '<EOS>': 1}\n",
        "    self.index2word = {0: \"<SOS>\", 1: \"<EOS>\"}\n",
        "    self.word2count = {}\n",
        "    self.n_words = 2\n",
        "    self.tokenizer = spacy_tokenizer\n",
        "\n",
        "  def add_word(self, word):\n",
        "    if word not in self.word2index:\n",
        "      self.word2index[word] = self.n_words\n",
        "      self.word2count[word] = 1\n",
        "      self.index2word[self.n_words] = word\n",
        "      self.n_words += 1\n",
        "\n",
        "    else:\n",
        "      self.word2count[word] += 1\n",
        "\n",
        "  def add_sentence(self, sentence):\n",
        "    tokens = self.tokenize_sentence(sentence)\n",
        "    for token in tokens: \n",
        "      self.add_word(token)\n",
        "\n",
        "  def tokenize_sentence(self, sentence):\n",
        "    tokens = [token.text for token in self.tokenizer(sentence.lower())]\n",
        "    return tokens\n",
        "\n",
        "  def __len__(self):\n",
        "    return self.n_words"
      ],
      "metadata": {
        "id": "GVFWjJ6BWP67"
      },
      "execution_count": 169,
      "outputs": []
    },
    {
      "cell_type": "markdown",
      "source": [
        "- let's try training "
      ],
      "metadata": {
        "id": "aEJmHHNaNjC9"
      }
    },
    {
      "cell_type": "code",
      "source": [
        "hidden_size = 256\n",
        "learning_rate = 0.01\n",
        "max_epochs = 100"
      ],
      "metadata": {
        "id": "EtDYIQ0cCd3j"
      },
      "execution_count": 170,
      "outputs": []
    },
    {
      "cell_type": "code",
      "source": [
        "!python -m spacy download fr_core_news_sm --quiet"
      ],
      "metadata": {
        "id": "bMHPIc2VRzpv"
      },
      "execution_count": null,
      "outputs": []
    },
    {
      "cell_type": "code",
      "source": [
        "!python -m spacy download en_core_web_sm --quiet"
      ],
      "metadata": {
        "colab": {
          "base_uri": "https://localhost:8080/"
        },
        "id": "Dt6wElGTR9Vi",
        "outputId": "9fc78d57-605b-4530-d8b3-78efb6ca66cd"
      },
      "execution_count": null,
      "outputs": [
        {
          "output_type": "stream",
          "name": "stdout",
          "text": [
            "2023-04-11 19:18:22.795114: W tensorflow/compiler/tf2tensorrt/utils/py_utils.cc:38] TF-TRT Warning: Could not find TensorRT\n",
            "\u001b[2K     \u001b[90m━━━━━━━━━━━━━━━━━━━━━━━━━━━━━━━━━━━━━━━━\u001b[0m \u001b[32m12.8/12.8 MB\u001b[0m \u001b[31m45.4 MB/s\u001b[0m eta \u001b[36m0:00:00\u001b[0m\n",
            "\u001b[?25h\u001b[38;5;2m✔ Download and installation successful\u001b[0m\n",
            "You can now load the package via spacy.load('en_core_web_sm')\n"
          ]
        }
      ]
    },
    {
      "cell_type": "code",
      "source": [
        "nlp_french = spacy.load('fr_core_news_sm')\n",
        "nlp_english = spacy.load('en_core_web_sm')"
      ],
      "metadata": {
        "id": "q5MhMCj1Q728"
      },
      "execution_count": 177,
      "outputs": []
    },
    {
      "cell_type": "code",
      "source": [
        "input_lang = Lang('english', nlp_english)\n",
        "output_lang = Lang('french', nlp_french)\n",
        "\n",
        "training_pairs = [\n",
        "    ('hello world', 'hola mundo'),\n",
        "    ('goodbye', 'adios'),        \n",
        "    ('how are you', 'como estas'),        \n",
        "    ('i am fine', 'estoy bien')    \n",
        "  ]"
      ],
      "metadata": {
        "id": "r1q9YgA1Q7wJ"
      },
      "execution_count": null,
      "outputs": []
    },
    {
      "cell_type": "code",
      "source": [
        "# building the vocab\n",
        "for my_pair in training_pairs: \n",
        "  input_lang.add_sentence(my_pair[0])\n",
        "  output_lang.add_sentence(my_pair[1])\n",
        "                           \n",
        "print(f\"len of input_lang = {len(input_lang)}\")\n",
        "print(f\"len of output lang = {len(output_lang)}\")"
      ],
      "metadata": {
        "colab": {
          "base_uri": "https://localhost:8080/"
        },
        "id": "bILV-Vz9Yp4g",
        "outputId": "61dea784-cef1-48c0-f53b-5d6a6a0a1bb0"
      },
      "execution_count": null,
      "outputs": [
        {
          "output_type": "stream",
          "name": "stdout",
          "text": [
            "len of input_lang = 9\n",
            "len of output lang = 7\n"
          ]
        }
      ]
    },
    {
      "cell_type": "code",
      "source": [
        "encoder = EncoderGRU(len(input_lang), hidden_size)\n",
        "decoder = DecoderGRU(hidden_size, len(output_lang))\n",
        "\n",
        "criterion = nn.CrossEntropyLoss()\n",
        "encoder_optimizer = optim.Adam(encoder.parameters(), lr=learning_rate)\n",
        "decoder_optimizer = optim.Adam(decoder.parameters(), lr=learning_rate)"
      ],
      "metadata": {
        "id": "cw1zAA6saU3n"
      },
      "execution_count": null,
      "outputs": []
    },
    {
      "cell_type": "code",
      "source": [
        "print(encoder)"
      ],
      "metadata": {
        "colab": {
          "base_uri": "https://localhost:8080/"
        },
        "id": "poAqdBK0rTLq",
        "outputId": "5ce52c29-3610-47f0-f399-25dbcdd30fd3"
      },
      "execution_count": null,
      "outputs": [
        {
          "output_type": "stream",
          "name": "stdout",
          "text": [
            "EncoderGRU(\n",
            "  (embedding): Embedding(9, 256)\n",
            "  (gru): GRU(256, 256)\n",
            ")\n"
          ]
        }
      ]
    },
    {
      "cell_type": "code",
      "source": [
        "print(decoder)"
      ],
      "metadata": {
        "colab": {
          "base_uri": "https://localhost:8080/"
        },
        "id": "m5ix746ArUed",
        "outputId": "e4358c6a-4055-4a97-ac25-59d3a1d8724b"
      },
      "execution_count": null,
      "outputs": [
        {
          "output_type": "stream",
          "name": "stdout",
          "text": [
            "DecoderGRU(\n",
            "  (embedding): Embedding(7, 256)\n",
            "  (gru): GRU(256, 256)\n",
            "  (out): Linear(in_features=256, out_features=7, bias=True)\n",
            ")\n"
          ]
        }
      ]
    },
    {
      "cell_type": "code",
      "source": [
        "for epoch in tqdm(range(max_epochs)):\n",
        "\n",
        "  epoch_loss = 0\n",
        "\n",
        "  for pair in training_pairs:\n",
        "\n",
        "    input_tokens = input_lang.tokenize_sentence(pair[0])\n",
        "    target_tokens = output_lang.tokenize_sentence(pair[1])\n",
        "\n",
        "    input_tensor = torch.tensor([input_lang.word2index[my_token] for my_token in input_tokens])\n",
        "    target_tensor = torch.tensor([output_lang.word2index[my_token] for my_token in target_tokens])\n",
        "\n",
        "    # print(input_tensor)\n",
        "    # print(target_tensor)\n",
        "\n",
        "    # sys.exit()\n",
        "\n",
        "    loss = train(input_tensor, target_tensor, encoder, decoder, encoder_optimizer, decoder_optimizer, criterion, max_length=max(len(pair[0]), len(pair[1])))\n",
        "\n",
        "    epoch_loss += loss\n",
        "  \n",
        "  print(f\"epoch : {epoch}/{max_epochs}, LOSS = {epoch_loss/len(training_pairs)}\")\n"
      ],
      "metadata": {
        "colab": {
          "base_uri": "https://localhost:8080/",
          "height": 1000,
          "referenced_widgets": [
            "b16bdde93caa4fc98d10227852369b61",
            "02e5200015584d50847ca12fcfa05cea",
            "45dbd42036c6465d9a37b91cdfef9001",
            "95103a9d497745c594277eeaf60168ac",
            "b491fe69c20f4c75994123f37f911f26",
            "fe610244b7fc4d0590a2c435eccde3a1",
            "5e2353ea0a464f3fa81252cec979e005",
            "6c3cc94a447c401aaa0ba3083d2e521b",
            "091d07289f9d4c6dbe2a2307fd4dd45c",
            "cb0bc2d38c0a459ba6b169eb07e4ce4c",
            "d11f01a556794a0ebba662809f6f01ad"
          ]
        },
        "id": "j84xhyTBaUwW",
        "outputId": "40a26edf-dd4e-416d-dd3b-e23204345f56"
      },
      "execution_count": null,
      "outputs": [
        {
          "output_type": "display_data",
          "data": {
            "text/plain": [
              "  0%|          | 0/100 [00:00<?, ?it/s]"
            ],
            "application/vnd.jupyter.widget-view+json": {
              "version_major": 2,
              "version_minor": 0,
              "model_id": "b16bdde93caa4fc98d10227852369b61"
            }
          },
          "metadata": {}
        },
        {
          "output_type": "stream",
          "name": "stdout",
          "text": [
            "epoch : 0/100, LOSS = 3.355436861515045\n",
            "epoch : 1/100, LOSS = 0.7689316719770432\n",
            "epoch : 2/100, LOSS = 0.7495601363480091\n",
            "epoch : 3/100, LOSS = 0.1858946888241917\n",
            "epoch : 4/100, LOSS = 0.34204340749420226\n",
            "epoch : 5/100, LOSS = 0.1838268730789423\n",
            "epoch : 6/100, LOSS = 0.10363091417821124\n",
            "epoch : 7/100, LOSS = 0.08801387756830081\n",
            "epoch : 8/100, LOSS = 0.05706649151397869\n",
            "epoch : 9/100, LOSS = 0.025902423076331615\n",
            "epoch : 10/100, LOSS = 0.018108157033566386\n",
            "epoch : 11/100, LOSS = 0.011735108215361834\n",
            "epoch : 12/100, LOSS = 0.007427115750033408\n",
            "epoch : 13/100, LOSS = 0.005552122747758403\n",
            "epoch : 14/100, LOSS = 0.004475749432458542\n",
            "epoch : 15/100, LOSS = 0.003677599976072088\n",
            "epoch : 16/100, LOSS = 0.0031032061233418062\n",
            "epoch : 17/100, LOSS = 0.002704462400288321\n",
            "epoch : 18/100, LOSS = 0.002412775284028612\n",
            "epoch : 19/100, LOSS = 0.002185628327424638\n",
            "epoch : 20/100, LOSS = 0.0019862317640217952\n",
            "epoch : 21/100, LOSS = 0.0018249521817779168\n",
            "epoch : 22/100, LOSS = 0.001715740087092854\n",
            "epoch : 23/100, LOSS = 0.001626186291105114\n",
            "epoch : 24/100, LOSS = 0.0015476108601433225\n",
            "epoch : 25/100, LOSS = 0.001477198486099951\n",
            "epoch : 26/100, LOSS = 0.0014138259066385217\n",
            "epoch : 27/100, LOSS = 0.0013562341773649678\n",
            "epoch : 28/100, LOSS = 0.0013035211741225794\n",
            "epoch : 29/100, LOSS = 0.0012548272861749865\n",
            "epoch : 30/100, LOSS = 0.0012093519471818581\n",
            "epoch : 31/100, LOSS = 0.0011669331215671264\n",
            "epoch : 32/100, LOSS = 0.0011271112089161761\n",
            "epoch : 33/100, LOSS = 0.0010896191888605244\n",
            "epoch : 34/100, LOSS = 0.0010543392709223554\n",
            "epoch : 35/100, LOSS = 0.0010208997773588635\n",
            "epoch : 36/100, LOSS = 0.000989331332675647\n",
            "epoch : 37/100, LOSS = 0.0009593517097528093\n",
            "epoch : 38/100, LOSS = 0.0009308869557571597\n",
            "epoch : 39/100, LOSS = 0.0009038629796123132\n",
            "epoch : 40/100, LOSS = 0.0008781314536463469\n",
            "epoch : 41/100, LOSS = 0.0008535734377801418\n",
            "epoch : 42/100, LOSS = 0.0008301743800984696\n",
            "epoch : 43/100, LOSS = 0.0008078154569375329\n",
            "epoch : 44/100, LOSS = 0.0007864372746553272\n",
            "epoch : 45/100, LOSS = 0.0007659953698748723\n",
            "epoch : 46/100, LOSS = 0.0007464750669896603\n",
            "epoch : 47/100, LOSS = 0.0007276382311829366\n",
            "epoch : 48/100, LOSS = 0.0007096785848261788\n",
            "epoch : 49/100, LOSS = 0.0006924027184140868\n",
            "epoch : 50/100, LOSS = 0.0006758255694876425\n",
            "epoch : 51/100, LOSS = 0.0006598133004445117\n",
            "epoch : 52/100, LOSS = 0.0006444850660045631\n",
            "epoch : 53/100, LOSS = 0.0006296771352936048\n",
            "epoch : 54/100, LOSS = 0.0006154343100206461\n",
            "epoch : 55/100, LOSS = 0.0006016226543579251\n",
            "epoch : 56/100, LOSS = 0.0005883761623408645\n",
            "epoch : 57/100, LOSS = 0.0005755758320447057\n",
            "epoch : 58/100, LOSS = 0.0005631621315842494\n",
            "epoch : 59/100, LOSS = 0.0005512095776794013\n",
            "epoch : 60/100, LOSS = 0.0005395692496676929\n",
            "epoch : 61/100, LOSS = 0.0005283752434479538\n",
            "epoch : 62/100, LOSS = 0.0005175233345653396\n",
            "epoch : 63/100, LOSS = 0.0005070284350949805\n",
            "epoch : 64/100, LOSS = 0.0004967864333593752\n",
            "epoch : 65/100, LOSS = 0.00048688654351281\n",
            "epoch : 66/100, LOSS = 0.0004772545144078322\n",
            "epoch : 67/100, LOSS = 0.0004679200028476771\n",
            "epoch : 68/100, LOSS = 0.0004588383744703606\n",
            "epoch : 69/100, LOSS = 0.00044995018106419593\n",
            "epoch : 70/100, LOSS = 0.00044138935845694505\n",
            "epoch : 71/100, LOSS = 0.0004330070187279489\n",
            "epoch : 72/100, LOSS = 0.000424818124884041\n",
            "epoch : 73/100, LOSS = 0.0004169417516095564\n",
            "epoch : 74/100, LOSS = 0.00040916947182267904\n",
            "epoch : 75/100, LOSS = 0.00040166509643313475\n",
            "epoch : 76/100, LOSS = 0.00039436903171008453\n",
            "epoch : 77/100, LOSS = 0.00038728132494725287\n",
            "epoch : 78/100, LOSS = 0.0003804019979725126\n",
            "epoch : 79/100, LOSS = 0.000373790582671063\n",
            "epoch : 80/100, LOSS = 0.00036728330815094523\n",
            "epoch : 81/100, LOSS = 0.00036102909507462755\n",
            "epoch : 82/100, LOSS = 0.0003549385874066502\n",
            "epoch : 83/100, LOSS = 0.0003490564849926159\n",
            "epoch : 84/100, LOSS = 0.00034330830749240704\n",
            "epoch : 85/100, LOSS = 0.0003378132460056804\n",
            "epoch : 86/100, LOSS = 0.00033242235440411605\n",
            "epoch : 87/100, LOSS = 0.0003271952045906801\n",
            "epoch : 88/100, LOSS = 0.0003221020342607517\n",
            "epoch : 89/100, LOSS = 0.0003171577482135035\n",
            "epoch : 90/100, LOSS = 0.0003123325477645267\n",
            "epoch : 91/100, LOSS = 0.00030761154266656376\n",
            "epoch : 92/100, LOSS = 0.0003030393927474506\n",
            "epoch : 93/100, LOSS = 0.0002986161744047422\n",
            "epoch : 94/100, LOSS = 0.0002942673600045964\n",
            "epoch : 95/100, LOSS = 0.0002899780884035863\n",
            "epoch : 96/100, LOSS = 0.00028580792059074156\n",
            "epoch : 97/100, LOSS = 0.0002817419917846564\n",
            "epoch : 98/100, LOSS = 0.000277795132205938\n",
            "epoch : 99/100, LOSS = 0.0002739078627200797\n"
          ]
        }
      ]
    },
    {
      "cell_type": "markdown",
      "source": [
        "# Bakchodi"
      ],
      "metadata": {
        "id": "JfyJCJQ8q-93"
      }
    },
    {
      "cell_type": "code",
      "source": [
        "a = torch.zeros(3, 4)\n",
        "\n",
        "for i in range(6):\n",
        "  a[i] = torch.randn(4)"
      ],
      "metadata": {
        "colab": {
          "base_uri": "https://localhost:8080/",
          "height": 204
        },
        "id": "57omNUlBddmy",
        "outputId": "c72ad6a3-06c1-45c7-8eab-0ac063267f6e"
      },
      "execution_count": 5,
      "outputs": [
        {
          "output_type": "error",
          "ename": "IndexError",
          "evalue": "ignored",
          "traceback": [
            "\u001b[0;31m---------------------------------------------------------------------------\u001b[0m",
            "\u001b[0;31mIndexError\u001b[0m                                Traceback (most recent call last)",
            "\u001b[0;32m<ipython-input-5-31fb05f543c5>\u001b[0m in \u001b[0;36m<cell line: 3>\u001b[0;34m()\u001b[0m\n\u001b[1;32m      2\u001b[0m \u001b[0;34m\u001b[0m\u001b[0m\n\u001b[1;32m      3\u001b[0m \u001b[0;32mfor\u001b[0m \u001b[0mi\u001b[0m \u001b[0;32min\u001b[0m \u001b[0mrange\u001b[0m\u001b[0;34m(\u001b[0m\u001b[0;36m6\u001b[0m\u001b[0;34m)\u001b[0m\u001b[0;34m:\u001b[0m\u001b[0;34m\u001b[0m\u001b[0;34m\u001b[0m\u001b[0m\n\u001b[0;32m----> 4\u001b[0;31m   \u001b[0ma\u001b[0m\u001b[0;34m[\u001b[0m\u001b[0mi\u001b[0m\u001b[0;34m]\u001b[0m \u001b[0;34m=\u001b[0m \u001b[0mtorch\u001b[0m\u001b[0;34m.\u001b[0m\u001b[0mrandn\u001b[0m\u001b[0;34m(\u001b[0m\u001b[0;36m4\u001b[0m\u001b[0;34m)\u001b[0m\u001b[0;34m\u001b[0m\u001b[0;34m\u001b[0m\u001b[0m\n\u001b[0m",
            "\u001b[0;31mIndexError\u001b[0m: index 3 is out of bounds for dimension 0 with size 3"
          ]
        }
      ]
    },
    {
      "cell_type": "code",
      "source": [
        "output_size = 5\n",
        "\n",
        "inputs = torch.randn(1, output_size)\n",
        "targets = torch.randint(1, size=(1, ))\n",
        "\n",
        "print(inputs) \n",
        "print(f\"inputs.shape = {inputs.shape}\")\n",
        "\n",
        "print(targets)\n",
        "\n",
        "b = nn.CrossEntropyLoss()\n",
        "b(inputs, targets)"
      ],
      "metadata": {
        "colab": {
          "base_uri": "https://localhost:8080/"
        },
        "id": "IaJV-2x7ulCo",
        "outputId": "7de00845-0170-4a34-df89-628a94fd250b"
      },
      "execution_count": null,
      "outputs": [
        {
          "output_type": "stream",
          "name": "stdout",
          "text": [
            "tensor([[-2.1149,  0.6439, -1.2692,  0.2424, -0.2459]])\n",
            "inputs.shape = torch.Size([1, 5])\n",
            "tensor([0])\n"
          ]
        },
        {
          "output_type": "execute_result",
          "data": {
            "text/plain": [
              "tensor(3.5878)"
            ]
          },
          "metadata": {},
          "execution_count": 122
        }
      ]
    },
    {
      "cell_type": "code",
      "source": [
        "t = torch.tensor(0)\n",
        "t"
      ],
      "metadata": {
        "colab": {
          "base_uri": "https://localhost:8080/"
        },
        "id": "MivVNrhLvCSA",
        "outputId": "6a5cc03d-39d9-4564-d8aa-8042429bc15f"
      },
      "execution_count": null,
      "outputs": [
        {
          "output_type": "execute_result",
          "data": {
            "text/plain": [
              "tensor(0)"
            ]
          },
          "metadata": {},
          "execution_count": 119
        }
      ]
    },
    {
      "cell_type": "code",
      "source": [],
      "metadata": {
        "id": "ou0b3TWzvHei"
      },
      "execution_count": null,
      "outputs": []
    },
    {
      "cell_type": "code",
      "source": [
        "a1 = torch.randn(1, 7)\n",
        "a2 = torch.LongTensor([2])\n",
        "\n",
        "a = nn.CrossEntropyLoss()\n",
        "a(a1, a2).item()"
      ],
      "metadata": {
        "colab": {
          "base_uri": "https://localhost:8080/"
        },
        "id": "HAkGvLECqsmI",
        "outputId": "a6b28a4c-1d71-4db6-aeb0-4d90537da2b8"
      },
      "execution_count": null,
      "outputs": [
        {
          "output_type": "execute_result",
          "data": {
            "text/plain": [
              "1.892608642578125"
            ]
          },
          "metadata": {},
          "execution_count": 94
        }
      ]
    },
    {
      "cell_type": "code",
      "source": [
        "a = 'Hello, my name is arnav, i like her.'\n",
        "doc = nlp_english(a.lower())\n",
        "a_tokens = [token.text for token in doc]\n",
        "a_tokens"
      ],
      "metadata": {
        "colab": {
          "base_uri": "https://localhost:8080/"
        },
        "id": "ZH6Kbvz5XRxf",
        "outputId": "d0a71f65-d248-4bf3-8e38-c60effdbbba5"
      },
      "execution_count": null,
      "outputs": [
        {
          "output_type": "execute_result",
          "data": {
            "text/plain": [
              "['hello', ',', 'my', 'name', 'is', 'arnav', ',', 'i', 'like', 'her', '.']"
            ]
          },
          "metadata": {},
          "execution_count": 64
        }
      ]
    },
    {
      "cell_type": "code",
      "source": [
        "x = {'apple', 'banana', 'cherry'}\n",
        "y = {'google', 'microsoft', 'apple'}\n",
        "\n",
        "print(x)\n",
        "x.update(y)\n",
        "print(x)"
      ],
      "metadata": {
        "colab": {
          "base_uri": "https://localhost:8080/"
        },
        "id": "L6fFTmUZOTf_",
        "outputId": "03331807-b7fa-4ee6-c488-f8abceaed89b"
      },
      "execution_count": null,
      "outputs": [
        {
          "output_type": "stream",
          "name": "stdout",
          "text": [
            "{'apple', 'banana', 'cherry'}\n",
            "{'banana', 'google', 'apple', 'cherry', 'microsoft'}\n"
          ]
        }
      ]
    },
    {
      "cell_type": "code",
      "source": [
        "sorted(list(x)), list(x)"
      ],
      "metadata": {
        "colab": {
          "base_uri": "https://localhost:8080/"
        },
        "id": "w9ndum-_OxD5",
        "outputId": "0d06eb10-b9a1-44c8-b06c-f92866e20094"
      },
      "execution_count": null,
      "outputs": [
        {
          "output_type": "execute_result",
          "data": {
            "text/plain": [
              "(['apple', 'banana', 'cherry', 'google', 'microsoft'],\n",
              " ['banana', 'google', 'apple', 'cherry', 'microsoft'])"
            ]
          },
          "metadata": {},
          "execution_count": 43
        }
      ]
    },
    {
      "cell_type": "code",
      "source": [
        "a = torch.tensor([[0]])\n",
        "print(a.shape, a.dtype)"
      ],
      "metadata": {
        "colab": {
          "base_uri": "https://localhost:8080/"
        },
        "id": "sZvaZQkkISox",
        "outputId": "4347c730-2dea-4bf2-9020-aa644c903d96"
      },
      "execution_count": null,
      "outputs": [
        {
          "output_type": "stream",
          "name": "stdout",
          "text": [
            "torch.Size([1, 1]) torch.int64\n"
          ]
        }
      ]
    },
    {
      "cell_type": "code",
      "source": [
        "a = torch.randn(10, 400000)\n",
        "top = a.argmax(1)\n",
        "print(f\"top.shape = {top.shape}\")"
      ],
      "metadata": {
        "colab": {
          "base_uri": "https://localhost:8080/"
        },
        "id": "B7Cvt9A64mdB",
        "outputId": "35a74d03-f4f5-4f69-cecf-252eec2f88bf"
      },
      "execution_count": null,
      "outputs": [
        {
          "output_type": "stream",
          "name": "stdout",
          "text": [
            "top.shape = torch.Size([10])\n"
          ]
        }
      ]
    },
    {
      "cell_type": "code",
      "source": [
        "top.dtype"
      ],
      "metadata": {
        "colab": {
          "base_uri": "https://localhost:8080/"
        },
        "id": "YETTRtml_G_l",
        "outputId": "5a0deccd-682f-48c2-f24b-1acfb2e4130d"
      },
      "execution_count": null,
      "outputs": [
        {
          "output_type": "execute_result",
          "data": {
            "text/plain": [
              "torch.int64"
            ]
          },
          "metadata": {},
          "execution_count": 10
        }
      ]
    },
    {
      "cell_type": "code",
      "source": [
        "a = torch.LongTensor([[1]])\n",
        "print(a.shape)\n",
        "\n",
        "b = nn.Embedding(400000, 50)\n",
        "\n",
        "a_2 = b(a)\n",
        "print(f\"a_2.shape = {a_2.shape}\")\n",
        "\n",
        "a_3 = a_2.view(1, 1, -1)\n",
        "print(f\"a_3.shape = {a_3.shape}\")"
      ],
      "metadata": {
        "colab": {
          "base_uri": "https://localhost:8080/"
        },
        "id": "-H2ZOzx6HAbo",
        "outputId": "8e7634b3-835a-40da-b4fd-57012289645b"
      },
      "execution_count": null,
      "outputs": [
        {
          "output_type": "stream",
          "name": "stdout",
          "text": [
            "torch.Size([1, 1])\n",
            "a_2.shape = torch.Size([1, 1, 50])\n",
            "a_3.shape = torch.Size([1, 1, 50])\n"
          ]
        }
      ]
    },
    {
      "cell_type": "code",
      "source": [
        "top = torch.randint(0, 10, (10, ))\n",
        "print(top)\n",
        "\n",
        "emb = nn.Embedding(10, 30)\n",
        "\n",
        "x = top.unsqueeze(0) \n",
        "print(f\"x.shape = {x.shape}\") # (1, batch_size)\n",
        "\n",
        "emb_x = emb(x)\n",
        "print(f\"emb_x.shape = {emb_x.shape}\") # (1, batch_size, embedding_size)"
      ],
      "metadata": {
        "colab": {
          "base_uri": "https://localhost:8080/"
        },
        "id": "Ut_X3x8M46Ps",
        "outputId": "0d6a7596-fc1d-4560-9969-836129db65bb"
      },
      "execution_count": null,
      "outputs": [
        {
          "output_type": "stream",
          "name": "stdout",
          "text": [
            "tensor([9, 8, 9, 7, 9, 7, 3, 5, 0, 8])\n",
            "x.shape = torch.Size([1, 10])\n",
            "emb_x.shape = torch.Size([1, 10, 30])\n"
          ]
        }
      ]
    },
    {
      "cell_type": "code",
      "source": [
        "a = torch.rand(6)\n",
        "print(a)\n",
        "b = a.unsqueeze(0).unsqueeze(-1).expand(1, 6, 10)"
      ],
      "metadata": {
        "colab": {
          "base_uri": "https://localhost:8080/"
        },
        "id": "imBRvIeP__gz",
        "outputId": "d96166e3-6273-4470-ec30-0f12fe03e8fc"
      },
      "execution_count": null,
      "outputs": [
        {
          "output_type": "stream",
          "name": "stdout",
          "text": [
            "tensor([0.7886, 0.6245, 0.8876, 0.2123, 0.4773, 0.5210])\n"
          ]
        }
      ]
    },
    {
      "cell_type": "code",
      "source": [
        "print(b)"
      ],
      "metadata": {
        "colab": {
          "base_uri": "https://localhost:8080/"
        },
        "id": "EuThoGo_AZZz",
        "outputId": "467f4317-ca05-42d0-add5-d87782f7bf05"
      },
      "execution_count": null,
      "outputs": [
        {
          "output_type": "stream",
          "name": "stdout",
          "text": [
            "tensor([[[0.7886, 0.7886, 0.7886, 0.7886, 0.7886, 0.7886, 0.7886, 0.7886,\n",
            "          0.7886, 0.7886],\n",
            "         [0.6245, 0.6245, 0.6245, 0.6245, 0.6245, 0.6245, 0.6245, 0.6245,\n",
            "          0.6245, 0.6245],\n",
            "         [0.8876, 0.8876, 0.8876, 0.8876, 0.8876, 0.8876, 0.8876, 0.8876,\n",
            "          0.8876, 0.8876],\n",
            "         [0.2123, 0.2123, 0.2123, 0.2123, 0.2123, 0.2123, 0.2123, 0.2123,\n",
            "          0.2123, 0.2123],\n",
            "         [0.4773, 0.4773, 0.4773, 0.4773, 0.4773, 0.4773, 0.4773, 0.4773,\n",
            "          0.4773, 0.4773],\n",
            "         [0.5210, 0.5210, 0.5210, 0.5210, 0.5210, 0.5210, 0.5210, 0.5210,\n",
            "          0.5210, 0.5210]]])\n"
          ]
        }
      ]
    },
    {
      "cell_type": "code",
      "source": [
        "random.random()"
      ],
      "metadata": {
        "colab": {
          "base_uri": "https://localhost:8080/"
        },
        "id": "i1uucRmiv1tl",
        "outputId": "a60c90c1-a112-4a91-82de-87232f647c9f"
      },
      "execution_count": null,
      "outputs": [
        {
          "output_type": "execute_result",
          "data": {
            "text/plain": [
              "0.6335462054967805"
            ]
          },
          "metadata": {},
          "execution_count": 16
        }
      ]
    },
    {
      "cell_type": "code",
      "source": [
        "a = torch.tensor([[SOS_token]*3])\n",
        "a, a.shape"
      ],
      "metadata": {
        "colab": {
          "base_uri": "https://localhost:8080/"
        },
        "id": "TZJ3B3BXvRqT",
        "outputId": "1225845d-96df-4245-af0b-39d566dbbd71"
      },
      "execution_count": null,
      "outputs": [
        {
          "output_type": "execute_result",
          "data": {
            "text/plain": [
              "(tensor([[0, 0, 0]]), torch.Size([1, 3]))"
            ]
          },
          "metadata": {},
          "execution_count": 12
        }
      ]
    },
    {
      "cell_type": "code",
      "source": [
        "a = nn.GRU(10, 20, num_layers=8)\n",
        "a"
      ],
      "metadata": {
        "colab": {
          "base_uri": "https://localhost:8080/"
        },
        "id": "i_pWRLVaq_x8",
        "outputId": "0a2407fb-2a27-4fca-d29e-794e19d01cab"
      },
      "execution_count": null,
      "outputs": [
        {
          "output_type": "execute_result",
          "data": {
            "text/plain": [
              "GRU(10, 20, num_layers=8)"
            ]
          },
          "metadata": {},
          "execution_count": 2
        }
      ]
    },
    {
      "cell_type": "code",
      "source": [
        "b = torch.randn(30, 3, 10) # (seq_len, batch_size, input_dim)\n",
        "c, d = a(b)\n",
        "print(type(c))\n",
        "print(type(d))"
      ],
      "metadata": {
        "colab": {
          "base_uri": "https://localhost:8080/"
        },
        "id": "Kwwgf7xlrMFc",
        "outputId": "5bab52cd-caf3-42c5-d925-12b4f77a1b90"
      },
      "execution_count": null,
      "outputs": [
        {
          "output_type": "stream",
          "name": "stdout",
          "text": [
            "<class 'torch.Tensor'>\n",
            "<class 'torch.Tensor'>\n"
          ]
        }
      ]
    },
    {
      "cell_type": "code",
      "source": [
        "print(c.shape) # (seq_len, batch_size, hidden_dim)\n",
        "print(d.shape) # last "
      ],
      "metadata": {
        "colab": {
          "base_uri": "https://localhost:8080/"
        },
        "id": "fzWbUnR-rZuA",
        "outputId": "e04e818f-036f-45ba-dc50-43615165fe50"
      },
      "execution_count": null,
      "outputs": [
        {
          "output_type": "stream",
          "name": "stdout",
          "text": [
            "torch.Size([30, 3, 20])\n",
            "torch.Size([8, 3, 20])\n"
          ]
        }
      ]
    },
    {
      "cell_type": "code",
      "source": [
        "input_seq = torch.randn(3, 10, 50) # (batch_size, seq_len, input_dim)\n",
        "gru_model = nn.GRU(50, 32, 2, batch_first=True)\n",
        "\n",
        "output, final_hidden = gru_model(input_seq)\n",
        "print(f\"output.shape = {output.shape}\") # (batch_size, seq_len, hidden_dim) # output of the final layer\n",
        "print(f\"final_hidden.shape = {final_hidden.shape}\") # (num_layers, batch_size, hidden_dim), this if the final hidden state of each layer"
      ],
      "metadata": {
        "colab": {
          "base_uri": "https://localhost:8080/"
        },
        "id": "7Tq4NGqLrcUm",
        "outputId": "9e5ed51c-61e9-41df-a1ea-1c2bf49c3528"
      },
      "execution_count": null,
      "outputs": [
        {
          "output_type": "stream",
          "name": "stdout",
          "text": [
            "output.shape = torch.Size([3, 10, 32])\n",
            "final_hidden.shape = torch.Size([2, 3, 32])\n"
          ]
        }
      ]
    },
    {
      "cell_type": "code",
      "source": [
        "a = nn.GRU(2, 3, 7)\n",
        "a"
      ],
      "metadata": {
        "colab": {
          "base_uri": "https://localhost:8080/"
        },
        "id": "0AnVtdcWsmoa",
        "outputId": "79e733f0-d5be-426c-e508-0ecde4ca4221"
      },
      "execution_count": null,
      "outputs": [
        {
          "output_type": "execute_result",
          "data": {
            "text/plain": [
              "GRU(2, 3, num_layers=7)"
            ]
          },
          "metadata": {},
          "execution_count": 17
        }
      ]
    },
    {
      "cell_type": "code",
      "source": [
        "batch_size = 5\n",
        "\n",
        "inp = torch.randn(1, batch_size, 2) # (seq_len, batch_size, input_dim)\n",
        "hidden = torch.zeros(7, batch_size, 3)\n",
        "print(hidden.shape)\n",
        "\n",
        "output, hidden = a(inp, hidden)\n",
        "print(output.shape)\n",
        "print(hidden.shape)"
      ],
      "metadata": {
        "colab": {
          "base_uri": "https://localhost:8080/"
        },
        "id": "CnPZnaFiwcBM",
        "outputId": "1e89a01c-6e37-4014-ac94-5235e8dc01d9"
      },
      "execution_count": null,
      "outputs": [
        {
          "output_type": "stream",
          "name": "stdout",
          "text": [
            "torch.Size([7, 5, 3])\n",
            "torch.Size([1, 5, 3])\n",
            "torch.Size([7, 5, 3])\n"
          ]
        }
      ]
    },
    {
      "cell_type": "code",
      "source": [
        "a = torch.zeros(1)\n",
        "b = a.unsqueeze(0).unsqueeze(0).expand(1, 5, 50)\n",
        "c = a.expand(1, 5, 50)\n",
        "print(b.shape)\n",
        "print(c)"
      ],
      "metadata": {
        "colab": {
          "base_uri": "https://localhost:8080/"
        },
        "id": "UKncn8ksw87w",
        "outputId": "d422d61b-b5dd-43f5-d046-1b013e0865c5"
      },
      "execution_count": null,
      "outputs": [
        {
          "output_type": "stream",
          "name": "stdout",
          "text": [
            "torch.Size([1, 5, 50])\n",
            "tensor([[[0., 0., 0., 0., 0., 0., 0., 0., 0., 0., 0., 0., 0., 0., 0., 0., 0., 0., 0., 0., 0., 0., 0.,\n",
            "          0., 0., 0., 0., 0., 0., 0., 0., 0., 0., 0., 0., 0., 0., 0., 0., 0., 0., 0., 0., 0., 0., 0.,\n",
            "          0., 0., 0., 0.],\n",
            "         [0., 0., 0., 0., 0., 0., 0., 0., 0., 0., 0., 0., 0., 0., 0., 0., 0., 0., 0., 0., 0., 0., 0.,\n",
            "          0., 0., 0., 0., 0., 0., 0., 0., 0., 0., 0., 0., 0., 0., 0., 0., 0., 0., 0., 0., 0., 0., 0.,\n",
            "          0., 0., 0., 0.],\n",
            "         [0., 0., 0., 0., 0., 0., 0., 0., 0., 0., 0., 0., 0., 0., 0., 0., 0., 0., 0., 0., 0., 0., 0.,\n",
            "          0., 0., 0., 0., 0., 0., 0., 0., 0., 0., 0., 0., 0., 0., 0., 0., 0., 0., 0., 0., 0., 0., 0.,\n",
            "          0., 0., 0., 0.],\n",
            "         [0., 0., 0., 0., 0., 0., 0., 0., 0., 0., 0., 0., 0., 0., 0., 0., 0., 0., 0., 0., 0., 0., 0.,\n",
            "          0., 0., 0., 0., 0., 0., 0., 0., 0., 0., 0., 0., 0., 0., 0., 0., 0., 0., 0., 0., 0., 0., 0.,\n",
            "          0., 0., 0., 0.],\n",
            "         [0., 0., 0., 0., 0., 0., 0., 0., 0., 0., 0., 0., 0., 0., 0., 0., 0., 0., 0., 0., 0., 0., 0.,\n",
            "          0., 0., 0., 0., 0., 0., 0., 0., 0., 0., 0., 0., 0., 0., 0., 0., 0., 0., 0., 0., 0., 0., 0.,\n",
            "          0., 0., 0., 0.]]])\n"
          ]
        }
      ]
    },
    {
      "cell_type": "code",
      "source": [
        "a = torch.zeros(10, 4, 32) # (max_len, batch_size, hidden_dim)\n",
        "\n",
        "out_1 = torch.randn(1, 4, 32)\n",
        "a[0] = out_1"
      ],
      "metadata": {
        "id": "WVB96KQvzeGe"
      },
      "execution_count": null,
      "outputs": []
    },
    {
      "cell_type": "code",
      "source": [
        "a[0] == out_1.squeeze(0)"
      ],
      "metadata": {
        "colab": {
          "base_uri": "https://localhost:8080/"
        },
        "id": "Bmnm_cOT0yQW",
        "outputId": "2d421bbe-89eb-4cd9-829a-fcefadcbae77"
      },
      "execution_count": null,
      "outputs": [
        {
          "output_type": "execute_result",
          "data": {
            "text/plain": [
              "tensor([[True, True, True, True, True, True, True, True, True, True, True, True,\n",
              "         True, True, True, True, True, True, True, True, True, True, True, True,\n",
              "         True, True, True, True, True, True, True, True],\n",
              "        [True, True, True, True, True, True, True, True, True, True, True, True,\n",
              "         True, True, True, True, True, True, True, True, True, True, True, True,\n",
              "         True, True, True, True, True, True, True, True],\n",
              "        [True, True, True, True, True, True, True, True, True, True, True, True,\n",
              "         True, True, True, True, True, True, True, True, True, True, True, True,\n",
              "         True, True, True, True, True, True, True, True],\n",
              "        [True, True, True, True, True, True, True, True, True, True, True, True,\n",
              "         True, True, True, True, True, True, True, True, True, True, True, True,\n",
              "         True, True, True, True, True, True, True, True]])"
            ]
          },
          "metadata": {},
          "execution_count": 32
        }
      ]
    },
    {
      "cell_type": "code",
      "source": [],
      "metadata": {
        "id": "9A12Wddz0zR6"
      },
      "execution_count": null,
      "outputs": []
    }
  ]
}